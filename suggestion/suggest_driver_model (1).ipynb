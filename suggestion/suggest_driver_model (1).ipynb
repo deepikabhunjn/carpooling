{
  "cells": [
    {
      "cell_type": "code",
      "source": [
        "# connect to drive\n",
        "from google.colab import drive\n",
        "drive.mount('/content/drive')"
      ],
      "metadata": {
        "colab": {
          "base_uri": "https://localhost:8080/"
        },
        "id": "y7LYNCufoCN1",
        "outputId": "e2ad94f4-fdf6-42e8-925f-5d5731d767f4"
      },
      "id": "y7LYNCufoCN1",
      "execution_count": null,
      "outputs": [
        {
          "output_type": "stream",
          "name": "stdout",
          "text": [
            "Mounted at /content/drive\n"
          ]
        }
      ]
    },
    {
      "cell_type": "markdown",
      "id": "c6e75f54-9797-4e2f-8b90-17156620a2c4",
      "metadata": {
        "id": "c6e75f54-9797-4e2f-8b90-17156620a2c4"
      },
      "source": [
        "## imports"
      ]
    },
    {
      "cell_type": "code",
      "execution_count": null,
      "id": "15408a7f-ce3e-478a-9fdc-204f8c8985e5",
      "metadata": {
        "id": "15408a7f-ce3e-478a-9fdc-204f8c8985e5"
      },
      "outputs": [],
      "source": [
        "import pandas as pd  # Used for data manipulation and analysis, particularly for working with DataFrames.\n",
        "import numpy as np  # Provides numerical computing capabilities, including arrays and mathematical operations.\n",
        "import matplotlib.pyplot as plt  # Used for data visualization, including creating plots and graphs.\n",
        "import seaborn as sns  # Built on top of Matplotlib, used for statistical data visualization and enhancing plots.\n",
        "import torch  # Provides deep learning functionalities and tensor operations, commonly used with PyTorch models.\n",
        "from transformers import BartForSequenceClassification, BartTokenizer  # Used for NLP tasks, particularly BART model for sequence classification.\n",
        "from sklearn.model_selection import train_test_split  # Splits dataset into training and testing sets for machine learning models.\n",
        "from sklearn.ensemble import RandomForestRegressor  # Implements a Random Forest regression model for predictive analytics.\n",
        "from sklearn.metrics import mean_squared_error, mean_absolute_error, r2_score  # Provides performance metrics for regression models.\n",
        "import joblib  # Used for saving and loading trained machine learning models and preprocessing objects."
      ]
    },
    {
      "cell_type": "markdown",
      "id": "686c67bd-4b9e-4c62-b67c-29b2116d5410",
      "metadata": {
        "id": "686c67bd-4b9e-4c62-b67c-29b2116d5410"
      },
      "source": [
        "# Ensure that the file 'dummy_training_data.xlsx' is in your working directory."
      ]
    },
    {
      "cell_type": "code",
      "execution_count": null,
      "id": "3ebaba6e-9207-401a-882a-2460052ab85c",
      "metadata": {
        "id": "3ebaba6e-9207-401a-882a-2460052ab85c",
        "outputId": "71e48dc0-e00b-4625-ccbe-2a862382949e",
        "colab": {
          "base_uri": "https://localhost:8080/"
        }
      },
      "outputs": [
        {
          "output_type": "stream",
          "name": "stderr",
          "text": [
            "<ipython-input-3-80384c3c87bf>:2: FutureWarning: A value is trying to be set on a copy of a DataFrame or Series through chained assignment using an inplace method.\n",
            "The behavior will change in pandas 3.0. This inplace method will never work because the intermediate object on which we are setting values always behaves as a copy.\n",
            "\n",
            "For example, when doing 'df[col].method(value, inplace=True)', try using 'df.method({col: value}, inplace=True)' or df[col] = df[col].method(value) instead, to perform the operation inplace on the original object.\n",
            "\n",
            "\n",
            "  df[\"customer_review\"].fillna(\"No review provided\", inplace=True) # replacing missing values\n"
          ]
        }
      ],
      "source": [
        "df = pd.read_excel(\"/content/drive/MyDrive/Colab Notebooks/dummy_training_data.xlsx\")\n",
        "df[\"customer_review\"].fillna(\"No review provided\", inplace=True) # replacing missing values"
      ]
    },
    {
      "cell_type": "markdown",
      "id": "eddd5a94-85b4-4138-9d43-32993eff2596",
      "metadata": {
        "id": "eddd5a94-85b4-4138-9d43-32993eff2596"
      },
      "source": [
        "# Sentiment Analysis Setup"
      ]
    },
    {
      "cell_type": "code",
      "source": [
        "model_name = \"facebook/bart-large-mnli\" # transformer : pre trained sequence classification model from FB AI for text classification\n",
        "tokenizer = BartTokenizer.from_pretrained(model_name) # converts text into tokenized format for model inference\n",
        "bart_model = BartForSequenceClassification.from_pretrained(model_name, num_labels=3)"
      ],
      "metadata": {
        "id": "BJVVdbvGDcHN",
        "colab": {
          "base_uri": "https://localhost:8080/",
          "height": 313,
          "referenced_widgets": [
            "f4812f976a11455c8e17905fac2a7b89",
            "5b1845ac05aa4d52bd6c3a438a9be7d0",
            "a01ffcf4f4654dccbb29f366a3c9eb93",
            "e4d79f5bd8ea4edfb5ad5a15930b7d56",
            "48a689b0e942432c9fb3cf6ac0e8205b",
            "3f77e71dacbf439dab134c9f7c72b14d",
            "8687d85aa056442f8bc4c9f5bcb2e8cc",
            "d1cd6194ab604489ba301731b6301ea5",
            "8a842f8e6e18401c911f0cb9eab7345c",
            "21f7e551a6ed4543aaeec752c03ac6a5",
            "0cf3406113ae42f29e1dacc219fff894",
            "75a42804530647eaaa5dc614a53788f0",
            "05872d546acb4a57b8747b1b2a97ca0b",
            "133e170609f04abab4bb571250e6ecd6",
            "15d8fbc551b943d69287d1b5efc48289",
            "594e3b730cb74c53a099668db7aa8ae2",
            "b76f5aa24a87444681b4807707f78434",
            "6b0956d9f85c4da8a09b3b80c1b273ea",
            "ce030c0a487d4228a536585731b64c40",
            "14a2e2f061df4eb3b716f6f57c1ea37c",
            "06209fa974d34f258141cacf0cf0cdbd",
            "97c7bdcf5ff74eea974fb5616b0b9375",
            "732ac04c77fa4dbabdf180b0155e40e7",
            "83f0498a17e642758e999023ae45b2f7",
            "d4df7843dda84cc6afbc2653326133c7",
            "7274faa772e74593bc0ce1abc0c6fc5b",
            "97139429a188437884c54834d32c4b74",
            "7faa97fae41b400984b286477e9996dc",
            "b51ace1d02aa4261a552c68842cbb52a",
            "5ca80e3200734327be3cc8e5a4aa1151",
            "5ef716699b6244279485d7a31165aa68",
            "e19e20b30978402a9a3063c1520cf523",
            "7c1865ef9de141ba86d8be145e0117a2",
            "81c504742aea4534840135033525dc13",
            "f3bdfca448384c2d8fbe82f0bbd6389f",
            "ce8be5c85163427fb766ed6230a42354",
            "62a100a298d847658a67171af9d700ef",
            "1b799bfdcc704e15b0ba5764ed0914ad",
            "36620fa0a1ab441b9f45c54c90491b30",
            "3413a0d071c845b59ec103138cf64de8",
            "91d0353c887d4714a5ce3471509ed3fb",
            "8cff25fce0ee4c28817fad8d8a2f4c35",
            "4385f749fbb34c89a90ab35a4fe47df3",
            "b0bd669c7f104b54bcb12c96d4c35e3a",
            "7ad146b5553347ea82cf08b915c149f3",
            "e21f54c9fa3a4115828c83ba533702ac",
            "3d3f1f590a6642bcb0c5fa5d08a835ae",
            "099105f87a034d2c9f1b6c0f080fc70c",
            "32148baa3c1e4abdb300a56ce5cf0f8e",
            "192c1c1ce9ed4c0cbcc0ab6df9bf4957",
            "6160bf1ddcd64007a830c6f501599052",
            "36d100213ca5413096f406e6361d28aa",
            "9e3cec22f6f646b2b37e2654bcf5d7b7",
            "ac02676641a24a06931c735df211c5ad",
            "270fcc5100714367a7765b28ed5fe33d",
            "de71e0f914f141159a61486e3f8cfc09",
            "1ec34d6d39454d6892ec5d179935c1d2",
            "83149e5ddace444cb8572b6744e7171b",
            "25cd92eb331b476a9157def628f37c09",
            "11203624e8e343fc8c8fe70bf7758487",
            "cf75f0b8d1764908996312893785e527",
            "664b7aa3933c47b09c1b14fe96459d1c",
            "0f13453ad9e44e178814f2f41873ff47",
            "e37f1df6cfb3461db9c2d1f9fb0d2ad5",
            "004391621fc845fd96275493e4c19892",
            "1bd3a079c24c4274bfbfee98e77197e6"
          ]
        },
        "outputId": "d30c2a80-6a14-4403-e177-6eb0207c597e"
      },
      "id": "BJVVdbvGDcHN",
      "execution_count": null,
      "outputs": [
        {
          "output_type": "stream",
          "name": "stderr",
          "text": [
            "/usr/local/lib/python3.11/dist-packages/huggingface_hub/utils/_auth.py:94: UserWarning: \n",
            "The secret `HF_TOKEN` does not exist in your Colab secrets.\n",
            "To authenticate with the Hugging Face Hub, create a token in your settings tab (https://huggingface.co/settings/tokens), set it as secret in your Google Colab and restart your session.\n",
            "You will be able to reuse this secret in all of your notebooks.\n",
            "Please note that authentication is recommended but still optional to access public models or datasets.\n",
            "  warnings.warn(\n"
          ]
        },
        {
          "output_type": "display_data",
          "data": {
            "text/plain": [
              "tokenizer_config.json:   0%|          | 0.00/26.0 [00:00<?, ?B/s]"
            ],
            "application/vnd.jupyter.widget-view+json": {
              "version_major": 2,
              "version_minor": 0,
              "model_id": "f4812f976a11455c8e17905fac2a7b89"
            }
          },
          "metadata": {}
        },
        {
          "output_type": "display_data",
          "data": {
            "text/plain": [
              "vocab.json:   0%|          | 0.00/899k [00:00<?, ?B/s]"
            ],
            "application/vnd.jupyter.widget-view+json": {
              "version_major": 2,
              "version_minor": 0,
              "model_id": "75a42804530647eaaa5dc614a53788f0"
            }
          },
          "metadata": {}
        },
        {
          "output_type": "display_data",
          "data": {
            "text/plain": [
              "merges.txt:   0%|          | 0.00/456k [00:00<?, ?B/s]"
            ],
            "application/vnd.jupyter.widget-view+json": {
              "version_major": 2,
              "version_minor": 0,
              "model_id": "732ac04c77fa4dbabdf180b0155e40e7"
            }
          },
          "metadata": {}
        },
        {
          "output_type": "display_data",
          "data": {
            "text/plain": [
              "tokenizer.json:   0%|          | 0.00/1.36M [00:00<?, ?B/s]"
            ],
            "application/vnd.jupyter.widget-view+json": {
              "version_major": 2,
              "version_minor": 0,
              "model_id": "81c504742aea4534840135033525dc13"
            }
          },
          "metadata": {}
        },
        {
          "output_type": "display_data",
          "data": {
            "text/plain": [
              "config.json:   0%|          | 0.00/1.15k [00:00<?, ?B/s]"
            ],
            "application/vnd.jupyter.widget-view+json": {
              "version_major": 2,
              "version_minor": 0,
              "model_id": "7ad146b5553347ea82cf08b915c149f3"
            }
          },
          "metadata": {}
        },
        {
          "output_type": "display_data",
          "data": {
            "text/plain": [
              "model.safetensors:   0%|          | 0.00/1.63G [00:00<?, ?B/s]"
            ],
            "application/vnd.jupyter.widget-view+json": {
              "version_major": 2,
              "version_minor": 0,
              "model_id": "de71e0f914f141159a61486e3f8cfc09"
            }
          },
          "metadata": {}
        }
      ]
    },
    {
      "cell_type": "code",
      "execution_count": null,
      "id": "4c8e1e6d-d155-4575-b084-36775bc00c51",
      "metadata": {
        "id": "4c8e1e6d-d155-4575-b084-36775bc00c51"
      },
      "outputs": [],
      "source": [
        "def analyze_sentiment(text):\n",
        "    \"\"\"\n",
        "    Compute the sentiment score as the difference between positive and negative\n",
        "    probabilities from BART, and apply penalties for negative reviews and bonuses\n",
        "    for positive reviews based on keywords.\n",
        "    \"\"\"\n",
        "    # Tokenizing and processing reviews to predict score\n",
        "    inputs = tokenizer(text, return_tensors=\"pt\", truncation=True, padding=True)\n",
        "\n",
        "    with torch.no_grad():\n",
        "        logits = bart_model(**inputs).logits\n",
        "\n",
        "    # Converting model logits into class probabilities\n",
        "    scores = torch.nn.functional.softmax(logits, dim=-1).tolist()[0]\n",
        "\n",
        "    # Assumed label order: [Negative, Neutral, Positive]\n",
        "    base_score = scores[2] - scores[0]\n",
        "\n",
        "    # Apply penalty for negative keywords\n",
        "    negative_keywords = [\"poor\", \"bad\", \"subpar\", \"rude\", \"dirty\", \"late\"]\n",
        "    if any(word in text.lower() for word in negative_keywords):\n",
        "        base_score -= 0.7  # Adjust this penalty as needed\n",
        "\n",
        "    # Apply bonus for positive keywords\n",
        "    positive_keywords = [\"excellent\", \"good\", \"great\", \"friendly\", \"amazing\", \"smooth\"]\n",
        "    if any(word in text.lower() for word in positive_keywords):\n",
        "        base_score += 0.7  # Adjust this bonus as needed\n",
        "\n",
        "    return base_score\n"
      ]
    },
    {
      "cell_type": "markdown",
      "id": "c55c7b7e-c462-4a0e-aaaa-3e5dbccf82af",
      "metadata": {
        "id": "c55c7b7e-c462-4a0e-aaaa-3e5dbccf82af"
      },
      "source": [
        "# Compute sentiment scores and convert them to a 1–5 scale rating."
      ]
    },
    {
      "cell_type": "code",
      "execution_count": null,
      "id": "d43b01b0-cbce-444d-addd-f23d04eefcaf",
      "metadata": {
        "id": "d43b01b0-cbce-444d-addd-f23d04eefcaf"
      },
      "outputs": [],
      "source": [
        "# Feature engineering\n",
        "# Compute sentiment scores and convert them to a 1–5 scale rating.\n",
        "df[\"review_sentiment\"] = df[\"customer_review\"].apply(analyze_sentiment)\n",
        "df[\"sentiment_rating\"] = (df[\"review_sentiment\"] + 1) * 2.5   # maps score from (-1,1) → (1,5)"
      ]
    },
    {
      "cell_type": "markdown",
      "id": "23e2609b-4ffd-4d85-8942-58bb3a420da2",
      "metadata": {
        "id": "23e2609b-4ffd-4d85-8942-58bb3a420da2"
      },
      "source": [
        "# Overall Rating Calculation"
      ]
    },
    {
      "cell_type": "markdown",
      "id": "83ea7c9c-41bb-4248-bd23-0d94581fdeaf",
      "metadata": {
        "id": "83ea7c9c-41bb-4248-bd23-0d94581fdeaf"
      },
      "source": [
        "## Overall rating is a weighted combination: 70% average_rating, 30% sentiment_rating"
      ]
    },
    {
      "cell_type": "code",
      "execution_count": null,
      "id": "a7f188b9-cc77-4ce1-9880-a6a3a3bb9834",
      "metadata": {
        "id": "a7f188b9-cc77-4ce1-9880-a6a3a3bb9834"
      },
      "outputs": [],
      "source": [
        "df[\"overall_rating\"] = (0.7 * df[\"average_rating\"]) + (0.3 * df[\"sentiment_rating\"])"
      ]
    },
    {
      "cell_type": "markdown",
      "source": [
        "# Aggregate reviews by driver"
      ],
      "metadata": {
        "id": "WcIGZ5HHwKkU"
      },
      "id": "WcIGZ5HHwKkU"
    },
    {
      "cell_type": "markdown",
      "source": [],
      "metadata": {
        "id": "whJUfwzxh6-F"
      },
      "id": "whJUfwzxh6-F"
    },
    {
      "cell_type": "code",
      "source": [
        "# If a driver has multiple reviews, aggregate them by averaging the ratings.\n",
        "agg_df = df.groupby(\"driver_id\").agg({\n",
        "    \"average_rating\": \"mean\",\n",
        "    \"sentiment_rating\": \"mean\"\n",
        "}).reset_index()\n",
        "agg_df[\"overall_rating\"] = (0.7 * agg_df[\"average_rating\"]) + (0.3 * agg_df[\"sentiment_rating\"])"
      ],
      "metadata": {
        "id": "tO9pkm3hwPRc"
      },
      "id": "tO9pkm3hwPRc",
      "execution_count": null,
      "outputs": []
    },
    {
      "cell_type": "markdown",
      "id": "c9c3b883-5d35-4d47-9b60-ef5c53767727",
      "metadata": {
        "id": "c9c3b883-5d35-4d47-9b60-ef5c53767727"
      },
      "source": [
        "# Model Training"
      ]
    },
    {
      "cell_type": "markdown",
      "id": "515da436-81d6-4576-b599-66112886bed7",
      "metadata": {
        "id": "515da436-81d6-4576-b599-66112886bed7"
      },
      "source": [
        "# Prepare features and target variable"
      ]
    },
    {
      "cell_type": "code",
      "execution_count": null,
      "id": "c9ccaf13-ac06-45c7-a3ea-cf500d1d8840",
      "metadata": {
        "id": "c9ccaf13-ac06-45c7-a3ea-cf500d1d8840"
      },
      "outputs": [],
      "source": [
        "X = agg_df[[\"average_rating\", \"sentiment_rating\"]]\n",
        "y = agg_df[\"overall_rating\"]"
      ]
    },
    {
      "cell_type": "markdown",
      "id": "755ea95e-8c99-467a-b8e5-011976be486e",
      "metadata": {
        "id": "755ea95e-8c99-467a-b8e5-011976be486e"
      },
      "source": [
        "# Split the data into training (80%) and testing (20%) sets"
      ]
    },
    {
      "cell_type": "code",
      "execution_count": null,
      "id": "7363df01-0de3-472c-89ee-c56910d87f40",
      "metadata": {
        "id": "7363df01-0de3-472c-89ee-c56910d87f40"
      },
      "outputs": [],
      "source": [
        "X_train, X_test, y_train, y_test = train_test_split(X, y, test_size=0.2, random_state=42)"
      ]
    },
    {
      "cell_type": "markdown",
      "id": "c5b69e57-5f73-4ee3-a551-05197bf2d416",
      "metadata": {
        "id": "c5b69e57-5f73-4ee3-a551-05197bf2d416"
      },
      "source": [
        "# Train a RandomForestRegressor"
      ]
    },
    {
      "cell_type": "code",
      "execution_count": null,
      "id": "303af37f-530b-4495-a6c4-d01caeca28c9",
      "metadata": {
        "id": "303af37f-530b-4495-a6c4-d01caeca28c9",
        "colab": {
          "base_uri": "https://localhost:8080/",
          "height": 80
        },
        "outputId": "4e982424-aa58-4ab7-e53a-a2fa34050566"
      },
      "outputs": [
        {
          "output_type": "execute_result",
          "data": {
            "text/plain": [
              "RandomForestRegressor(random_state=42)"
            ],
            "text/html": [
              "<style>#sk-container-id-2 {\n",
              "  /* Definition of color scheme common for light and dark mode */\n",
              "  --sklearn-color-text: #000;\n",
              "  --sklearn-color-text-muted: #666;\n",
              "  --sklearn-color-line: gray;\n",
              "  /* Definition of color scheme for unfitted estimators */\n",
              "  --sklearn-color-unfitted-level-0: #fff5e6;\n",
              "  --sklearn-color-unfitted-level-1: #f6e4d2;\n",
              "  --sklearn-color-unfitted-level-2: #ffe0b3;\n",
              "  --sklearn-color-unfitted-level-3: chocolate;\n",
              "  /* Definition of color scheme for fitted estimators */\n",
              "  --sklearn-color-fitted-level-0: #f0f8ff;\n",
              "  --sklearn-color-fitted-level-1: #d4ebff;\n",
              "  --sklearn-color-fitted-level-2: #b3dbfd;\n",
              "  --sklearn-color-fitted-level-3: cornflowerblue;\n",
              "\n",
              "  /* Specific color for light theme */\n",
              "  --sklearn-color-text-on-default-background: var(--sg-text-color, var(--theme-code-foreground, var(--jp-content-font-color1, black)));\n",
              "  --sklearn-color-background: var(--sg-background-color, var(--theme-background, var(--jp-layout-color0, white)));\n",
              "  --sklearn-color-border-box: var(--sg-text-color, var(--theme-code-foreground, var(--jp-content-font-color1, black)));\n",
              "  --sklearn-color-icon: #696969;\n",
              "\n",
              "  @media (prefers-color-scheme: dark) {\n",
              "    /* Redefinition of color scheme for dark theme */\n",
              "    --sklearn-color-text-on-default-background: var(--sg-text-color, var(--theme-code-foreground, var(--jp-content-font-color1, white)));\n",
              "    --sklearn-color-background: var(--sg-background-color, var(--theme-background, var(--jp-layout-color0, #111)));\n",
              "    --sklearn-color-border-box: var(--sg-text-color, var(--theme-code-foreground, var(--jp-content-font-color1, white)));\n",
              "    --sklearn-color-icon: #878787;\n",
              "  }\n",
              "}\n",
              "\n",
              "#sk-container-id-2 {\n",
              "  color: var(--sklearn-color-text);\n",
              "}\n",
              "\n",
              "#sk-container-id-2 pre {\n",
              "  padding: 0;\n",
              "}\n",
              "\n",
              "#sk-container-id-2 input.sk-hidden--visually {\n",
              "  border: 0;\n",
              "  clip: rect(1px 1px 1px 1px);\n",
              "  clip: rect(1px, 1px, 1px, 1px);\n",
              "  height: 1px;\n",
              "  margin: -1px;\n",
              "  overflow: hidden;\n",
              "  padding: 0;\n",
              "  position: absolute;\n",
              "  width: 1px;\n",
              "}\n",
              "\n",
              "#sk-container-id-2 div.sk-dashed-wrapped {\n",
              "  border: 1px dashed var(--sklearn-color-line);\n",
              "  margin: 0 0.4em 0.5em 0.4em;\n",
              "  box-sizing: border-box;\n",
              "  padding-bottom: 0.4em;\n",
              "  background-color: var(--sklearn-color-background);\n",
              "}\n",
              "\n",
              "#sk-container-id-2 div.sk-container {\n",
              "  /* jupyter's `normalize.less` sets `[hidden] { display: none; }`\n",
              "     but bootstrap.min.css set `[hidden] { display: none !important; }`\n",
              "     so we also need the `!important` here to be able to override the\n",
              "     default hidden behavior on the sphinx rendered scikit-learn.org.\n",
              "     See: https://github.com/scikit-learn/scikit-learn/issues/21755 */\n",
              "  display: inline-block !important;\n",
              "  position: relative;\n",
              "}\n",
              "\n",
              "#sk-container-id-2 div.sk-text-repr-fallback {\n",
              "  display: none;\n",
              "}\n",
              "\n",
              "div.sk-parallel-item,\n",
              "div.sk-serial,\n",
              "div.sk-item {\n",
              "  /* draw centered vertical line to link estimators */\n",
              "  background-image: linear-gradient(var(--sklearn-color-text-on-default-background), var(--sklearn-color-text-on-default-background));\n",
              "  background-size: 2px 100%;\n",
              "  background-repeat: no-repeat;\n",
              "  background-position: center center;\n",
              "}\n",
              "\n",
              "/* Parallel-specific style estimator block */\n",
              "\n",
              "#sk-container-id-2 div.sk-parallel-item::after {\n",
              "  content: \"\";\n",
              "  width: 100%;\n",
              "  border-bottom: 2px solid var(--sklearn-color-text-on-default-background);\n",
              "  flex-grow: 1;\n",
              "}\n",
              "\n",
              "#sk-container-id-2 div.sk-parallel {\n",
              "  display: flex;\n",
              "  align-items: stretch;\n",
              "  justify-content: center;\n",
              "  background-color: var(--sklearn-color-background);\n",
              "  position: relative;\n",
              "}\n",
              "\n",
              "#sk-container-id-2 div.sk-parallel-item {\n",
              "  display: flex;\n",
              "  flex-direction: column;\n",
              "}\n",
              "\n",
              "#sk-container-id-2 div.sk-parallel-item:first-child::after {\n",
              "  align-self: flex-end;\n",
              "  width: 50%;\n",
              "}\n",
              "\n",
              "#sk-container-id-2 div.sk-parallel-item:last-child::after {\n",
              "  align-self: flex-start;\n",
              "  width: 50%;\n",
              "}\n",
              "\n",
              "#sk-container-id-2 div.sk-parallel-item:only-child::after {\n",
              "  width: 0;\n",
              "}\n",
              "\n",
              "/* Serial-specific style estimator block */\n",
              "\n",
              "#sk-container-id-2 div.sk-serial {\n",
              "  display: flex;\n",
              "  flex-direction: column;\n",
              "  align-items: center;\n",
              "  background-color: var(--sklearn-color-background);\n",
              "  padding-right: 1em;\n",
              "  padding-left: 1em;\n",
              "}\n",
              "\n",
              "\n",
              "/* Toggleable style: style used for estimator/Pipeline/ColumnTransformer box that is\n",
              "clickable and can be expanded/collapsed.\n",
              "- Pipeline and ColumnTransformer use this feature and define the default style\n",
              "- Estimators will overwrite some part of the style using the `sk-estimator` class\n",
              "*/\n",
              "\n",
              "/* Pipeline and ColumnTransformer style (default) */\n",
              "\n",
              "#sk-container-id-2 div.sk-toggleable {\n",
              "  /* Default theme specific background. It is overwritten whether we have a\n",
              "  specific estimator or a Pipeline/ColumnTransformer */\n",
              "  background-color: var(--sklearn-color-background);\n",
              "}\n",
              "\n",
              "/* Toggleable label */\n",
              "#sk-container-id-2 label.sk-toggleable__label {\n",
              "  cursor: pointer;\n",
              "  display: flex;\n",
              "  width: 100%;\n",
              "  margin-bottom: 0;\n",
              "  padding: 0.5em;\n",
              "  box-sizing: border-box;\n",
              "  text-align: center;\n",
              "  align-items: start;\n",
              "  justify-content: space-between;\n",
              "  gap: 0.5em;\n",
              "}\n",
              "\n",
              "#sk-container-id-2 label.sk-toggleable__label .caption {\n",
              "  font-size: 0.6rem;\n",
              "  font-weight: lighter;\n",
              "  color: var(--sklearn-color-text-muted);\n",
              "}\n",
              "\n",
              "#sk-container-id-2 label.sk-toggleable__label-arrow:before {\n",
              "  /* Arrow on the left of the label */\n",
              "  content: \"▸\";\n",
              "  float: left;\n",
              "  margin-right: 0.25em;\n",
              "  color: var(--sklearn-color-icon);\n",
              "}\n",
              "\n",
              "#sk-container-id-2 label.sk-toggleable__label-arrow:hover:before {\n",
              "  color: var(--sklearn-color-text);\n",
              "}\n",
              "\n",
              "/* Toggleable content - dropdown */\n",
              "\n",
              "#sk-container-id-2 div.sk-toggleable__content {\n",
              "  max-height: 0;\n",
              "  max-width: 0;\n",
              "  overflow: hidden;\n",
              "  text-align: left;\n",
              "  /* unfitted */\n",
              "  background-color: var(--sklearn-color-unfitted-level-0);\n",
              "}\n",
              "\n",
              "#sk-container-id-2 div.sk-toggleable__content.fitted {\n",
              "  /* fitted */\n",
              "  background-color: var(--sklearn-color-fitted-level-0);\n",
              "}\n",
              "\n",
              "#sk-container-id-2 div.sk-toggleable__content pre {\n",
              "  margin: 0.2em;\n",
              "  border-radius: 0.25em;\n",
              "  color: var(--sklearn-color-text);\n",
              "  /* unfitted */\n",
              "  background-color: var(--sklearn-color-unfitted-level-0);\n",
              "}\n",
              "\n",
              "#sk-container-id-2 div.sk-toggleable__content.fitted pre {\n",
              "  /* unfitted */\n",
              "  background-color: var(--sklearn-color-fitted-level-0);\n",
              "}\n",
              "\n",
              "#sk-container-id-2 input.sk-toggleable__control:checked~div.sk-toggleable__content {\n",
              "  /* Expand drop-down */\n",
              "  max-height: 200px;\n",
              "  max-width: 100%;\n",
              "  overflow: auto;\n",
              "}\n",
              "\n",
              "#sk-container-id-2 input.sk-toggleable__control:checked~label.sk-toggleable__label-arrow:before {\n",
              "  content: \"▾\";\n",
              "}\n",
              "\n",
              "/* Pipeline/ColumnTransformer-specific style */\n",
              "\n",
              "#sk-container-id-2 div.sk-label input.sk-toggleable__control:checked~label.sk-toggleable__label {\n",
              "  color: var(--sklearn-color-text);\n",
              "  background-color: var(--sklearn-color-unfitted-level-2);\n",
              "}\n",
              "\n",
              "#sk-container-id-2 div.sk-label.fitted input.sk-toggleable__control:checked~label.sk-toggleable__label {\n",
              "  background-color: var(--sklearn-color-fitted-level-2);\n",
              "}\n",
              "\n",
              "/* Estimator-specific style */\n",
              "\n",
              "/* Colorize estimator box */\n",
              "#sk-container-id-2 div.sk-estimator input.sk-toggleable__control:checked~label.sk-toggleable__label {\n",
              "  /* unfitted */\n",
              "  background-color: var(--sklearn-color-unfitted-level-2);\n",
              "}\n",
              "\n",
              "#sk-container-id-2 div.sk-estimator.fitted input.sk-toggleable__control:checked~label.sk-toggleable__label {\n",
              "  /* fitted */\n",
              "  background-color: var(--sklearn-color-fitted-level-2);\n",
              "}\n",
              "\n",
              "#sk-container-id-2 div.sk-label label.sk-toggleable__label,\n",
              "#sk-container-id-2 div.sk-label label {\n",
              "  /* The background is the default theme color */\n",
              "  color: var(--sklearn-color-text-on-default-background);\n",
              "}\n",
              "\n",
              "/* On hover, darken the color of the background */\n",
              "#sk-container-id-2 div.sk-label:hover label.sk-toggleable__label {\n",
              "  color: var(--sklearn-color-text);\n",
              "  background-color: var(--sklearn-color-unfitted-level-2);\n",
              "}\n",
              "\n",
              "/* Label box, darken color on hover, fitted */\n",
              "#sk-container-id-2 div.sk-label.fitted:hover label.sk-toggleable__label.fitted {\n",
              "  color: var(--sklearn-color-text);\n",
              "  background-color: var(--sklearn-color-fitted-level-2);\n",
              "}\n",
              "\n",
              "/* Estimator label */\n",
              "\n",
              "#sk-container-id-2 div.sk-label label {\n",
              "  font-family: monospace;\n",
              "  font-weight: bold;\n",
              "  display: inline-block;\n",
              "  line-height: 1.2em;\n",
              "}\n",
              "\n",
              "#sk-container-id-2 div.sk-label-container {\n",
              "  text-align: center;\n",
              "}\n",
              "\n",
              "/* Estimator-specific */\n",
              "#sk-container-id-2 div.sk-estimator {\n",
              "  font-family: monospace;\n",
              "  border: 1px dotted var(--sklearn-color-border-box);\n",
              "  border-radius: 0.25em;\n",
              "  box-sizing: border-box;\n",
              "  margin-bottom: 0.5em;\n",
              "  /* unfitted */\n",
              "  background-color: var(--sklearn-color-unfitted-level-0);\n",
              "}\n",
              "\n",
              "#sk-container-id-2 div.sk-estimator.fitted {\n",
              "  /* fitted */\n",
              "  background-color: var(--sklearn-color-fitted-level-0);\n",
              "}\n",
              "\n",
              "/* on hover */\n",
              "#sk-container-id-2 div.sk-estimator:hover {\n",
              "  /* unfitted */\n",
              "  background-color: var(--sklearn-color-unfitted-level-2);\n",
              "}\n",
              "\n",
              "#sk-container-id-2 div.sk-estimator.fitted:hover {\n",
              "  /* fitted */\n",
              "  background-color: var(--sklearn-color-fitted-level-2);\n",
              "}\n",
              "\n",
              "/* Specification for estimator info (e.g. \"i\" and \"?\") */\n",
              "\n",
              "/* Common style for \"i\" and \"?\" */\n",
              "\n",
              ".sk-estimator-doc-link,\n",
              "a:link.sk-estimator-doc-link,\n",
              "a:visited.sk-estimator-doc-link {\n",
              "  float: right;\n",
              "  font-size: smaller;\n",
              "  line-height: 1em;\n",
              "  font-family: monospace;\n",
              "  background-color: var(--sklearn-color-background);\n",
              "  border-radius: 1em;\n",
              "  height: 1em;\n",
              "  width: 1em;\n",
              "  text-decoration: none !important;\n",
              "  margin-left: 0.5em;\n",
              "  text-align: center;\n",
              "  /* unfitted */\n",
              "  border: var(--sklearn-color-unfitted-level-1) 1pt solid;\n",
              "  color: var(--sklearn-color-unfitted-level-1);\n",
              "}\n",
              "\n",
              ".sk-estimator-doc-link.fitted,\n",
              "a:link.sk-estimator-doc-link.fitted,\n",
              "a:visited.sk-estimator-doc-link.fitted {\n",
              "  /* fitted */\n",
              "  border: var(--sklearn-color-fitted-level-1) 1pt solid;\n",
              "  color: var(--sklearn-color-fitted-level-1);\n",
              "}\n",
              "\n",
              "/* On hover */\n",
              "div.sk-estimator:hover .sk-estimator-doc-link:hover,\n",
              ".sk-estimator-doc-link:hover,\n",
              "div.sk-label-container:hover .sk-estimator-doc-link:hover,\n",
              ".sk-estimator-doc-link:hover {\n",
              "  /* unfitted */\n",
              "  background-color: var(--sklearn-color-unfitted-level-3);\n",
              "  color: var(--sklearn-color-background);\n",
              "  text-decoration: none;\n",
              "}\n",
              "\n",
              "div.sk-estimator.fitted:hover .sk-estimator-doc-link.fitted:hover,\n",
              ".sk-estimator-doc-link.fitted:hover,\n",
              "div.sk-label-container:hover .sk-estimator-doc-link.fitted:hover,\n",
              ".sk-estimator-doc-link.fitted:hover {\n",
              "  /* fitted */\n",
              "  background-color: var(--sklearn-color-fitted-level-3);\n",
              "  color: var(--sklearn-color-background);\n",
              "  text-decoration: none;\n",
              "}\n",
              "\n",
              "/* Span, style for the box shown on hovering the info icon */\n",
              ".sk-estimator-doc-link span {\n",
              "  display: none;\n",
              "  z-index: 9999;\n",
              "  position: relative;\n",
              "  font-weight: normal;\n",
              "  right: .2ex;\n",
              "  padding: .5ex;\n",
              "  margin: .5ex;\n",
              "  width: min-content;\n",
              "  min-width: 20ex;\n",
              "  max-width: 50ex;\n",
              "  color: var(--sklearn-color-text);\n",
              "  box-shadow: 2pt 2pt 4pt #999;\n",
              "  /* unfitted */\n",
              "  background: var(--sklearn-color-unfitted-level-0);\n",
              "  border: .5pt solid var(--sklearn-color-unfitted-level-3);\n",
              "}\n",
              "\n",
              ".sk-estimator-doc-link.fitted span {\n",
              "  /* fitted */\n",
              "  background: var(--sklearn-color-fitted-level-0);\n",
              "  border: var(--sklearn-color-fitted-level-3);\n",
              "}\n",
              "\n",
              ".sk-estimator-doc-link:hover span {\n",
              "  display: block;\n",
              "}\n",
              "\n",
              "/* \"?\"-specific style due to the `<a>` HTML tag */\n",
              "\n",
              "#sk-container-id-2 a.estimator_doc_link {\n",
              "  float: right;\n",
              "  font-size: 1rem;\n",
              "  line-height: 1em;\n",
              "  font-family: monospace;\n",
              "  background-color: var(--sklearn-color-background);\n",
              "  border-radius: 1rem;\n",
              "  height: 1rem;\n",
              "  width: 1rem;\n",
              "  text-decoration: none;\n",
              "  /* unfitted */\n",
              "  color: var(--sklearn-color-unfitted-level-1);\n",
              "  border: var(--sklearn-color-unfitted-level-1) 1pt solid;\n",
              "}\n",
              "\n",
              "#sk-container-id-2 a.estimator_doc_link.fitted {\n",
              "  /* fitted */\n",
              "  border: var(--sklearn-color-fitted-level-1) 1pt solid;\n",
              "  color: var(--sklearn-color-fitted-level-1);\n",
              "}\n",
              "\n",
              "/* On hover */\n",
              "#sk-container-id-2 a.estimator_doc_link:hover {\n",
              "  /* unfitted */\n",
              "  background-color: var(--sklearn-color-unfitted-level-3);\n",
              "  color: var(--sklearn-color-background);\n",
              "  text-decoration: none;\n",
              "}\n",
              "\n",
              "#sk-container-id-2 a.estimator_doc_link.fitted:hover {\n",
              "  /* fitted */\n",
              "  background-color: var(--sklearn-color-fitted-level-3);\n",
              "}\n",
              "</style><div id=\"sk-container-id-2\" class=\"sk-top-container\"><div class=\"sk-text-repr-fallback\"><pre>RandomForestRegressor(random_state=42)</pre><b>In a Jupyter environment, please rerun this cell to show the HTML representation or trust the notebook. <br />On GitHub, the HTML representation is unable to render, please try loading this page with nbviewer.org.</b></div><div class=\"sk-container\" hidden><div class=\"sk-item\"><div class=\"sk-estimator fitted sk-toggleable\"><input class=\"sk-toggleable__control sk-hidden--visually\" id=\"sk-estimator-id-2\" type=\"checkbox\" checked><label for=\"sk-estimator-id-2\" class=\"sk-toggleable__label fitted sk-toggleable__label-arrow\"><div><div>RandomForestRegressor</div></div><div><a class=\"sk-estimator-doc-link fitted\" rel=\"noreferrer\" target=\"_blank\" href=\"https://scikit-learn.org/1.6/modules/generated/sklearn.ensemble.RandomForestRegressor.html\">?<span>Documentation for RandomForestRegressor</span></a><span class=\"sk-estimator-doc-link fitted\">i<span>Fitted</span></span></div></label><div class=\"sk-toggleable__content fitted\"><pre>RandomForestRegressor(random_state=42)</pre></div> </div></div></div></div>"
            ]
          },
          "metadata": {},
          "execution_count": 30
        }
      ],
      "source": [
        "regressor = RandomForestRegressor(n_estimators=100, random_state=42) #trains multiple decision trees and aggregates their outputs.\n",
        "regressor.fit(X_train, y_train)"
      ]
    },
    {
      "cell_type": "markdown",
      "id": "6214644f-5e75-4054-8f11-45f01a5571a5",
      "metadata": {
        "id": "6214644f-5e75-4054-8f11-45f01a5571a5"
      },
      "source": [
        "# Make predictions on the test set"
      ]
    },
    {
      "cell_type": "code",
      "execution_count": null,
      "id": "ba4d0e2c-7ce5-475a-91b9-df68589081bc",
      "metadata": {
        "id": "ba4d0e2c-7ce5-475a-91b9-df68589081bc"
      },
      "outputs": [],
      "source": [
        "y_pred = regressor.predict(X_test)"
      ]
    },
    {
      "cell_type": "markdown",
      "id": "f60c4f6b-0324-482b-83c3-0a7959aae3fc",
      "metadata": {
        "id": "f60c4f6b-0324-482b-83c3-0a7959aae3fc"
      },
      "source": [
        "# Evaluation Metrics on Training Test Set"
      ]
    },
    {
      "cell_type": "code",
      "execution_count": null,
      "id": "aed2e4c6-571a-4579-b4db-2ca8b046f76f",
      "metadata": {
        "id": "aed2e4c6-571a-4579-b4db-2ca8b046f76f"
      },
      "outputs": [],
      "source": [
        "mse = mean_squared_error(y_test, y_pred)\n",
        "rmse = np.sqrt(mse)\n",
        "mae = mean_absolute_error(y_test, y_pred)\n",
        "r2 = r2_score(y_test, y_pred)"
      ]
    },
    {
      "cell_type": "markdown",
      "source": [
        "Mean Squared Error (MSE): Measures average squared prediction error.\n",
        "Root Mean Squared Error (RMSE): Standard deviation of residuals.\n",
        "Mean Absolute Error (MAE): Measures average absolute error in predictions.\n",
        "R² Score: Determines how well the model fits the data."
      ],
      "metadata": {
        "id": "u0EcDS02BJQX"
      },
      "id": "u0EcDS02BJQX"
    },
    {
      "cell_type": "code",
      "execution_count": null,
      "id": "21b28185-c1ca-4645-a2ca-9b37d93be014",
      "metadata": {
        "id": "21b28185-c1ca-4645-a2ca-9b37d93be014",
        "colab": {
          "base_uri": "https://localhost:8080/"
        },
        "outputId": "4992f241-7367-4049-ef1a-e79e1edd7498"
      },
      "outputs": [
        {
          "output_type": "stream",
          "name": "stdout",
          "text": [
            "Evaluation Metrics on Training Test Set:\n",
            "Mean Squared Error (MSE): 0.003027035319857802\n",
            "Root Mean Squared Error (RMSE): 0.055018499796503015\n",
            "Mean Absolute Error (MAE): 0.03665075811722758\n",
            "R2 Score: 0.996420940851355\n"
          ]
        }
      ],
      "source": [
        "print(\"Evaluation Metrics on Training Test Set:\")\n",
        "print(\"Mean Squared Error (MSE):\", mse)\n",
        "print(\"Root Mean Squared Error (RMSE):\", rmse)\n",
        "print(\"Mean Absolute Error (MAE):\", mae)\n",
        "print(\"R2 Score:\", r2)\n"
      ]
    },
    {
      "cell_type": "markdown",
      "id": "cdd39a74-9fc3-495a-9091-b403d7903a14",
      "metadata": {
        "id": "cdd39a74-9fc3-495a-9091-b403d7903a14"
      },
      "source": [
        "# Visualizations for Training Test Set"
      ]
    },
    {
      "cell_type": "markdown",
      "id": "f14246d5-764d-4aec-956e-c44da4b414de",
      "metadata": {
        "id": "f14246d5-764d-4aec-956e-c44da4b414de"
      },
      "source": [
        "# Scatter Plot: Actual vs Predicted Overall Ratings"
      ]
    },
    {
      "cell_type": "code",
      "execution_count": null,
      "id": "b2d06c4d-d88a-4454-97fc-b79a594c0456",
      "metadata": {
        "id": "b2d06c4d-d88a-4454-97fc-b79a594c0456",
        "colab": {
          "base_uri": "https://localhost:8080/",
          "height": 564
        },
        "outputId": "84fabffb-c831-411c-9a59-1a2fc915c3d2"
      },
      "outputs": [
        {
          "output_type": "display_data",
          "data": {
            "text/plain": [
              "<Figure size 800x600 with 1 Axes>"
            ],
            "image/png": "[encoded data removed]"
          },
          "metadata": {}
        }
      ],
      "source": [
        "plt.figure(figsize=(8, 6))\n",
        "plt.scatter(y_test, y_pred, color='blue', alpha=0.7)\n",
        "plt.plot([y_test.min(), y_test.max()], [y_test.min(), y_test.max()], 'r--', lw=2)\n",
        "plt.xlabel(\"Actual Overall Rating\")\n",
        "plt.ylabel(\"Predicted Overall Rating\")\n",
        "plt.title(\"Actual vs Predicted Overall Rating (Training Test Set)\")\n",
        "plt.show()"
      ]
    },
    {
      "cell_type": "markdown",
      "id": "150e3c09-f9ce-4c0e-a02b-f2d503ac4676",
      "metadata": {
        "id": "150e3c09-f9ce-4c0e-a02b-f2d503ac4676"
      },
      "source": [
        "# Residuals Distribution Plot"
      ]
    },
    {
      "cell_type": "code",
      "execution_count": null,
      "id": "95a4cf5e-30d6-4a17-ac2c-677e838eb2be",
      "metadata": {
        "id": "95a4cf5e-30d6-4a17-ac2c-677e838eb2be",
        "colab": {
          "base_uri": "https://localhost:8080/",
          "height": 564
        },
        "outputId": "87b185d5-9e96-41e7-fcc0-12c16e3c05c3"
      },
      "outputs": [
        {
          "output_type": "display_data",
          "data": {
            "text/plain": [
              "<Figure size 800x600 with 1 Axes>"
            ],
            "image/png": "[encoded data removed]"
          },
          "metadata": {}
        }
      ],
      "source": [
        "residuals = y_test - y_pred\n",
        "plt.figure(figsize=(8, 6))\n",
        "sns.histplot(residuals, kde=True, color='green')\n",
        "plt.xlabel(\"Residuals\")\n",
        "plt.title(\"Distribution of Residuals (Training Test Set)\")\n",
        "plt.show()"
      ]
    },
    {
      "cell_type": "markdown",
      "id": "f7a926a1-164d-41c7-af4b-659760176b37",
      "metadata": {
        "id": "f7a926a1-164d-41c7-af4b-659760176b37"
      },
      "source": [
        "# Save the Trained Model"
      ]
    },
    {
      "cell_type": "code",
      "execution_count": null,
      "id": "90574a9e-8f1a-4351-9cec-24f04e9d4c29",
      "metadata": {
        "id": "90574a9e-8f1a-4351-9cec-24f04e9d4c29",
        "colab": {
          "base_uri": "https://localhost:8080/"
        },
        "outputId": "a51640cf-3073-4aac-f817-b409e96dee83"
      },
      "outputs": [
        {
          "output_type": "stream",
          "name": "stdout",
          "text": [
            "Model saved as driver_suggestion_model.pkl\n"
          ]
        }
      ],
      "source": [
        "MODEL_FILENAME = \"driver_suggestion_model.pkl\"\n",
        "joblib.dump(regressor, MODEL_FILENAME) #Serializes the trained model for deployment.\n",
        "print(\"Model saved as\", MODEL_FILENAME)"
      ]
    },
    {
      "cell_type": "markdown",
      "id": "9e236b64-2722-4fa6-bc50-fc6ae4aaea83",
      "metadata": {
        "id": "9e236b64-2722-4fa6-bc50-fc6ae4aaea83"
      },
      "source": [
        "# Reload the Model and Test with New Dummy Data"
      ]
    },
    {
      "cell_type": "markdown",
      "id": "5e84aaf3-c135-4271-b5e2-aae33ca79485",
      "metadata": {
        "id": "5e84aaf3-c135-4271-b5e2-aae33ca79485"
      },
      "source": [
        "# Reload the saved model"
      ]
    },
    {
      "cell_type": "code",
      "execution_count": null,
      "id": "5d2c71d2-bbfc-4b6f-bf68-3695faf025ae",
      "metadata": {
        "id": "5d2c71d2-bbfc-4b6f-bf68-3695faf025ae",
        "colab": {
          "base_uri": "https://localhost:8080/"
        },
        "outputId": "acceb308-c66d-46f6-df76-d49715b72d72"
      },
      "outputs": [
        {
          "output_type": "stream",
          "name": "stdout",
          "text": [
            "Model reloaded successfully.\n"
          ]
        }
      ],
      "source": [
        "loaded_model = joblib.load(MODEL_FILENAME)\n",
        "print(\"Model reloaded successfully.\")"
      ]
    },
    {
      "cell_type": "markdown",
      "id": "27c86da0-58b1-428b-bfbb-16e1728f4814",
      "metadata": {
        "id": "27c86da0-58b1-428b-bfbb-16e1728f4814"
      },
      "source": [
        "# Create new dummy test data (different from training data)"
      ]
    },
    {
      "cell_type": "code",
      "execution_count": null,
      "id": "d7bf65f0-3155-4b98-8b4e-031ea307748d",
      "metadata": {
        "id": "d7bf65f0-3155-4b98-8b4e-031ea307748d",
        "colab": {
          "base_uri": "https://localhost:8080/"
        },
        "outputId": "d34c6849-3483-46f3-f7c0-2f719aae554d"
      },
      "outputs": [
        {
          "output_type": "stream",
          "name": "stderr",
          "text": [
            "<ipython-input-42-0595b10f02a5>:14: FutureWarning: A value is trying to be set on a copy of a DataFrame or Series through chained assignment using an inplace method.\n",
            "The behavior will change in pandas 3.0. This inplace method will never work because the intermediate object on which we are setting values always behaves as a copy.\n",
            "\n",
            "For example, when doing 'df[col].method(value, inplace=True)', try using 'df.method({col: value}, inplace=True)' or df[col] = df[col].method(value) instead, to perform the operation inplace on the original object.\n",
            "\n",
            "\n",
            "  df_new[\"customer_review\"].fillna(\"No review provided\", inplace=True)\n"
          ]
        }
      ],
      "source": [
        "dummy_data = {\n",
        "    \"driver_id\": [201, 202, 203, 203, 204, 205],\n",
        "    \"average_rating\": [3.2, 4.7, 2.8, 4.0, 4.1, 3.9],\n",
        "    \"customer_review\": [\n",
        "        \"The ride was average, not too good not too bad.\",\n",
        "        \"Exceptional ride with a very friendly driver!\",\n",
        "        \"Poor experience, the service was bad.\",\n",
        "        \"Great ride, very smooth and timely.\",\n",
        "        \"Decent ride but could improve in punctuality.\",\n",
        "        \"Amazing service, truly satisfied with the ride.\"\n",
        "    ]\n",
        "}\n",
        "df_new = pd.DataFrame(dummy_data)\n",
        "df_new[\"customer_review\"].fillna(\"No review provided\", inplace=True)"
      ]
    },
    {
      "cell_type": "markdown",
      "id": "b2edfb0c-8236-4798-bd65-d0fcf7369271",
      "metadata": {
        "id": "b2edfb0c-8236-4798-bd65-d0fcf7369271"
      },
      "source": [
        "# Compute sentiment scores for new data"
      ]
    },
    {
      "cell_type": "code",
      "execution_count": null,
      "id": "7cb5cab1-8297-4088-a417-6d50e56dd27e",
      "metadata": {
        "id": "7cb5cab1-8297-4088-a417-6d50e56dd27e"
      },
      "outputs": [],
      "source": [
        "# Compute sentiment and overall ratings for new data\n",
        "df_new[\"review_sentiment\"] = df_new[\"customer_review\"].apply(analyze_sentiment)\n",
        "df_new[\"sentiment_rating\"] = (df_new[\"review_sentiment\"] + 1) * 2.5\n",
        "df_new[\"overall_rating\"] = (0.7 * df_new[\"average_rating\"]) + (0.3 * df_new[\"sentiment_rating\"])"
      ]
    },
    {
      "cell_type": "markdown",
      "id": "c7778afa-46d4-48ae-86d0-5bd849353632",
      "metadata": {
        "id": "c7778afa-46d4-48ae-86d0-5bd849353632"
      },
      "source": [
        "# Use the reloaded model to make predictions on the new dummy data"
      ]
    },
    {
      "cell_type": "code",
      "execution_count": null,
      "id": "a71d4f79-5aa2-4206-bd2d-f5526bc5d2c0",
      "metadata": {
        "id": "a71d4f79-5aa2-4206-bd2d-f5526bc5d2c0"
      },
      "outputs": [],
      "source": [
        "X_new = df_new[[\"average_rating\", \"sentiment_rating\"]]\n",
        "y_new_pred = loaded_model.predict(X_new)"
      ]
    },
    {
      "cell_type": "markdown",
      "source": [
        "# Aggregate new dummy data by driver_id"
      ],
      "metadata": {
        "id": "zwB41Ta-wqhN"
      },
      "id": "zwB41Ta-wqhN"
    },
    {
      "cell_type": "code",
      "source": [
        "agg_df_new = df_new.groupby(\"driver_id\").agg({\n",
        "    \"average_rating\": \"mean\",\n",
        "    \"sentiment_rating\": \"mean\"\n",
        "}).reset_index()\n",
        "agg_df_new[\"overall_rating\"] = (0.7 * agg_df_new[\"average_rating\"]) + (0.3 * agg_df_new[\"sentiment_rating\"])"
      ],
      "metadata": {
        "id": "aGz_1QWmwpy6"
      },
      "id": "aGz_1QWmwpy6",
      "execution_count": null,
      "outputs": []
    },
    {
      "cell_type": "markdown",
      "id": "2f9aacd5-85dd-46fc-8c6b-f6871a1419cd",
      "metadata": {
        "id": "2f9aacd5-85dd-46fc-8c6b-f6871a1419cd"
      },
      "source": [
        "# Add predictions to the DataFrame and display results"
      ]
    },
    {
      "cell_type": "code",
      "execution_count": null,
      "id": "ff869209-5394-4de0-b0cd-1405d562aade",
      "metadata": {
        "id": "ff869209-5394-4de0-b0cd-1405d562aade",
        "colab": {
          "base_uri": "https://localhost:8080/"
        },
        "outputId": "a9a1e6bb-01b9-49bf-ec53-e63066d94944"
      },
      "outputs": [
        {
          "output_type": "stream",
          "name": "stdout",
          "text": [
            "\n",
            "New Dummy Data Aggregated Predictions:\n",
            "   driver_id  average_rating  sentiment_rating  overall_rating  \\\n",
            "0        201             3.2          2.973684        3.132105   \n",
            "1        202             4.7          4.315531        4.584659   \n",
            "2        203             3.4          2.700458        3.190137   \n",
            "3        204             4.1          2.561196        3.638359   \n",
            "4        205             3.9          4.475722        4.072716   \n",
            "\n",
            "   predicted_overall_rating  \n",
            "0                  3.179503  \n",
            "1                  4.566105  \n",
            "2                  3.196956  \n",
            "3                  3.643787  \n",
            "4                  4.009107  \n"
          ]
        }
      ],
      "source": [
        "# Predict using the reloaded model\n",
        "X_new = agg_df_new[[\"average_rating\", \"sentiment_rating\"]]\n",
        "y_new_pred = loaded_model.predict(X_new)\n",
        "agg_df_new[\"predicted_overall_rating\"] = y_new_pred\n",
        "\n",
        "print(\"\\nNew Dummy Data Aggregated Predictions:\")\n",
        "print(agg_df_new[[\"driver_id\", \"average_rating\", \"sentiment_rating\", \"overall_rating\", \"predicted_overall_rating\"]])"
      ]
    },
    {
      "cell_type": "markdown",
      "id": "4a73a86b-7b23-4ae5-a435-26d79b747e43",
      "metadata": {
        "id": "4a73a86b-7b23-4ae5-a435-26d79b747e43"
      },
      "source": [
        "# Optional: Visualize the new predictions compared to the computed overall_rating"
      ]
    },
    {
      "cell_type": "code",
      "execution_count": null,
      "id": "ec8ad500-492e-437f-b1cc-0fb8bfae3df9",
      "metadata": {
        "id": "ec8ad500-492e-437f-b1cc-0fb8bfae3df9"
      },
      "outputs": [],
      "source": [
        "# Visualization: Actual vs Predicted Overall Ratings for New Dummy Data\n",
        "plt.figure(figsize=(8, 6))\n",
        "plt.scatter(agg_df_new[\"overall_rating\"], agg_df_new[\"predicted_overall_rating\"], color='purple', alpha=0.7)\n",
        "plt.plot([agg_df_new[\"overall_rating\"].min(), agg_df_new[\"overall_rating\"].max()],\n",
        "         [agg_df_new[\"overall_rating\"].min(), agg_df_new[\"overall_rating\"].max()], 'r--', lw=2)\n",
        "plt.xlabel(\"Calculated Overall Rating\")\n",
        "plt.ylabel(\"Predicted Overall Rating\")\n",
        "plt.title(\"New Dummy Data: Actual vs Predicted Overall Rating (Aggregated)\")\n",
        "plt.show()\n"
      ]
    },
    {
      "cell_type": "code",
      "execution_count": null,
      "id": "e4d0914e-269f-4a1a-998a-dad788cb3bf0",
      "metadata": {
        "id": "e4d0914e-269f-4a1a-998a-dad788cb3bf0"
      },
      "outputs": [],
      "source": []
    },
    {
      "cell_type": "code",
      "execution_count": null,
      "id": "f55dea7d-8d04-4d53-91f9-2740b32af337",
      "metadata": {
        "id": "f55dea7d-8d04-4d53-91f9-2740b32af337"
      },
      "outputs": [],
      "source": []
    },
    {
      "cell_type": "code",
      "execution_count": null,
      "id": "04f3d31f-d015-4390-8c66-c5dd9390a855",
      "metadata": {
        "id": "04f3d31f-d015-4390-8c66-c5dd9390a855"
      },
      "outputs": [],
      "source": []
    }
  ],
  "metadata": {
    "kernelspec": {
      "display_name": "Python 3 (ipykernel)",
      "language": "python",
      "name": "python3"
    },
    "language_info": {
      "codemirror_mode": {
        "name": "ipython",
        "version": 3
      },
      "file_extension": ".py",
      "mimetype": "text/x-python",
      "name": "python",
      "nbconvert_exporter": "python",
      "pygments_lexer": "ipython3",
      "version": "3.12.6"
    },
    "colab": {
      "provenance": [],
      "toc_visible": true
    },
    "widgets": {
      "application/vnd.jupyter.widget-state+json": {
        "f4812f976a11455c8e17905fac2a7b89": {
          "model_module": "@jupyter-widgets/controls",
          "model_name": "HBoxModel",
          "model_module_version": "1.5.0",
          "state": {
            "_dom_classes": [],
            "_model_module": "@jupyter-widgets/controls",
            "_model_module_version": "1.5.0",
            "_model_name": "HBoxModel",
            "_view_count": null,
            "_view_module": "@jupyter-widgets/controls",
            "_view_module_version": "1.5.0",
            "_view_name": "HBoxView",
            "box_style": "",
            "children": [
              "IPY_MODEL_5b1845ac05aa4d52bd6c3a438a9be7d0",
              "IPY_MODEL_a01ffcf4f4654dccbb29f366a3c9eb93",
              "IPY_MODEL_e4d79f5bd8ea4edfb5ad5a15930b7d56"
            ],
            "layout": "IPY_MODEL_48a689b0e942432c9fb3cf6ac0e8205b"
          }
        },
        "5b1845ac05aa4d52bd6c3a438a9be7d0": {
          "model_module": "@jupyter-widgets/controls",
          "model_name": "HTMLModel",
          "model_module_version": "1.5.0",
          "state": {
            "_dom_classes": [],
            "_model_module": "@jupyter-widgets/controls",
            "_model_module_version": "1.5.0",
            "_model_name": "HTMLModel",
            "_view_count": null,
            "_view_module": "@jupyter-widgets/controls",
            "_view_module_version": "1.5.0",
            "_view_name": "HTMLView",
            "description": "",
            "description_tooltip": null,
            "layout": "IPY_MODEL_3f77e71dacbf439dab134c9f7c72b14d",
            "placeholder": "​",
            "style": "IPY_MODEL_8687d85aa056442f8bc4c9f5bcb2e8cc",
            "value": "tokenizer_config.json: 100%"
          }
        },
        "a01ffcf4f4654dccbb29f366a3c9eb93": {
          "model_module": "@jupyter-widgets/controls",
          "model_name": "FloatProgressModel",
          "model_module_version": "1.5.0",
          "state": {
            "_dom_classes": [],
            "_model_module": "@jupyter-widgets/controls",
            "_model_module_version": "1.5.0",
            "_model_name": "FloatProgressModel",
            "_view_count": null,
            "_view_module": "@jupyter-widgets/controls",
            "_view_module_version": "1.5.0",
            "_view_name": "ProgressView",
            "bar_style": "success",
            "description": "",
            "description_tooltip": null,
            "layout": "IPY_MODEL_d1cd6194ab604489ba301731b6301ea5",
            "max": 26,
            "min": 0,
            "orientation": "horizontal",
            "style": "IPY_MODEL_8a842f8e6e18401c911f0cb9eab7345c",
            "value": 26
          }
        },
        "e4d79f5bd8ea4edfb5ad5a15930b7d56": {
          "model_module": "@jupyter-widgets/controls",
          "model_name": "HTMLModel",
          "model_module_version": "1.5.0",
          "state": {
            "_dom_classes": [],
            "_model_module": "@jupyter-widgets/controls",
            "_model_module_version": "1.5.0",
            "_model_name": "HTMLModel",
            "_view_count": null,
            "_view_module": "@jupyter-widgets/controls",
            "_view_module_version": "1.5.0",
            "_view_name": "HTMLView",
            "description": "",
            "description_tooltip": null,
            "layout": "IPY_MODEL_21f7e551a6ed4543aaeec752c03ac6a5",
            "placeholder": "​",
            "style": "IPY_MODEL_0cf3406113ae42f29e1dacc219fff894",
            "value": " 26.0/26.0 [00:00&lt;00:00, 1.08kB/s]"
          }
        },
        "48a689b0e942432c9fb3cf6ac0e8205b": {
          "model_module": "@jupyter-widgets/base",
          "model_name": "LayoutModel",
          "model_module_version": "1.2.0",
          "state": {
            "_model_module": "@jupyter-widgets/base",
            "_model_module_version": "1.2.0",
            "_model_name": "LayoutModel",
            "_view_count": null,
            "_view_module": "@jupyter-widgets/base",
            "_view_module_version": "1.2.0",
            "_view_name": "LayoutView",
            "align_content": null,
            "align_items": null,
            "align_self": null,
            "border": null,
            "bottom": null,
            "display": null,
            "flex": null,
            "flex_flow": null,
            "grid_area": null,
            "grid_auto_columns": null,
            "grid_auto_flow": null,
            "grid_auto_rows": null,
            "grid_column": null,
            "grid_gap": null,
            "grid_row": null,
            "grid_template_areas": null,
            "grid_template_columns": null,
            "grid_template_rows": null,
            "height": null,
            "justify_content": null,
            "justify_items": null,
            "left": null,
            "margin": null,
            "max_height": null,
            "max_width": null,
            "min_height": null,
            "min_width": null,
            "object_fit": null,
            "object_position": null,
            "order": null,
            "overflow": null,
            "overflow_x": null,
            "overflow_y": null,
            "padding": null,
            "right": null,
            "top": null,
            "visibility": null,
            "width": null
          }
        },
        "3f77e71dacbf439dab134c9f7c72b14d": {
          "model_module": "@jupyter-widgets/base",
          "model_name": "LayoutModel",
          "model_module_version": "1.2.0",
          "state": {
            "_model_module": "@jupyter-widgets/base",
            "_model_module_version": "1.2.0",
            "_model_name": "LayoutModel",
            "_view_count": null,
            "_view_module": "@jupyter-widgets/base",
            "_view_module_version": "1.2.0",
            "_view_name": "LayoutView",
            "align_content": null,
            "align_items": null,
            "align_self": null,
            "border": null,
            "bottom": null,
            "display": null,
            "flex": null,
            "flex_flow": null,
            "grid_area": null,
            "grid_auto_columns": null,
            "grid_auto_flow": null,
            "grid_auto_rows": null,
            "grid_column": null,
            "grid_gap": null,
            "grid_row": null,
            "grid_template_areas": null,
            "grid_template_columns": null,
            "grid_template_rows": null,
            "height": null,
            "justify_content": null,
            "justify_items": null,
            "left": null,
            "margin": null,
            "max_height": null,
            "max_width": null,
            "min_height": null,
            "min_width": null,
            "object_fit": null,
            "object_position": null,
            "order": null,
            "overflow": null,
            "overflow_x": null,
            "overflow_y": null,
            "padding": null,
            "right": null,
            "top": null,
            "visibility": null,
            "width": null
          }
        },
        "8687d85aa056442f8bc4c9f5bcb2e8cc": {
          "model_module": "@jupyter-widgets/controls",
          "model_name": "DescriptionStyleModel",
          "model_module_version": "1.5.0",
          "state": {
            "_model_module": "@jupyter-widgets/controls",
            "_model_module_version": "1.5.0",
            "_model_name": "DescriptionStyleModel",
            "_view_count": null,
            "_view_module": "@jupyter-widgets/base",
            "_view_module_version": "1.2.0",
            "_view_name": "StyleView",
            "description_width": ""
          }
        },
        "d1cd6194ab604489ba301731b6301ea5": {
          "model_module": "@jupyter-widgets/base",
          "model_name": "LayoutModel",
          "model_module_version": "1.2.0",
          "state": {
            "_model_module": "@jupyter-widgets/base",
            "_model_module_version": "1.2.0",
            "_model_name": "LayoutModel",
            "_view_count": null,
            "_view_module": "@jupyter-widgets/base",
            "_view_module_version": "1.2.0",
            "_view_name": "LayoutView",
            "align_content": null,
            "align_items": null,
            "align_self": null,
            "border": null,
            "bottom": null,
            "display": null,
            "flex": null,
            "flex_flow": null,
            "grid_area": null,
            "grid_auto_columns": null,
            "grid_auto_flow": null,
            "grid_auto_rows": null,
            "grid_column": null,
            "grid_gap": null,
            "grid_row": null,
            "grid_template_areas": null,
            "grid_template_columns": null,
            "grid_template_rows": null,
            "height": null,
            "justify_content": null,
            "justify_items": null,
            "left": null,
            "margin": null,
            "max_height": null,
            "max_width": null,
            "min_height": null,
            "min_width": null,
            "object_fit": null,
            "object_position": null,
            "order": null,
            "overflow": null,
            "overflow_x": null,
            "overflow_y": null,
            "padding": null,
            "right": null,
            "top": null,
            "visibility": null,
            "width": null
          }
        },
        "8a842f8e6e18401c911f0cb9eab7345c": {
          "model_module": "@jupyter-widgets/controls",
          "model_name": "ProgressStyleModel",
          "model_module_version": "1.5.0",
          "state": {
            "_model_module": "@jupyter-widgets/controls",
            "_model_module_version": "1.5.0",
            "_model_name": "ProgressStyleModel",
            "_view_count": null,
            "_view_module": "@jupyter-widgets/base",
            "_view_module_version": "1.2.0",
            "_view_name": "StyleView",
            "bar_color": null,
            "description_width": ""
          }
        },
        "21f7e551a6ed4543aaeec752c03ac6a5": {
          "model_module": "@jupyter-widgets/base",
          "model_name": "LayoutModel",
          "model_module_version": "1.2.0",
          "state": {
            "_model_module": "@jupyter-widgets/base",
            "_model_module_version": "1.2.0",
            "_model_name": "LayoutModel",
            "_view_count": null,
            "_view_module": "@jupyter-widgets/base",
            "_view_module_version": "1.2.0",
            "_view_name": "LayoutView",
            "align_content": null,
            "align_items": null,
            "align_self": null,
            "border": null,
            "bottom": null,
            "display": null,
            "flex": null,
            "flex_flow": null,
            "grid_area": null,
            "grid_auto_columns": null,
            "grid_auto_flow": null,
            "grid_auto_rows": null,
            "grid_column": null,
            "grid_gap": null,
            "grid_row": null,
            "grid_template_areas": null,
            "grid_template_columns": null,
            "grid_template_rows": null,
            "height": null,
            "justify_content": null,
            "justify_items": null,
            "left": null,
            "margin": null,
            "max_height": null,
            "max_width": null,
            "min_height": null,
            "min_width": null,
            "object_fit": null,
            "object_position": null,
            "order": null,
            "overflow": null,
            "overflow_x": null,
            "overflow_y": null,
            "padding": null,
            "right": null,
            "top": null,
            "visibility": null,
            "width": null
          }
        },
        "0cf3406113ae42f29e1dacc219fff894": {
          "model_module": "@jupyter-widgets/controls",
          "model_name": "DescriptionStyleModel",
          "model_module_version": "1.5.0",
          "state": {
            "_model_module": "@jupyter-widgets/controls",
            "_model_module_version": "1.5.0",
            "_model_name": "DescriptionStyleModel",
            "_view_count": null,
            "_view_module": "@jupyter-widgets/base",
            "_view_module_version": "1.2.0",
            "_view_name": "StyleView",
            "description_width": ""
          }
        },
        "75a42804530647eaaa5dc614a53788f0": {
          "model_module": "@jupyter-widgets/controls",
          "model_name": "HBoxModel",
          "model_module_version": "1.5.0",
          "state": {
            "_dom_classes": [],
            "_model_module": "@jupyter-widgets/controls",
            "_model_module_version": "1.5.0",
            "_model_name": "HBoxModel",
            "_view_count": null,
            "_view_module": "@jupyter-widgets/controls",
            "_view_module_version": "1.5.0",
            "_view_name": "HBoxView",
            "box_style": "",
            "children": [
              "IPY_MODEL_05872d546acb4a57b8747b1b2a97ca0b",
              "IPY_MODEL_133e170609f04abab4bb571250e6ecd6",
              "IPY_MODEL_15d8fbc551b943d69287d1b5efc48289"
            ],
            "layout": "IPY_MODEL_594e3b730cb74c53a099668db7aa8ae2"
          }
        },
        "05872d546acb4a57b8747b1b2a97ca0b": {
          "model_module": "@jupyter-widgets/controls",
          "model_name": "HTMLModel",
          "model_module_version": "1.5.0",
          "state": {
            "_dom_classes": [],
            "_model_module": "@jupyter-widgets/controls",
            "_model_module_version": "1.5.0",
            "_model_name": "HTMLModel",
            "_view_count": null,
            "_view_module": "@jupyter-widgets/controls",
            "_view_module_version": "1.5.0",
            "_view_name": "HTMLView",
            "description": "",
            "description_tooltip": null,
            "layout": "IPY_MODEL_b76f5aa24a87444681b4807707f78434",
            "placeholder": "​",
            "style": "IPY_MODEL_6b0956d9f85c4da8a09b3b80c1b273ea",
            "value": "vocab.json: 100%"
          }
        },
        "133e170609f04abab4bb571250e6ecd6": {
          "model_module": "@jupyter-widgets/controls",
          "model_name": "FloatProgressModel",
          "model_module_version": "1.5.0",
          "state": {
            "_dom_classes": [],
            "_model_module": "@jupyter-widgets/controls",
            "_model_module_version": "1.5.0",
            "_model_name": "FloatProgressModel",
            "_view_count": null,
            "_view_module": "@jupyter-widgets/controls",
            "_view_module_version": "1.5.0",
            "_view_name": "ProgressView",
            "bar_style": "success",
            "description": "",
            "description_tooltip": null,
            "layout": "IPY_MODEL_ce030c0a487d4228a536585731b64c40",
            "max": 898822,
            "min": 0,
            "orientation": "horizontal",
            "style": "IPY_MODEL_14a2e2f061df4eb3b716f6f57c1ea37c",
            "value": 898822
          }
        },
        "15d8fbc551b943d69287d1b5efc48289": {
          "model_module": "@jupyter-widgets/controls",
          "model_name": "HTMLModel",
          "model_module_version": "1.5.0",
          "state": {
            "_dom_classes": [],
            "_model_module": "@jupyter-widgets/controls",
            "_model_module_version": "1.5.0",
            "_model_name": "HTMLModel",
            "_view_count": null,
            "_view_module": "@jupyter-widgets/controls",
            "_view_module_version": "1.5.0",
            "_view_name": "HTMLView",
            "description": "",
            "description_tooltip": null,
            "layout": "IPY_MODEL_06209fa974d34f258141cacf0cf0cdbd",
            "placeholder": "​",
            "style": "IPY_MODEL_97c7bdcf5ff74eea974fb5616b0b9375",
            "value": " 899k/899k [00:00&lt;00:00, 3.61MB/s]"
          }
        },
        "594e3b730cb74c53a099668db7aa8ae2": {
          "model_module": "@jupyter-widgets/base",
          "model_name": "LayoutModel",
          "model_module_version": "1.2.0",
          "state": {
            "_model_module": "@jupyter-widgets/base",
            "_model_module_version": "1.2.0",
            "_model_name": "LayoutModel",
            "_view_count": null,
            "_view_module": "@jupyter-widgets/base",
            "_view_module_version": "1.2.0",
            "_view_name": "LayoutView",
            "align_content": null,
            "align_items": null,
            "align_self": null,
            "border": null,
            "bottom": null,
            "display": null,
            "flex": null,
            "flex_flow": null,
            "grid_area": null,
            "grid_auto_columns": null,
            "grid_auto_flow": null,
            "grid_auto_rows": null,
            "grid_column": null,
            "grid_gap": null,
            "grid_row": null,
            "grid_template_areas": null,
            "grid_template_columns": null,
            "grid_template_rows": null,
            "height": null,
            "justify_content": null,
            "justify_items": null,
            "left": null,
            "margin": null,
            "max_height": null,
            "max_width": null,
            "min_height": null,
            "min_width": null,
            "object_fit": null,
            "object_position": null,
            "order": null,
            "overflow": null,
            "overflow_x": null,
            "overflow_y": null,
            "padding": null,
            "right": null,
            "top": null,
            "visibility": null,
            "width": null
          }
        },
        "b76f5aa24a87444681b4807707f78434": {
          "model_module": "@jupyter-widgets/base",
          "model_name": "LayoutModel",
          "model_module_version": "1.2.0",
          "state": {
            "_model_module": "@jupyter-widgets/base",
            "_model_module_version": "1.2.0",
            "_model_name": "LayoutModel",
            "_view_count": null,
            "_view_module": "@jupyter-widgets/base",
            "_view_module_version": "1.2.0",
            "_view_name": "LayoutView",
            "align_content": null,
            "align_items": null,
            "align_self": null,
            "border": null,
            "bottom": null,
            "display": null,
            "flex": null,
            "flex_flow": null,
            "grid_area": null,
            "grid_auto_columns": null,
            "grid_auto_flow": null,
            "grid_auto_rows": null,
            "grid_column": null,
            "grid_gap": null,
            "grid_row": null,
            "grid_template_areas": null,
            "grid_template_columns": null,
            "grid_template_rows": null,
            "height": null,
            "justify_content": null,
            "justify_items": null,
            "left": null,
            "margin": null,
            "max_height": null,
            "max_width": null,
            "min_height": null,
            "min_width": null,
            "object_fit": null,
            "object_position": null,
            "order": null,
            "overflow": null,
            "overflow_x": null,
            "overflow_y": null,
            "padding": null,
            "right": null,
            "top": null,
            "visibility": null,
            "width": null
          }
        },
        "6b0956d9f85c4da8a09b3b80c1b273ea": {
          "model_module": "@jupyter-widgets/controls",
          "model_name": "DescriptionStyleModel",
          "model_module_version": "1.5.0",
          "state": {
            "_model_module": "@jupyter-widgets/controls",
            "_model_module_version": "1.5.0",
            "_model_name": "DescriptionStyleModel",
            "_view_count": null,
            "_view_module": "@jupyter-widgets/base",
            "_view_module_version": "1.2.0",
            "_view_name": "StyleView",
            "description_width": ""
          }
        },
        "ce030c0a487d4228a536585731b64c40": {
          "model_module": "@jupyter-widgets/base",
          "model_name": "LayoutModel",
          "model_module_version": "1.2.0",
          "state": {
            "_model_module": "@jupyter-widgets/base",
            "_model_module_version": "1.2.0",
            "_model_name": "LayoutModel",
            "_view_count": null,
            "_view_module": "@jupyter-widgets/base",
            "_view_module_version": "1.2.0",
            "_view_name": "LayoutView",
            "align_content": null,
            "align_items": null,
            "align_self": null,
            "border": null,
            "bottom": null,
            "display": null,
            "flex": null,
            "flex_flow": null,
            "grid_area": null,
            "grid_auto_columns": null,
            "grid_auto_flow": null,
            "grid_auto_rows": null,
            "grid_column": null,
            "grid_gap": null,
            "grid_row": null,
            "grid_template_areas": null,
            "grid_template_columns": null,
            "grid_template_rows": null,
            "height": null,
            "justify_content": null,
            "justify_items": null,
            "left": null,
            "margin": null,
            "max_height": null,
            "max_width": null,
            "min_height": null,
            "min_width": null,
            "object_fit": null,
            "object_position": null,
            "order": null,
            "overflow": null,
            "overflow_x": null,
            "overflow_y": null,
            "padding": null,
            "right": null,
            "top": null,
            "visibility": null,
            "width": null
          }
        },
        "14a2e2f061df4eb3b716f6f57c1ea37c": {
          "model_module": "@jupyter-widgets/controls",
          "model_name": "ProgressStyleModel",
          "model_module_version": "1.5.0",
          "state": {
            "_model_module": "@jupyter-widgets/controls",
            "_model_module_version": "1.5.0",
            "_model_name": "ProgressStyleModel",
            "_view_count": null,
            "_view_module": "@jupyter-widgets/base",
            "_view_module_version": "1.2.0",
            "_view_name": "StyleView",
            "bar_color": null,
            "description_width": ""
          }
        },
        "06209fa974d34f258141cacf0cf0cdbd": {
          "model_module": "@jupyter-widgets/base",
          "model_name": "LayoutModel",
          "model_module_version": "1.2.0",
          "state": {
            "_model_module": "@jupyter-widgets/base",
            "_model_module_version": "1.2.0",
            "_model_name": "LayoutModel",
            "_view_count": null,
            "_view_module": "@jupyter-widgets/base",
            "_view_module_version": "1.2.0",
            "_view_name": "LayoutView",
            "align_content": null,
            "align_items": null,
            "align_self": null,
            "border": null,
            "bottom": null,
            "display": null,
            "flex": null,
            "flex_flow": null,
            "grid_area": null,
            "grid_auto_columns": null,
            "grid_auto_flow": null,
            "grid_auto_rows": null,
            "grid_column": null,
            "grid_gap": null,
            "grid_row": null,
            "grid_template_areas": null,
            "grid_template_columns": null,
            "grid_template_rows": null,
            "height": null,
            "justify_content": null,
            "justify_items": null,
            "left": null,
            "margin": null,
            "max_height": null,
            "max_width": null,
            "min_height": null,
            "min_width": null,
            "object_fit": null,
            "object_position": null,
            "order": null,
            "overflow": null,
            "overflow_x": null,
            "overflow_y": null,
            "padding": null,
            "right": null,
            "top": null,
            "visibility": null,
            "width": null
          }
        },
        "97c7bdcf5ff74eea974fb5616b0b9375": {
          "model_module": "@jupyter-widgets/controls",
          "model_name": "DescriptionStyleModel",
          "model_module_version": "1.5.0",
          "state": {
            "_model_module": "@jupyter-widgets/controls",
            "_model_module_version": "1.5.0",
            "_model_name": "DescriptionStyleModel",
            "_view_count": null,
            "_view_module": "@jupyter-widgets/base",
            "_view_module_version": "1.2.0",
            "_view_name": "StyleView",
            "description_width": ""
          }
        },
        "732ac04c77fa4dbabdf180b0155e40e7": {
          "model_module": "@jupyter-widgets/controls",
          "model_name": "HBoxModel",
          "model_module_version": "1.5.0",
          "state": {
            "_dom_classes": [],
            "_model_module": "@jupyter-widgets/controls",
            "_model_module_version": "1.5.0",
            "_model_name": "HBoxModel",
            "_view_count": null,
            "_view_module": "@jupyter-widgets/controls",
            "_view_module_version": "1.5.0",
            "_view_name": "HBoxView",
            "box_style": "",
            "children": [
              "IPY_MODEL_83f0498a17e642758e999023ae45b2f7",
              "IPY_MODEL_d4df7843dda84cc6afbc2653326133c7",
              "IPY_MODEL_7274faa772e74593bc0ce1abc0c6fc5b"
            ],
            "layout": "IPY_MODEL_97139429a188437884c54834d32c4b74"
          }
        },
        "83f0498a17e642758e999023ae45b2f7": {
          "model_module": "@jupyter-widgets/controls",
          "model_name": "HTMLModel",
          "model_module_version": "1.5.0",
          "state": {
            "_dom_classes": [],
            "_model_module": "@jupyter-widgets/controls",
            "_model_module_version": "1.5.0",
            "_model_name": "HTMLModel",
            "_view_count": null,
            "_view_module": "@jupyter-widgets/controls",
            "_view_module_version": "1.5.0",
            "_view_name": "HTMLView",
            "description": "",
            "description_tooltip": null,
            "layout": "IPY_MODEL_7faa97fae41b400984b286477e9996dc",
            "placeholder": "​",
            "style": "IPY_MODEL_b51ace1d02aa4261a552c68842cbb52a",
            "value": "merges.txt: 100%"
          }
        },
        "d4df7843dda84cc6afbc2653326133c7": {
          "model_module": "@jupyter-widgets/controls",
          "model_name": "FloatProgressModel",
          "model_module_version": "1.5.0",
          "state": {
            "_dom_classes": [],
            "_model_module": "@jupyter-widgets/controls",
            "_model_module_version": "1.5.0",
            "_model_name": "FloatProgressModel",
            "_view_count": null,
            "_view_module": "@jupyter-widgets/controls",
            "_view_module_version": "1.5.0",
            "_view_name": "ProgressView",
            "bar_style": "success",
            "description": "",
            "description_tooltip": null,
            "layout": "IPY_MODEL_5ca80e3200734327be3cc8e5a4aa1151",
            "max": 456318,
            "min": 0,
            "orientation": "horizontal",
            "style": "IPY_MODEL_5ef716699b6244279485d7a31165aa68",
            "value": 456318
          }
        },
        "7274faa772e74593bc0ce1abc0c6fc5b": {
          "model_module": "@jupyter-widgets/controls",
          "model_name": "HTMLModel",
          "model_module_version": "1.5.0",
          "state": {
            "_dom_classes": [],
            "_model_module": "@jupyter-widgets/controls",
            "_model_module_version": "1.5.0",
            "_model_name": "HTMLModel",
            "_view_count": null,
            "_view_module": "@jupyter-widgets/controls",
            "_view_module_version": "1.5.0",
            "_view_name": "HTMLView",
            "description": "",
            "description_tooltip": null,
            "layout": "IPY_MODEL_e19e20b30978402a9a3063c1520cf523",
            "placeholder": "​",
            "style": "IPY_MODEL_7c1865ef9de141ba86d8be145e0117a2",
            "value": " 456k/456k [00:00&lt;00:00, 2.77MB/s]"
          }
        },
        "97139429a188437884c54834d32c4b74": {
          "model_module": "@jupyter-widgets/base",
          "model_name": "LayoutModel",
          "model_module_version": "1.2.0",
          "state": {
            "_model_module": "@jupyter-widgets/base",
            "_model_module_version": "1.2.0",
            "_model_name": "LayoutModel",
            "_view_count": null,
            "_view_module": "@jupyter-widgets/base",
            "_view_module_version": "1.2.0",
            "_view_name": "LayoutView",
            "align_content": null,
            "align_items": null,
            "align_self": null,
            "border": null,
            "bottom": null,
            "display": null,
            "flex": null,
            "flex_flow": null,
            "grid_area": null,
            "grid_auto_columns": null,
            "grid_auto_flow": null,
            "grid_auto_rows": null,
            "grid_column": null,
            "grid_gap": null,
            "grid_row": null,
            "grid_template_areas": null,
            "grid_template_columns": null,
            "grid_template_rows": null,
            "height": null,
            "justify_content": null,
            "justify_items": null,
            "left": null,
            "margin": null,
            "max_height": null,
            "max_width": null,
            "min_height": null,
            "min_width": null,
            "object_fit": null,
            "object_position": null,
            "order": null,
            "overflow": null,
            "overflow_x": null,
            "overflow_y": null,
            "padding": null,
            "right": null,
            "top": null,
            "visibility": null,
            "width": null
          }
        },
        "7faa97fae41b400984b286477e9996dc": {
          "model_module": "@jupyter-widgets/base",
          "model_name": "LayoutModel",
          "model_module_version": "1.2.0",
          "state": {
            "_model_module": "@jupyter-widgets/base",
            "_model_module_version": "1.2.0",
            "_model_name": "LayoutModel",
            "_view_count": null,
            "_view_module": "@jupyter-widgets/base",
            "_view_module_version": "1.2.0",
            "_view_name": "LayoutView",
            "align_content": null,
            "align_items": null,
            "align_self": null,
            "border": null,
            "bottom": null,
            "display": null,
            "flex": null,
            "flex_flow": null,
            "grid_area": null,
            "grid_auto_columns": null,
            "grid_auto_flow": null,
            "grid_auto_rows": null,
            "grid_column": null,
            "grid_gap": null,
            "grid_row": null,
            "grid_template_areas": null,
            "grid_template_columns": null,
            "grid_template_rows": null,
            "height": null,
            "justify_content": null,
            "justify_items": null,
            "left": null,
            "margin": null,
            "max_height": null,
            "max_width": null,
            "min_height": null,
            "min_width": null,
            "object_fit": null,
            "object_position": null,
            "order": null,
            "overflow": null,
            "overflow_x": null,
            "overflow_y": null,
            "padding": null,
            "right": null,
            "top": null,
            "visibility": null,
            "width": null
          }
        },
        "b51ace1d02aa4261a552c68842cbb52a": {
          "model_module": "@jupyter-widgets/controls",
          "model_name": "DescriptionStyleModel",
          "model_module_version": "1.5.0",
          "state": {
            "_model_module": "@jupyter-widgets/controls",
            "_model_module_version": "1.5.0",
            "_model_name": "DescriptionStyleModel",
            "_view_count": null,
            "_view_module": "@jupyter-widgets/base",
            "_view_module_version": "1.2.0",
            "_view_name": "StyleView",
            "description_width": ""
          }
        },
        "5ca80e3200734327be3cc8e5a4aa1151": {
          "model_module": "@jupyter-widgets/base",
          "model_name": "LayoutModel",
          "model_module_version": "1.2.0",
          "state": {
            "_model_module": "@jupyter-widgets/base",
            "_model_module_version": "1.2.0",
            "_model_name": "LayoutModel",
            "_view_count": null,
            "_view_module": "@jupyter-widgets/base",
            "_view_module_version": "1.2.0",
            "_view_name": "LayoutView",
            "align_content": null,
            "align_items": null,
            "align_self": null,
            "border": null,
            "bottom": null,
            "display": null,
            "flex": null,
            "flex_flow": null,
            "grid_area": null,
            "grid_auto_columns": null,
            "grid_auto_flow": null,
            "grid_auto_rows": null,
            "grid_column": null,
            "grid_gap": null,
            "grid_row": null,
            "grid_template_areas": null,
            "grid_template_columns": null,
            "grid_template_rows": null,
            "height": null,
            "justify_content": null,
            "justify_items": null,
            "left": null,
            "margin": null,
            "max_height": null,
            "max_width": null,
            "min_height": null,
            "min_width": null,
            "object_fit": null,
            "object_position": null,
            "order": null,
            "overflow": null,
            "overflow_x": null,
            "overflow_y": null,
            "padding": null,
            "right": null,
            "top": null,
            "visibility": null,
            "width": null
          }
        },
        "5ef716699b6244279485d7a31165aa68": {
          "model_module": "@jupyter-widgets/controls",
          "model_name": "ProgressStyleModel",
          "model_module_version": "1.5.0",
          "state": {
            "_model_module": "@jupyter-widgets/controls",
            "_model_module_version": "1.5.0",
            "_model_name": "ProgressStyleModel",
            "_view_count": null,
            "_view_module": "@jupyter-widgets/base",
            "_view_module_version": "1.2.0",
            "_view_name": "StyleView",
            "bar_color": null,
            "description_width": ""
          }
        },
        "e19e20b30978402a9a3063c1520cf523": {
          "model_module": "@jupyter-widgets/base",
          "model_name": "LayoutModel",
          "model_module_version": "1.2.0",
          "state": {
            "_model_module": "@jupyter-widgets/base",
            "_model_module_version": "1.2.0",
            "_model_name": "LayoutModel",
            "_view_count": null,
            "_view_module": "@jupyter-widgets/base",
            "_view_module_version": "1.2.0",
            "_view_name": "LayoutView",
            "align_content": null,
            "align_items": null,
            "align_self": null,
            "border": null,
            "bottom": null,
            "display": null,
            "flex": null,
            "flex_flow": null,
            "grid_area": null,
            "grid_auto_columns": null,
            "grid_auto_flow": null,
            "grid_auto_rows": null,
            "grid_column": null,
            "grid_gap": null,
            "grid_row": null,
            "grid_template_areas": null,
            "grid_template_columns": null,
            "grid_template_rows": null,
            "height": null,
            "justify_content": null,
            "justify_items": null,
            "left": null,
            "margin": null,
            "max_height": null,
            "max_width": null,
            "min_height": null,
            "min_width": null,
            "object_fit": null,
            "object_position": null,
            "order": null,
            "overflow": null,
            "overflow_x": null,
            "overflow_y": null,
            "padding": null,
            "right": null,
            "top": null,
            "visibility": null,
            "width": null
          }
        },
        "7c1865ef9de141ba86d8be145e0117a2": {
          "model_module": "@jupyter-widgets/controls",
          "model_name": "DescriptionStyleModel",
          "model_module_version": "1.5.0",
          "state": {
            "_model_module": "@jupyter-widgets/controls",
            "_model_module_version": "1.5.0",
            "_model_name": "DescriptionStyleModel",
            "_view_count": null,
            "_view_module": "@jupyter-widgets/base",
            "_view_module_version": "1.2.0",
            "_view_name": "StyleView",
            "description_width": ""
          }
        },
        "81c504742aea4534840135033525dc13": {
          "model_module": "@jupyter-widgets/controls",
          "model_name": "HBoxModel",
          "model_module_version": "1.5.0",
          "state": {
            "_dom_classes": [],
            "_model_module": "@jupyter-widgets/controls",
            "_model_module_version": "1.5.0",
            "_model_name": "HBoxModel",
            "_view_count": null,
            "_view_module": "@jupyter-widgets/controls",
            "_view_module_version": "1.5.0",
            "_view_name": "HBoxView",
            "box_style": "",
            "children": [
              "IPY_MODEL_f3bdfca448384c2d8fbe82f0bbd6389f",
              "IPY_MODEL_ce8be5c85163427fb766ed6230a42354",
              "IPY_MODEL_62a100a298d847658a67171af9d700ef"
            ],
            "layout": "IPY_MODEL_1b799bfdcc704e15b0ba5764ed0914ad"
          }
        },
        "f3bdfca448384c2d8fbe82f0bbd6389f": {
          "model_module": "@jupyter-widgets/controls",
          "model_name": "HTMLModel",
          "model_module_version": "1.5.0",
          "state": {
            "_dom_classes": [],
            "_model_module": "@jupyter-widgets/controls",
            "_model_module_version": "1.5.0",
            "_model_name": "HTMLModel",
            "_view_count": null,
            "_view_module": "@jupyter-widgets/controls",
            "_view_module_version": "1.5.0",
            "_view_name": "HTMLView",
            "description": "",
            "description_tooltip": null,
            "layout": "IPY_MODEL_36620fa0a1ab441b9f45c54c90491b30",
            "placeholder": "​",
            "style": "IPY_MODEL_3413a0d071c845b59ec103138cf64de8",
            "value": "tokenizer.json: 100%"
          }
        },
        "ce8be5c85163427fb766ed6230a42354": {
          "model_module": "@jupyter-widgets/controls",
          "model_name": "FloatProgressModel",
          "model_module_version": "1.5.0",
          "state": {
            "_dom_classes": [],
            "_model_module": "@jupyter-widgets/controls",
            "_model_module_version": "1.5.0",
            "_model_name": "FloatProgressModel",
            "_view_count": null,
            "_view_module": "@jupyter-widgets/controls",
            "_view_module_version": "1.5.0",
            "_view_name": "ProgressView",
            "bar_style": "success",
            "description": "",
            "description_tooltip": null,
            "layout": "IPY_MODEL_91d0353c887d4714a5ce3471509ed3fb",
            "max": 1355863,
            "min": 0,
            "orientation": "horizontal",
            "style": "IPY_MODEL_8cff25fce0ee4c28817fad8d8a2f4c35",
            "value": 1355863
          }
        },
        "62a100a298d847658a67171af9d700ef": {
          "model_module": "@jupyter-widgets/controls",
          "model_name": "HTMLModel",
          "model_module_version": "1.5.0",
          "state": {
            "_dom_classes": [],
            "_model_module": "@jupyter-widgets/controls",
            "_model_module_version": "1.5.0",
            "_model_name": "HTMLModel",
            "_view_count": null,
            "_view_module": "@jupyter-widgets/controls",
            "_view_module_version": "1.5.0",
            "_view_name": "HTMLView",
            "description": "",
            "description_tooltip": null,
            "layout": "IPY_MODEL_4385f749fbb34c89a90ab35a4fe47df3",
            "placeholder": "​",
            "style": "IPY_MODEL_b0bd669c7f104b54bcb12c96d4c35e3a",
            "value": " 1.36M/1.36M [00:00&lt;00:00, 4.20MB/s]"
          }
        },
        "1b799bfdcc704e15b0ba5764ed0914ad": {
          "model_module": "@jupyter-widgets/base",
          "model_name": "LayoutModel",
          "model_module_version": "1.2.0",
          "state": {
            "_model_module": "@jupyter-widgets/base",
            "_model_module_version": "1.2.0",
            "_model_name": "LayoutModel",
            "_view_count": null,
            "_view_module": "@jupyter-widgets/base",
            "_view_module_version": "1.2.0",
            "_view_name": "LayoutView",
            "align_content": null,
            "align_items": null,
            "align_self": null,
            "border": null,
            "bottom": null,
            "display": null,
            "flex": null,
            "flex_flow": null,
            "grid_area": null,
            "grid_auto_columns": null,
            "grid_auto_flow": null,
            "grid_auto_rows": null,
            "grid_column": null,
            "grid_gap": null,
            "grid_row": null,
            "grid_template_areas": null,
            "grid_template_columns": null,
            "grid_template_rows": null,
            "height": null,
            "justify_content": null,
            "justify_items": null,
            "left": null,
            "margin": null,
            "max_height": null,
            "max_width": null,
            "min_height": null,
            "min_width": null,
            "object_fit": null,
            "object_position": null,
            "order": null,
            "overflow": null,
            "overflow_x": null,
            "overflow_y": null,
            "padding": null,
            "right": null,
            "top": null,
            "visibility": null,
            "width": null
          }
        },
        "36620fa0a1ab441b9f45c54c90491b30": {
          "model_module": "@jupyter-widgets/base",
          "model_name": "LayoutModel",
          "model_module_version": "1.2.0",
          "state": {
            "_model_module": "@jupyter-widgets/base",
            "_model_module_version": "1.2.0",
            "_model_name": "LayoutModel",
            "_view_count": null,
            "_view_module": "@jupyter-widgets/base",
            "_view_module_version": "1.2.0",
            "_view_name": "LayoutView",
            "align_content": null,
            "align_items": null,
            "align_self": null,
            "border": null,
            "bottom": null,
            "display": null,
            "flex": null,
            "flex_flow": null,
            "grid_area": null,
            "grid_auto_columns": null,
            "grid_auto_flow": null,
            "grid_auto_rows": null,
            "grid_column": null,
            "grid_gap": null,
            "grid_row": null,
            "grid_template_areas": null,
            "grid_template_columns": null,
            "grid_template_rows": null,
            "height": null,
            "justify_content": null,
            "justify_items": null,
            "left": null,
            "margin": null,
            "max_height": null,
            "max_width": null,
            "min_height": null,
            "min_width": null,
            "object_fit": null,
            "object_position": null,
            "order": null,
            "overflow": null,
            "overflow_x": null,
            "overflow_y": null,
            "padding": null,
            "right": null,
            "top": null,
            "visibility": null,
            "width": null
          }
        },
        "3413a0d071c845b59ec103138cf64de8": {
          "model_module": "@jupyter-widgets/controls",
          "model_name": "DescriptionStyleModel",
          "model_module_version": "1.5.0",
          "state": {
            "_model_module": "@jupyter-widgets/controls",
            "_model_module_version": "1.5.0",
            "_model_name": "DescriptionStyleModel",
            "_view_count": null,
            "_view_module": "@jupyter-widgets/base",
            "_view_module_version": "1.2.0",
            "_view_name": "StyleView",
            "description_width": ""
          }
        },
        "91d0353c887d4714a5ce3471509ed3fb": {
          "model_module": "@jupyter-widgets/base",
          "model_name": "LayoutModel",
          "model_module_version": "1.2.0",
          "state": {
            "_model_module": "@jupyter-widgets/base",
            "_model_module_version": "1.2.0",
            "_model_name": "LayoutModel",
            "_view_count": null,
            "_view_module": "@jupyter-widgets/base",
            "_view_module_version": "1.2.0",
            "_view_name": "LayoutView",
            "align_content": null,
            "align_items": null,
            "align_self": null,
            "border": null,
            "bottom": null,
            "display": null,
            "flex": null,
            "flex_flow": null,
            "grid_area": null,
            "grid_auto_columns": null,
            "grid_auto_flow": null,
            "grid_auto_rows": null,
            "grid_column": null,
            "grid_gap": null,
            "grid_row": null,
            "grid_template_areas": null,
            "grid_template_columns": null,
            "grid_template_rows": null,
            "height": null,
            "justify_content": null,
            "justify_items": null,
            "left": null,
            "margin": null,
            "max_height": null,
            "max_width": null,
            "min_height": null,
            "min_width": null,
            "object_fit": null,
            "object_position": null,
            "order": null,
            "overflow": null,
            "overflow_x": null,
            "overflow_y": null,
            "padding": null,
            "right": null,
            "top": null,
            "visibility": null,
            "width": null
          }
        },
        "8cff25fce0ee4c28817fad8d8a2f4c35": {
          "model_module": "@jupyter-widgets/controls",
          "model_name": "ProgressStyleModel",
          "model_module_version": "1.5.0",
          "state": {
            "_model_module": "@jupyter-widgets/controls",
            "_model_module_version": "1.5.0",
            "_model_name": "ProgressStyleModel",
            "_view_count": null,
            "_view_module": "@jupyter-widgets/base",
            "_view_module_version": "1.2.0",
            "_view_name": "StyleView",
            "bar_color": null,
            "description_width": ""
          }
        },
        "4385f749fbb34c89a90ab35a4fe47df3": {
          "model_module": "@jupyter-widgets/base",
          "model_name": "LayoutModel",
          "model_module_version": "1.2.0",
          "state": {
            "_model_module": "@jupyter-widgets/base",
            "_model_module_version": "1.2.0",
            "_model_name": "LayoutModel",
            "_view_count": null,
            "_view_module": "@jupyter-widgets/base",
            "_view_module_version": "1.2.0",
            "_view_name": "LayoutView",
            "align_content": null,
            "align_items": null,
            "align_self": null,
            "border": null,
            "bottom": null,
            "display": null,
            "flex": null,
            "flex_flow": null,
            "grid_area": null,
            "grid_auto_columns": null,
            "grid_auto_flow": null,
            "grid_auto_rows": null,
            "grid_column": null,
            "grid_gap": null,
            "grid_row": null,
            "grid_template_areas": null,
            "grid_template_columns": null,
            "grid_template_rows": null,
            "height": null,
            "justify_content": null,
            "justify_items": null,
            "left": null,
            "margin": null,
            "max_height": null,
            "max_width": null,
            "min_height": null,
            "min_width": null,
            "object_fit": null,
            "object_position": null,
            "order": null,
            "overflow": null,
            "overflow_x": null,
            "overflow_y": null,
            "padding": null,
            "right": null,
            "top": null,
            "visibility": null,
            "width": null
          }
        },
        "b0bd669c7f104b54bcb12c96d4c35e3a": {
          "model_module": "@jupyter-widgets/controls",
          "model_name": "DescriptionStyleModel",
          "model_module_version": "1.5.0",
          "state": {
            "_model_module": "@jupyter-widgets/controls",
            "_model_module_version": "1.5.0",
            "_model_name": "DescriptionStyleModel",
            "_view_count": null,
            "_view_module": "@jupyter-widgets/base",
            "_view_module_version": "1.2.0",
            "_view_name": "StyleView",
            "description_width": ""
          }
        },
        "7ad146b5553347ea82cf08b915c149f3": {
          "model_module": "@jupyter-widgets/controls",
          "model_name": "HBoxModel",
          "model_module_version": "1.5.0",
          "state": {
            "_dom_classes": [],
            "_model_module": "@jupyter-widgets/controls",
            "_model_module_version": "1.5.0",
            "_model_name": "HBoxModel",
            "_view_count": null,
            "_view_module": "@jupyter-widgets/controls",
            "_view_module_version": "1.5.0",
            "_view_name": "HBoxView",
            "box_style": "",
            "children": [
              "IPY_MODEL_e21f54c9fa3a4115828c83ba533702ac",
              "IPY_MODEL_3d3f1f590a6642bcb0c5fa5d08a835ae",
              "IPY_MODEL_099105f87a034d2c9f1b6c0f080fc70c"
            ],
            "layout": "IPY_MODEL_32148baa3c1e4abdb300a56ce5cf0f8e"
          }
        },
        "e21f54c9fa3a4115828c83ba533702ac": {
          "model_module": "@jupyter-widgets/controls",
          "model_name": "HTMLModel",
          "model_module_version": "1.5.0",
          "state": {
            "_dom_classes": [],
            "_model_module": "@jupyter-widgets/controls",
            "_model_module_version": "1.5.0",
            "_model_name": "HTMLModel",
            "_view_count": null,
            "_view_module": "@jupyter-widgets/controls",
            "_view_module_version": "1.5.0",
            "_view_name": "HTMLView",
            "description": "",
            "description_tooltip": null,
            "layout": "IPY_MODEL_192c1c1ce9ed4c0cbcc0ab6df9bf4957",
            "placeholder": "​",
            "style": "IPY_MODEL_6160bf1ddcd64007a830c6f501599052",
            "value": "config.json: 100%"
          }
        },
        "3d3f1f590a6642bcb0c5fa5d08a835ae": {
          "model_module": "@jupyter-widgets/controls",
          "model_name": "FloatProgressModel",
          "model_module_version": "1.5.0",
          "state": {
            "_dom_classes": [],
            "_model_module": "@jupyter-widgets/controls",
            "_model_module_version": "1.5.0",
            "_model_name": "FloatProgressModel",
            "_view_count": null,
            "_view_module": "@jupyter-widgets/controls",
            "_view_module_version": "1.5.0",
            "_view_name": "ProgressView",
            "bar_style": "success",
            "description": "",
            "description_tooltip": null,
            "layout": "IPY_MODEL_36d100213ca5413096f406e6361d28aa",
            "max": 1154,
            "min": 0,
            "orientation": "horizontal",
            "style": "IPY_MODEL_9e3cec22f6f646b2b37e2654bcf5d7b7",
            "value": 1154
          }
        },
        "099105f87a034d2c9f1b6c0f080fc70c": {
          "model_module": "@jupyter-widgets/controls",
          "model_name": "HTMLModel",
          "model_module_version": "1.5.0",
          "state": {
            "_dom_classes": [],
            "_model_module": "@jupyter-widgets/controls",
            "_model_module_version": "1.5.0",
            "_model_name": "HTMLModel",
            "_view_count": null,
            "_view_module": "@jupyter-widgets/controls",
            "_view_module_version": "1.5.0",
            "_view_name": "HTMLView",
            "description": "",
            "description_tooltip": null,
            "layout": "IPY_MODEL_ac02676641a24a06931c735df211c5ad",
            "placeholder": "​",
            "style": "IPY_MODEL_270fcc5100714367a7765b28ed5fe33d",
            "value": " 1.15k/1.15k [00:00&lt;00:00, 29.1kB/s]"
          }
        },
        "32148baa3c1e4abdb300a56ce5cf0f8e": {
          "model_module": "@jupyter-widgets/base",
          "model_name": "LayoutModel",
          "model_module_version": "1.2.0",
          "state": {
            "_model_module": "@jupyter-widgets/base",
            "_model_module_version": "1.2.0",
            "_model_name": "LayoutModel",
            "_view_count": null,
            "_view_module": "@jupyter-widgets/base",
            "_view_module_version": "1.2.0",
            "_view_name": "LayoutView",
            "align_content": null,
            "align_items": null,
            "align_self": null,
            "border": null,
            "bottom": null,
            "display": null,
            "flex": null,
            "flex_flow": null,
            "grid_area": null,
            "grid_auto_columns": null,
            "grid_auto_flow": null,
            "grid_auto_rows": null,
            "grid_column": null,
            "grid_gap": null,
            "grid_row": null,
            "grid_template_areas": null,
            "grid_template_columns": null,
            "grid_template_rows": null,
            "height": null,
            "justify_content": null,
            "justify_items": null,
            "left": null,
            "margin": null,
            "max_height": null,
            "max_width": null,
            "min_height": null,
            "min_width": null,
            "object_fit": null,
            "object_position": null,
            "order": null,
            "overflow": null,
            "overflow_x": null,
            "overflow_y": null,
            "padding": null,
            "right": null,
            "top": null,
            "visibility": null,
            "width": null
          }
        },
        "192c1c1ce9ed4c0cbcc0ab6df9bf4957": {
          "model_module": "@jupyter-widgets/base",
          "model_name": "LayoutModel",
          "model_module_version": "1.2.0",
          "state": {
            "_model_module": "@jupyter-widgets/base",
            "_model_module_version": "1.2.0",
            "_model_name": "LayoutModel",
            "_view_count": null,
            "_view_module": "@jupyter-widgets/base",
            "_view_module_version": "1.2.0",
            "_view_name": "LayoutView",
            "align_content": null,
            "align_items": null,
            "align_self": null,
            "border": null,
            "bottom": null,
            "display": null,
            "flex": null,
            "flex_flow": null,
            "grid_area": null,
            "grid_auto_columns": null,
            "grid_auto_flow": null,
            "grid_auto_rows": null,
            "grid_column": null,
            "grid_gap": null,
            "grid_row": null,
            "grid_template_areas": null,
            "grid_template_columns": null,
            "grid_template_rows": null,
            "height": null,
            "justify_content": null,
            "justify_items": null,
            "left": null,
            "margin": null,
            "max_height": null,
            "max_width": null,
            "min_height": null,
            "min_width": null,
            "object_fit": null,
            "object_position": null,
            "order": null,
            "overflow": null,
            "overflow_x": null,
            "overflow_y": null,
            "padding": null,
            "right": null,
            "top": null,
            "visibility": null,
            "width": null
          }
        },
        "6160bf1ddcd64007a830c6f501599052": {
          "model_module": "@jupyter-widgets/controls",
          "model_name": "DescriptionStyleModel",
          "model_module_version": "1.5.0",
          "state": {
            "_model_module": "@jupyter-widgets/controls",
            "_model_module_version": "1.5.0",
            "_model_name": "DescriptionStyleModel",
            "_view_count": null,
            "_view_module": "@jupyter-widgets/base",
            "_view_module_version": "1.2.0",
            "_view_name": "StyleView",
            "description_width": ""
          }
        },
        "36d100213ca5413096f406e6361d28aa": {
          "model_module": "@jupyter-widgets/base",
          "model_name": "LayoutModel",
          "model_module_version": "1.2.0",
          "state": {
            "_model_module": "@jupyter-widgets/base",
            "_model_module_version": "1.2.0",
            "_model_name": "LayoutModel",
            "_view_count": null,
            "_view_module": "@jupyter-widgets/base",
            "_view_module_version": "1.2.0",
            "_view_name": "LayoutView",
            "align_content": null,
            "align_items": null,
            "align_self": null,
            "border": null,
            "bottom": null,
            "display": null,
            "flex": null,
            "flex_flow": null,
            "grid_area": null,
            "grid_auto_columns": null,
            "grid_auto_flow": null,
            "grid_auto_rows": null,
            "grid_column": null,
            "grid_gap": null,
            "grid_row": null,
            "grid_template_areas": null,
            "grid_template_columns": null,
            "grid_template_rows": null,
            "height": null,
            "justify_content": null,
            "justify_items": null,
            "left": null,
            "margin": null,
            "max_height": null,
            "max_width": null,
            "min_height": null,
            "min_width": null,
            "object_fit": null,
            "object_position": null,
            "order": null,
            "overflow": null,
            "overflow_x": null,
            "overflow_y": null,
            "padding": null,
            "right": null,
            "top": null,
            "visibility": null,
            "width": null
          }
        },
        "9e3cec22f6f646b2b37e2654bcf5d7b7": {
          "model_module": "@jupyter-widgets/controls",
          "model_name": "ProgressStyleModel",
          "model_module_version": "1.5.0",
          "state": {
            "_model_module": "@jupyter-widgets/controls",
            "_model_module_version": "1.5.0",
            "_model_name": "ProgressStyleModel",
            "_view_count": null,
            "_view_module": "@jupyter-widgets/base",
            "_view_module_version": "1.2.0",
            "_view_name": "StyleView",
            "bar_color": null,
            "description_width": ""
          }
        },
        "ac02676641a24a06931c735df211c5ad": {
          "model_module": "@jupyter-widgets/base",
          "model_name": "LayoutModel",
          "model_module_version": "1.2.0",
          "state": {
            "_model_module": "@jupyter-widgets/base",
            "_model_module_version": "1.2.0",
            "_model_name": "LayoutModel",
            "_view_count": null,
            "_view_module": "@jupyter-widgets/base",
            "_view_module_version": "1.2.0",
            "_view_name": "LayoutView",
            "align_content": null,
            "align_items": null,
            "align_self": null,
            "border": null,
            "bottom": null,
            "display": null,
            "flex": null,
            "flex_flow": null,
            "grid_area": null,
            "grid_auto_columns": null,
            "grid_auto_flow": null,
            "grid_auto_rows": null,
            "grid_column": null,
            "grid_gap": null,
            "grid_row": null,
            "grid_template_areas": null,
            "grid_template_columns": null,
            "grid_template_rows": null,
            "height": null,
            "justify_content": null,
            "justify_items": null,
            "left": null,
            "margin": null,
            "max_height": null,
            "max_width": null,
            "min_height": null,
            "min_width": null,
            "object_fit": null,
            "object_position": null,
            "order": null,
            "overflow": null,
            "overflow_x": null,
            "overflow_y": null,
            "padding": null,
            "right": null,
            "top": null,
            "visibility": null,
            "width": null
          }
        },
        "270fcc5100714367a7765b28ed5fe33d": {
          "model_module": "@jupyter-widgets/controls",
          "model_name": "DescriptionStyleModel",
          "model_module_version": "1.5.0",
          "state": {
            "_model_module": "@jupyter-widgets/controls",
            "_model_module_version": "1.5.0",
            "_model_name": "DescriptionStyleModel",
            "_view_count": null,
            "_view_module": "@jupyter-widgets/base",
            "_view_module_version": "1.2.0",
            "_view_name": "StyleView",
            "description_width": ""
          }
        },
        "de71e0f914f141159a61486e3f8cfc09": {
          "model_module": "@jupyter-widgets/controls",
          "model_name": "HBoxModel",
          "model_module_version": "1.5.0",
          "state": {
            "_dom_classes": [],
            "_model_module": "@jupyter-widgets/controls",
            "_model_module_version": "1.5.0",
            "_model_name": "HBoxModel",
            "_view_count": null,
            "_view_module": "@jupyter-widgets/controls",
            "_view_module_version": "1.5.0",
            "_view_name": "HBoxView",
            "box_style": "",
            "children": [
              "IPY_MODEL_1ec34d6d39454d6892ec5d179935c1d2",
              "IPY_MODEL_83149e5ddace444cb8572b6744e7171b",
              "IPY_MODEL_25cd92eb331b476a9157def628f37c09"
            ],
            "layout": "IPY_MODEL_11203624e8e343fc8c8fe70bf7758487"
          }
        },
        "1ec34d6d39454d6892ec5d179935c1d2": {
          "model_module": "@jupyter-widgets/controls",
          "model_name": "HTMLModel",
          "model_module_version": "1.5.0",
          "state": {
            "_dom_classes": [],
            "_model_module": "@jupyter-widgets/controls",
            "_model_module_version": "1.5.0",
            "_model_name": "HTMLModel",
            "_view_count": null,
            "_view_module": "@jupyter-widgets/controls",
            "_view_module_version": "1.5.0",
            "_view_name": "HTMLView",
            "description": "",
            "description_tooltip": null,
            "layout": "IPY_MODEL_cf75f0b8d1764908996312893785e527",
            "placeholder": "​",
            "style": "IPY_MODEL_664b7aa3933c47b09c1b14fe96459d1c",
            "value": "model.safetensors: 100%"
          }
        },
        "83149e5ddace444cb8572b6744e7171b": {
          "model_module": "@jupyter-widgets/controls",
          "model_name": "FloatProgressModel",
          "model_module_version": "1.5.0",
          "state": {
            "_dom_classes": [],
            "_model_module": "@jupyter-widgets/controls",
            "_model_module_version": "1.5.0",
            "_model_name": "FloatProgressModel",
            "_view_count": null,
            "_view_module": "@jupyter-widgets/controls",
            "_view_module_version": "1.5.0",
            "_view_name": "ProgressView",
            "bar_style": "success",
            "description": "",
            "description_tooltip": null,
            "layout": "IPY_MODEL_0f13453ad9e44e178814f2f41873ff47",
            "max": 1629437147,
            "min": 0,
            "orientation": "horizontal",
            "style": "IPY_MODEL_e37f1df6cfb3461db9c2d1f9fb0d2ad5",
            "value": 1629437147
          }
        },
        "25cd92eb331b476a9157def628f37c09": {
          "model_module": "@jupyter-widgets/controls",
          "model_name": "HTMLModel",
          "model_module_version": "1.5.0",
          "state": {
            "_dom_classes": [],
            "_model_module": "@jupyter-widgets/controls",
            "_model_module_version": "1.5.0",
            "_model_name": "HTMLModel",
            "_view_count": null,
            "_view_module": "@jupyter-widgets/controls",
            "_view_module_version": "1.5.0",
            "_view_name": "HTMLView",
            "description": "",
            "description_tooltip": null,
            "layout": "IPY_MODEL_004391621fc845fd96275493e4c19892",
            "placeholder": "​",
            "style": "IPY_MODEL_1bd3a079c24c4274bfbfee98e77197e6",
            "value": " 1.63G/1.63G [00:18&lt;00:00, 149MB/s]"
          }
        },
        "11203624e8e343fc8c8fe70bf7758487": {
          "model_module": "@jupyter-widgets/base",
          "model_name": "LayoutModel",
          "model_module_version": "1.2.0",
          "state": {
            "_model_module": "@jupyter-widgets/base",
            "_model_module_version": "1.2.0",
            "_model_name": "LayoutModel",
            "_view_count": null,
            "_view_module": "@jupyter-widgets/base",
            "_view_module_version": "1.2.0",
            "_view_name": "LayoutView",
            "align_content": null,
            "align_items": null,
            "align_self": null,
            "border": null,
            "bottom": null,
            "display": null,
            "flex": null,
            "flex_flow": null,
            "grid_area": null,
            "grid_auto_columns": null,
            "grid_auto_flow": null,
            "grid_auto_rows": null,
            "grid_column": null,
            "grid_gap": null,
            "grid_row": null,
            "grid_template_areas": null,
            "grid_template_columns": null,
            "grid_template_rows": null,
            "height": null,
            "justify_content": null,
            "justify_items": null,
            "left": null,
            "margin": null,
            "max_height": null,
            "max_width": null,
            "min_height": null,
            "min_width": null,
            "object_fit": null,
            "object_position": null,
            "order": null,
            "overflow": null,
            "overflow_x": null,
            "overflow_y": null,
            "padding": null,
            "right": null,
            "top": null,
            "visibility": null,
            "width": null
          }
        },
        "cf75f0b8d1764908996312893785e527": {
          "model_module": "@jupyter-widgets/base",
          "model_name": "LayoutModel",
          "model_module_version": "1.2.0",
          "state": {
            "_model_module": "@jupyter-widgets/base",
            "_model_module_version": "1.2.0",
            "_model_name": "LayoutModel",
            "_view_count": null,
            "_view_module": "@jupyter-widgets/base",
            "_view_module_version": "1.2.0",
            "_view_name": "LayoutView",
            "align_content": null,
            "align_items": null,
            "align_self": null,
            "border": null,
            "bottom": null,
            "display": null,
            "flex": null,
            "flex_flow": null,
            "grid_area": null,
            "grid_auto_columns": null,
            "grid_auto_flow": null,
            "grid_auto_rows": null,
            "grid_column": null,
            "grid_gap": null,
            "grid_row": null,
            "grid_template_areas": null,
            "grid_template_columns": null,
            "grid_template_rows": null,
            "height": null,
            "justify_content": null,
            "justify_items": null,
            "left": null,
            "margin": null,
            "max_height": null,
            "max_width": null,
            "min_height": null,
            "min_width": null,
            "object_fit": null,
            "object_position": null,
            "order": null,
            "overflow": null,
            "overflow_x": null,
            "overflow_y": null,
            "padding": null,
            "right": null,
            "top": null,
            "visibility": null,
            "width": null
          }
        },
        "664b7aa3933c47b09c1b14fe96459d1c": {
          "model_module": "@jupyter-widgets/controls",
          "model_name": "DescriptionStyleModel",
          "model_module_version": "1.5.0",
          "state": {
            "_model_module": "@jupyter-widgets/controls",
            "_model_module_version": "1.5.0",
            "_model_name": "DescriptionStyleModel",
            "_view_count": null,
            "_view_module": "@jupyter-widgets/base",
            "_view_module_version": "1.2.0",
            "_view_name": "StyleView",
            "description_width": ""
          }
        },
        "0f13453ad9e44e178814f2f41873ff47": {
          "model_module": "@jupyter-widgets/base",
          "model_name": "LayoutModel",
          "model_module_version": "1.2.0",
          "state": {
            "_model_module": "@jupyter-widgets/base",
            "_model_module_version": "1.2.0",
            "_model_name": "LayoutModel",
            "_view_count": null,
            "_view_module": "@jupyter-widgets/base",
            "_view_module_version": "1.2.0",
            "_view_name": "LayoutView",
            "align_content": null,
            "align_items": null,
            "align_self": null,
            "border": null,
            "bottom": null,
            "display": null,
            "flex": null,
            "flex_flow": null,
            "grid_area": null,
            "grid_auto_columns": null,
            "grid_auto_flow": null,
            "grid_auto_rows": null,
            "grid_column": null,
            "grid_gap": null,
            "grid_row": null,
            "grid_template_areas": null,
            "grid_template_columns": null,
            "grid_template_rows": null,
            "height": null,
            "justify_content": null,
            "justify_items": null,
            "left": null,
            "margin": null,
            "max_height": null,
            "max_width": null,
            "min_height": null,
            "min_width": null,
            "object_fit": null,
            "object_position": null,
            "order": null,
            "overflow": null,
            "overflow_x": null,
            "overflow_y": null,
            "padding": null,
            "right": null,
            "top": null,
            "visibility": null,
            "width": null
          }
        },
        "e37f1df6cfb3461db9c2d1f9fb0d2ad5": {
          "model_module": "@jupyter-widgets/controls",
          "model_name": "ProgressStyleModel",
          "model_module_version": "1.5.0",
          "state": {
            "_model_module": "@jupyter-widgets/controls",
            "_model_module_version": "1.5.0",
            "_model_name": "ProgressStyleModel",
            "_view_count": null,
            "_view_module": "@jupyter-widgets/base",
            "_view_module_version": "1.2.0",
            "_view_name": "StyleView",
            "bar_color": null,
            "description_width": ""
          }
        },
        "004391621fc845fd96275493e4c19892": {
          "model_module": "@jupyter-widgets/base",
          "model_name": "LayoutModel",
          "model_module_version": "1.2.0",
          "state": {
            "_model_module": "@jupyter-widgets/base",
            "_model_module_version": "1.2.0",
            "_model_name": "LayoutModel",
            "_view_count": null,
            "_view_module": "@jupyter-widgets/base",
            "_view_module_version": "1.2.0",
            "_view_name": "LayoutView",
            "align_content": null,
            "align_items": null,
            "align_self": null,
            "border": null,
            "bottom": null,
            "display": null,
            "flex": null,
            "flex_flow": null,
            "grid_area": null,
            "grid_auto_columns": null,
            "grid_auto_flow": null,
            "grid_auto_rows": null,
            "grid_column": null,
            "grid_gap": null,
            "grid_row": null,
            "grid_template_areas": null,
            "grid_template_columns": null,
            "grid_template_rows": null,
            "height": null,
            "justify_content": null,
            "justify_items": null,
            "left": null,
            "margin": null,
            "max_height": null,
            "max_width": null,
            "min_height": null,
            "min_width": null,
            "object_fit": null,
            "object_position": null,
            "order": null,
            "overflow": null,
            "overflow_x": null,
            "overflow_y": null,
            "padding": null,
            "right": null,
            "top": null,
            "visibility": null,
            "width": null
          }
        },
        "1bd3a079c24c4274bfbfee98e77197e6": {
          "model_module": "@jupyter-widgets/controls",
          "model_name": "DescriptionStyleModel",
          "model_module_version": "1.5.0",
          "state": {
            "_model_module": "@jupyter-widgets/controls",
            "_model_module_version": "1.5.0",
            "_model_name": "DescriptionStyleModel",
            "_view_count": null,
            "_view_module": "@jupyter-widgets/base",
            "_view_module_version": "1.2.0",
            "_view_name": "StyleView",
            "description_width": ""
          }
        }
      }
    }
  },
  "nbformat": 4,
  "nbformat_minor": 5
}