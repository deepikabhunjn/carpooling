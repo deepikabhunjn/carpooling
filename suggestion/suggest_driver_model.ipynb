{
  "cells": [
    {
      "cell_type": "code",
      "execution_count": 1,
      "id": "y7LYNCufoCN1",
      "metadata": {
        "colab": {
          "base_uri": "https://localhost:8080/"
        },
        "id": "y7LYNCufoCN1",
        "outputId": "3fec5014-a8ba-4e6c-e728-c8c4d7ff0e6c"
      },
      "outputs": [
        {
          "name": "stdout",
          "output_type": "stream",
          "text": [
            "Mounted at /content/drive\n"
          ]
        }
      ],
      "source": [
        "# connect to drive\n",
        "from google.colab import drive\n",
        "drive.mount('/content/drive')"
      ]
    },
    {
      "cell_type": "markdown",
      "id": "c6e75f54-9797-4e2f-8b90-17156620a2c4",
      "metadata": {
        "id": "c6e75f54-9797-4e2f-8b90-17156620a2c4"
      },
      "source": [
        "## imports"
      ]
    },
    {
      "cell_type": "code",
      "execution_count": 2,
      "id": "15408a7f-ce3e-478a-9fdc-204f8c8985e5",
      "metadata": {
        "id": "15408a7f-ce3e-478a-9fdc-204f8c8985e5"
      },
      "outputs": [],
      "source": [
        "import pandas as pd  # Used for data manipulation and analysis, particularly for working with DataFrames.\n",
        "import numpy as np  # Provides numerical computing capabilities, including arrays and mathematical operations.\n",
        "import matplotlib.pyplot as plt  # Used for data visualization, including creating plots and graphs.\n",
        "import seaborn as sns  # Built on top of Matplotlib, used for statistical data visualization and enhancing plots.\n",
        "import torch  # Provides deep learning functionalities and tensor operations, commonly used with PyTorch models.\n",
        "from transformers import BartForSequenceClassification, BartTokenizer  # Used for NLP tasks, particularly BART model for sequence classification.\n",
        "from sklearn.model_selection import train_test_split  # Splits dataset into training and testing sets for machine learning models.\n",
        "from sklearn.ensemble import RandomForestRegressor  # Implements a Random Forest regression model for predictive analytics.\n",
        "from sklearn.metrics import mean_squared_error, mean_absolute_error, r2_score  # Provides performance metrics for regression models.\n",
        "import joblib  # Used for saving and loading trained machine learning models and preprocessing objects."
      ]
    },
    {
      "cell_type": "markdown",
      "id": "686c67bd-4b9e-4c62-b67c-29b2116d5410",
      "metadata": {
        "id": "686c67bd-4b9e-4c62-b67c-29b2116d5410"
      },
      "source": [
        "# Ensure that the file 'dummy_training_data.xlsx' is in your working directory."
      ]
    },
    {
      "cell_type": "code",
      "execution_count": 3,
      "id": "3ebaba6e-9207-401a-882a-2460052ab85c",
      "metadata": {
        "colab": {
          "base_uri": "https://localhost:8080/"
        },
        "id": "3ebaba6e-9207-401a-882a-2460052ab85c",
        "outputId": "f25ea5cf-538d-45fa-8f06-460bdc5a75c0"
      },
      "outputs": [
        {
          "name": "stderr",
          "output_type": "stream",
          "text": [
            "<ipython-input-3-80384c3c87bf>:2: FutureWarning: A value is trying to be set on a copy of a DataFrame or Series through chained assignment using an inplace method.\n",
            "The behavior will change in pandas 3.0. This inplace method will never work because the intermediate object on which we are setting values always behaves as a copy.\n",
            "\n",
            "For example, when doing 'df[col].method(value, inplace=True)', try using 'df.method({col: value}, inplace=True)' or df[col] = df[col].method(value) instead, to perform the operation inplace on the original object.\n",
            "\n",
            "\n",
            "  df[\"customer_review\"].fillna(\"No review provided\", inplace=True) # replacing missing values\n"
          ]
        }
      ],
      "source": [
        "df = pd.read_excel(\"/content/drive/MyDrive/Colab Notebooks/dummy_training_data.xlsx\")\n",
        "df[\"customer_review\"].fillna(\"No review provided\", inplace=True) # replacing missing values"
      ]
    },
    {
      "cell_type": "markdown",
      "id": "eddd5a94-85b4-4138-9d43-32993eff2596",
      "metadata": {
        "id": "eddd5a94-85b4-4138-9d43-32993eff2596"
      },
      "source": [
        "# Sentiment Analysis Setup"
      ]
    },
    {
      "cell_type": "code",
      "execution_count": null,
      "id": "BJVVdbvGDcHN",
      "metadata": {
        "colab": {
          "base_uri": "https://localhost:8080/",
          "height": 313,
          "referenced_widgets": [
            "b4d66a7bb4c744778c8a4d884d2d2bf8",
            "c84dae9208b44bba9773e56775cb0b24",
            "f330efec980a478aa9f5776228333b74",
            "9657da018f7a47dd995b47901b517e02",
            "6095107663b64b4f85fd8df8c7e9c659",
            "b26a61bf51bc4b079db36c7bf33e1762",
            "ec2f17704e7a469a9c2129a58d705177",
            "26105062ff504ce8a427b8a56bed8017",
            "e79593850ab1441ea1860bb5b879d756",
            "ae74d0e3fdf94646ba09097476715406",
            "d2984028ecf3453c8f4575003fa0729a",
            "bc1dd41aeaa74da295874bc8acacfd6d",
            "e2d913b164ea46af85d24b76c2c78ab9",
            "aede93b236ca4e8e8505bce4e2d9f0d9",
            "869544d098ff41e8924a15c92b545743",
            "235f761af2fe4108b1ec641826062bc6",
            "4342a554f7594a58bd160b3fb1e6b2b1",
            "4b7e418ebcca48929d4f34ac4d92d2e5",
            "ffc993e533274ea0a7f5cd96dba9adf1",
            "599d43060a7045c09b34e136cbca8d2a",
            "2f9019f7885b420c8c6122c506a25f3a",
            "71bc8aaa3ba340de86da1e94549dc299",
            "d43d18868ffe4393828c399ddccea43b",
            "6c6d37326864400ebc79713f13d51d42",
            "5561786157ac4b58a966cd4fdd4a0b35",
            "023fd66f735d415caa57622fb960f6b9",
            "1e0623418bde41749937d9a457b29380",
            "5d43abb8a0e0493e9c7226f654e4416f",
            "10dfecbbd1ec4d3eb0c6edad9c48ed64",
            "1feba8735df44b3299fd69cda6bd8a33",
            "26d1fd993ef5432cba994d631b447df2",
            "08784b4ae1d341f49e1acc2feaa2afb8",
            "d871eb0f45674dc08e690e3515c5c195",
            "b9953e2e58fa4759812691d4307f2812",
            "840e7db6703b4128b0f6ca0d6faf1170",
            "1476f51ba54d41f6b117f43370c295e3",
            "da24e7289a3d489bbd25a1bccd146f1e",
            "b486bc05517a4b6f907d8dc0d6be2f5d",
            "60efa498eaa043cdba65ee18031090e8",
            "fe1a920d24b646bf8da467c1334f9d88",
            "03eaa4effafd4c108757b6aa3bb2a484",
            "e5af947f34d04aee8d88d3e195c02885",
            "0a13f144848a48b8a7fd760e4305b48d",
            "4d460be0694b42dbb634c7d0cf44bb00",
            "515717086ffa431c80dd77fefe7baa54",
            "0c269791cbc54c2ab235f0c74c0a4146",
            "dce80e072e9947968b52b732b1c1f96a",
            "b6c7780af3424bbc83f0e6dd6d619a30",
            "ef47535dbb9349d3aa786a3b203af059",
            "173ef99c7a1244958dc2560d84cbb046",
            "3a52496516cd4b3694324afba7ff9799",
            "8ab2bb8fe08344e69a49396a6273be07",
            "9492f0718e1e43738566af8f00e922da",
            "52ee5e1a828d4faeb3c0a7872f678421",
            "89f86d70f0f54236860766666268b662",
            "82ce121657c84bda84cbe28d745f44a2",
            "9e99c5733aaa4aaca340c83d1ea0d4cc",
            "552355f652ae448a97d0ce18daf8a8c5",
            "d4f9b62df4974c118d556fa641798551",
            "02f1a4e1c0b341a59c2f485c71d2583a",
            "6dde798097a6465981650acdeee2ef56",
            "670f7b472387403fb7e0b93d80d308d1",
            "795163a1230748fa93749af4b6927d36",
            "9569f35de984412bb18c547f936a994c",
            "b1a2d92dbe90427bb5d80a33fb03b310",
            "834ce5145c9646808840887ea799f7b6"
          ]
        },
        "id": "BJVVdbvGDcHN",
        "outputId": "c28b00b1-0360-491b-f921-27240899a6d4"
      },
      "outputs": [
        {
          "name": "stderr",
          "output_type": "stream",
          "text": [
            "/usr/local/lib/python3.11/dist-packages/huggingface_hub/utils/_auth.py:94: UserWarning: \n",
            "The secret `HF_TOKEN` does not exist in your Colab secrets.\n",
            "To authenticate with the Hugging Face Hub, create a token in your settings tab (https://huggingface.co/settings/tokens), set it as secret in your Google Colab and restart your session.\n",
            "You will be able to reuse this secret in all of your notebooks.\n",
            "Please note that authentication is recommended but still optional to access public models or datasets.\n",
            "  warnings.warn(\n"
          ]
        },
        {
          "data": {
            "application/vnd.jupyter.widget-view+json": {
              "model_id": "b4d66a7bb4c744778c8a4d884d2d2bf8",
              "version_major": 2,
              "version_minor": 0
            },
            "text/plain": [
              "tokenizer_config.json:   0%|          | 0.00/26.0 [00:00<?, ?B/s]"
            ]
          },
          "metadata": {},
          "output_type": "display_data"
        },
        {
          "data": {
            "application/vnd.jupyter.widget-view+json": {
              "model_id": "bc1dd41aeaa74da295874bc8acacfd6d",
              "version_major": 2,
              "version_minor": 0
            },
            "text/plain": [
              "vocab.json:   0%|          | 0.00/899k [00:00<?, ?B/s]"
            ]
          },
          "metadata": {},
          "output_type": "display_data"
        },
        {
          "data": {
            "application/vnd.jupyter.widget-view+json": {
              "model_id": "d43d18868ffe4393828c399ddccea43b",
              "version_major": 2,
              "version_minor": 0
            },
            "text/plain": [
              "merges.txt:   0%|          | 0.00/456k [00:00<?, ?B/s]"
            ]
          },
          "metadata": {},
          "output_type": "display_data"
        },
        {
          "data": {
            "application/vnd.jupyter.widget-view+json": {
              "model_id": "b9953e2e58fa4759812691d4307f2812",
              "version_major": 2,
              "version_minor": 0
            },
            "text/plain": [
              "tokenizer.json:   0%|          | 0.00/1.36M [00:00<?, ?B/s]"
            ]
          },
          "metadata": {},
          "output_type": "display_data"
        },
        {
          "data": {
            "application/vnd.jupyter.widget-view+json": {
              "model_id": "515717086ffa431c80dd77fefe7baa54",
              "version_major": 2,
              "version_minor": 0
            },
            "text/plain": [
              "config.json:   0%|          | 0.00/1.15k [00:00<?, ?B/s]"
            ]
          },
          "metadata": {},
          "output_type": "display_data"
        },
        {
          "data": {
            "application/vnd.jupyter.widget-view+json": {
              "model_id": "82ce121657c84bda84cbe28d745f44a2",
              "version_major": 2,
              "version_minor": 0
            },
            "text/plain": [
              "model.safetensors:   0%|          | 0.00/1.63G [00:00<?, ?B/s]"
            ]
          },
          "metadata": {},
          "output_type": "display_data"
        }
      ],
      "source": [
        "model_name = \"facebook/bart-large-mnli\" # transformer : pre trained sequence classification model from FB AI for text classification\n",
        "tokenizer = BartTokenizer.from_pretrained(model_name) # converts text into tokenized format for model inference\n",
        "bart_model = BartForSequenceClassification.from_pretrained(model_name, num_labels=3) # 3 classes"
      ]
    },
    {
      "cell_type": "code",
      "execution_count": 5,
      "id": "4c8e1e6d-d155-4575-b084-36775bc00c51",
      "metadata": {
        "id": "4c8e1e6d-d155-4575-b084-36775bc00c51"
      },
      "outputs": [],
      "source": [
        "def analyze_sentiment(text):\n",
        "    \"\"\"\n",
        "    Compute the sentiment score as the difference between positive and negative\n",
        "    probabilities from BART, and apply an extra penalty for clearly negative reviews.\n",
        "    \"\"\"\n",
        "    inputs = tokenizer(text, return_tensors=\"pt\", truncation=True, padding=True) # tokenizes and processes reviews to predict score\n",
        "    with torch.no_grad():\n",
        "        logits = bart_model(**inputs).logits\n",
        "    scores = torch.nn.functional.softmax(logits, dim=-1).tolist()[0] # Converts model logits into class probabilities.\n",
        "    # Assumed label order: [Negative, Neutral, Positive]\n",
        "    base_score = scores[2] - scores[0]\n",
        "\n",
        "    # Apply extra penalty if negative keywords are found\n",
        "    negative_keywords = [\"poor\", \"bad\", \"subpar\", \"rude\", \"dirty\", \"late\"]\n",
        "    if any(word in text.lower() for word in negative_keywords):\n",
        "        base_score -= 0.2  # Adjust this penalty as needed\n",
        "\n",
        "    return base_score"
      ]
    },
    {
      "cell_type": "markdown",
      "id": "c55c7b7e-c462-4a0e-aaaa-3e5dbccf82af",
      "metadata": {
        "id": "c55c7b7e-c462-4a0e-aaaa-3e5dbccf82af"
      },
      "source": [
        "# Compute sentiment scores and convert them to a 1–5 scale rating."
      ]
    },
    {
      "cell_type": "code",
      "execution_count": 6,
      "id": "d43b01b0-cbce-444d-addd-f23d04eefcaf",
      "metadata": {
        "id": "d43b01b0-cbce-444d-addd-f23d04eefcaf"
      },
      "outputs": [],
      "source": [
        "# Feature engineering\n",
        "# Compute sentiment scores and convert them to a 1–5 scale rating.\n",
        "df[\"review_sentiment\"] = df[\"customer_review\"].apply(analyze_sentiment)\n",
        "df[\"sentiment_rating\"] = (df[\"review_sentiment\"] + 1) * 2.5   # maps score from (-1,1) → (1,5)"
      ]
    },
    {
      "cell_type": "markdown",
      "id": "23e2609b-4ffd-4d85-8942-58bb3a420da2",
      "metadata": {
        "id": "23e2609b-4ffd-4d85-8942-58bb3a420da2"
      },
      "source": [
        "# Overall Rating Calculation"
      ]
    },
    {
      "cell_type": "markdown",
      "id": "83ea7c9c-41bb-4248-bd23-0d94581fdeaf",
      "metadata": {
        "id": "83ea7c9c-41bb-4248-bd23-0d94581fdeaf"
      },
      "source": [
        "## Overall rating is a weighted combination: 70% average_rating, 30% sentiment_rating"
      ]
    },
    {
      "cell_type": "code",
      "execution_count": 7,
      "id": "a7f188b9-cc77-4ce1-9880-a6a3a3bb9834",
      "metadata": {
        "id": "a7f188b9-cc77-4ce1-9880-a6a3a3bb9834"
      },
      "outputs": [],
      "source": [
        "df[\"overall_rating\"] = (0.7 * df[\"average_rating\"]) + (0.3 * df[\"sentiment_rating\"])"
      ]
    },
    {
      "cell_type": "markdown",
      "id": "WcIGZ5HHwKkU",
      "metadata": {
        "id": "WcIGZ5HHwKkU"
      },
      "source": [
        "# Aggregate reviews by driver"
      ]
    },
    {
      "cell_type": "markdown",
      "id": "whJUfwzxh6-F",
      "metadata": {
        "id": "whJUfwzxh6-F"
      },
      "source": []
    },
    {
      "cell_type": "code",
      "execution_count": 8,
      "id": "tO9pkm3hwPRc",
      "metadata": {
        "id": "tO9pkm3hwPRc"
      },
      "outputs": [],
      "source": [
        "# If a driver has multiple reviews, aggregate them by averaging the ratings.\n",
        "agg_df = df.groupby(\"driver_id\").agg({\n",
        "    \"average_rating\": \"mean\",\n",
        "    \"sentiment_rating\": \"mean\"\n",
        "}).reset_index()\n",
        "agg_df[\"overall_rating\"] = (0.7 * agg_df[\"average_rating\"]) + (0.3 * agg_df[\"sentiment_rating\"])"
      ]
    },
    {
      "cell_type": "markdown",
      "id": "c9c3b883-5d35-4d47-9b60-ef5c53767727",
      "metadata": {
        "id": "c9c3b883-5d35-4d47-9b60-ef5c53767727"
      },
      "source": [
        "# Model Training"
      ]
    },
    {
      "cell_type": "markdown",
      "id": "515da436-81d6-4576-b599-66112886bed7",
      "metadata": {
        "id": "515da436-81d6-4576-b599-66112886bed7"
      },
      "source": [
        "# Prepare features and target variable"
      ]
    },
    {
      "cell_type": "code",
      "execution_count": 9,
      "id": "c9ccaf13-ac06-45c7-a3ea-cf500d1d8840",
      "metadata": {
        "id": "c9ccaf13-ac06-45c7-a3ea-cf500d1d8840"
      },
      "outputs": [],
      "source": [
        "X = agg_df[[\"average_rating\", \"sentiment_rating\"]]\n",
        "y = agg_df[\"overall_rating\"]"
      ]
    },
    {
      "cell_type": "markdown",
      "id": "755ea95e-8c99-467a-b8e5-011976be486e",
      "metadata": {
        "id": "755ea95e-8c99-467a-b8e5-011976be486e"
      },
      "source": [
        "# Split the data into training (80%) and testing (20%) sets"
      ]
    },
    {
      "cell_type": "code",
      "execution_count": 10,
      "id": "7363df01-0de3-472c-89ee-c56910d87f40",
      "metadata": {
        "id": "7363df01-0de3-472c-89ee-c56910d87f40"
      },
      "outputs": [],
      "source": [
        "X_train, X_test, y_train, y_test = train_test_split(X, y, test_size=0.2, random_state=42)"
      ]
    },
    {
      "cell_type": "markdown",
      "id": "c5b69e57-5f73-4ee3-a551-05197bf2d416",
      "metadata": {
        "id": "c5b69e57-5f73-4ee3-a551-05197bf2d416"
      },
      "source": [
        "# Train a RandomForestRegressor"
      ]
    },
    {
      "cell_type": "code",
      "execution_count": 11,
      "id": "303af37f-530b-4495-a6c4-d01caeca28c9",
      "metadata": {
        "colab": {
          "base_uri": "https://localhost:8080/",
          "height": 80
        },
        "id": "303af37f-530b-4495-a6c4-d01caeca28c9",
        "outputId": "df0c2da1-4d92-408c-a72c-1707a077c635"
      },
      "outputs": [
        {
          "data": {
            "text/html": [
              "<style>#sk-container-id-1 {\n",
              "  /* Definition of color scheme common for light and dark mode */\n",
              "  --sklearn-color-text: #000;\n",
              "  --sklearn-color-text-muted: #666;\n",
              "  --sklearn-color-line: gray;\n",
              "  /* Definition of color scheme for unfitted estimators */\n",
              "  --sklearn-color-unfitted-level-0: #fff5e6;\n",
              "  --sklearn-color-unfitted-level-1: #f6e4d2;\n",
              "  --sklearn-color-unfitted-level-2: #ffe0b3;\n",
              "  --sklearn-color-unfitted-level-3: chocolate;\n",
              "  /* Definition of color scheme for fitted estimators */\n",
              "  --sklearn-color-fitted-level-0: #f0f8ff;\n",
              "  --sklearn-color-fitted-level-1: #d4ebff;\n",
              "  --sklearn-color-fitted-level-2: #b3dbfd;\n",
              "  --sklearn-color-fitted-level-3: cornflowerblue;\n",
              "\n",
              "  /* Specific color for light theme */\n",
              "  --sklearn-color-text-on-default-background: var(--sg-text-color, var(--theme-code-foreground, var(--jp-content-font-color1, black)));\n",
              "  --sklearn-color-background: var(--sg-background-color, var(--theme-background, var(--jp-layout-color0, white)));\n",
              "  --sklearn-color-border-box: var(--sg-text-color, var(--theme-code-foreground, var(--jp-content-font-color1, black)));\n",
              "  --sklearn-color-icon: #696969;\n",
              "\n",
              "  @media (prefers-color-scheme: dark) {\n",
              "    /* Redefinition of color scheme for dark theme */\n",
              "    --sklearn-color-text-on-default-background: var(--sg-text-color, var(--theme-code-foreground, var(--jp-content-font-color1, white)));\n",
              "    --sklearn-color-background: var(--sg-background-color, var(--theme-background, var(--jp-layout-color0, #111)));\n",
              "    --sklearn-color-border-box: var(--sg-text-color, var(--theme-code-foreground, var(--jp-content-font-color1, white)));\n",
              "    --sklearn-color-icon: #878787;\n",
              "  }\n",
              "}\n",
              "\n",
              "#sk-container-id-1 {\n",
              "  color: var(--sklearn-color-text);\n",
              "}\n",
              "\n",
              "#sk-container-id-1 pre {\n",
              "  padding: 0;\n",
              "}\n",
              "\n",
              "#sk-container-id-1 input.sk-hidden--visually {\n",
              "  border: 0;\n",
              "  clip: rect(1px 1px 1px 1px);\n",
              "  clip: rect(1px, 1px, 1px, 1px);\n",
              "  height: 1px;\n",
              "  margin: -1px;\n",
              "  overflow: hidden;\n",
              "  padding: 0;\n",
              "  position: absolute;\n",
              "  width: 1px;\n",
              "}\n",
              "\n",
              "#sk-container-id-1 div.sk-dashed-wrapped {\n",
              "  border: 1px dashed var(--sklearn-color-line);\n",
              "  margin: 0 0.4em 0.5em 0.4em;\n",
              "  box-sizing: border-box;\n",
              "  padding-bottom: 0.4em;\n",
              "  background-color: var(--sklearn-color-background);\n",
              "}\n",
              "\n",
              "#sk-container-id-1 div.sk-container {\n",
              "  /* jupyter's `normalize.less` sets `[hidden] { display: none; }`\n",
              "     but bootstrap.min.css set `[hidden] { display: none !important; }`\n",
              "     so we also need the `!important` here to be able to override the\n",
              "     default hidden behavior on the sphinx rendered scikit-learn.org.\n",
              "     See: https://github.com/scikit-learn/scikit-learn/issues/21755 */\n",
              "  display: inline-block !important;\n",
              "  position: relative;\n",
              "}\n",
              "\n",
              "#sk-container-id-1 div.sk-text-repr-fallback {\n",
              "  display: none;\n",
              "}\n",
              "\n",
              "div.sk-parallel-item,\n",
              "div.sk-serial,\n",
              "div.sk-item {\n",
              "  /* draw centered vertical line to link estimators */\n",
              "  background-image: linear-gradient(var(--sklearn-color-text-on-default-background), var(--sklearn-color-text-on-default-background));\n",
              "  background-size: 2px 100%;\n",
              "  background-repeat: no-repeat;\n",
              "  background-position: center center;\n",
              "}\n",
              "\n",
              "/* Parallel-specific style estimator block */\n",
              "\n",
              "#sk-container-id-1 div.sk-parallel-item::after {\n",
              "  content: \"\";\n",
              "  width: 100%;\n",
              "  border-bottom: 2px solid var(--sklearn-color-text-on-default-background);\n",
              "  flex-grow: 1;\n",
              "}\n",
              "\n",
              "#sk-container-id-1 div.sk-parallel {\n",
              "  display: flex;\n",
              "  align-items: stretch;\n",
              "  justify-content: center;\n",
              "  background-color: var(--sklearn-color-background);\n",
              "  position: relative;\n",
              "}\n",
              "\n",
              "#sk-container-id-1 div.sk-parallel-item {\n",
              "  display: flex;\n",
              "  flex-direction: column;\n",
              "}\n",
              "\n",
              "#sk-container-id-1 div.sk-parallel-item:first-child::after {\n",
              "  align-self: flex-end;\n",
              "  width: 50%;\n",
              "}\n",
              "\n",
              "#sk-container-id-1 div.sk-parallel-item:last-child::after {\n",
              "  align-self: flex-start;\n",
              "  width: 50%;\n",
              "}\n",
              "\n",
              "#sk-container-id-1 div.sk-parallel-item:only-child::after {\n",
              "  width: 0;\n",
              "}\n",
              "\n",
              "/* Serial-specific style estimator block */\n",
              "\n",
              "#sk-container-id-1 div.sk-serial {\n",
              "  display: flex;\n",
              "  flex-direction: column;\n",
              "  align-items: center;\n",
              "  background-color: var(--sklearn-color-background);\n",
              "  padding-right: 1em;\n",
              "  padding-left: 1em;\n",
              "}\n",
              "\n",
              "\n",
              "/* Toggleable style: style used for estimator/Pipeline/ColumnTransformer box that is\n",
              "clickable and can be expanded/collapsed.\n",
              "- Pipeline and ColumnTransformer use this feature and define the default style\n",
              "- Estimators will overwrite some part of the style using the `sk-estimator` class\n",
              "*/\n",
              "\n",
              "/* Pipeline and ColumnTransformer style (default) */\n",
              "\n",
              "#sk-container-id-1 div.sk-toggleable {\n",
              "  /* Default theme specific background. It is overwritten whether we have a\n",
              "  specific estimator or a Pipeline/ColumnTransformer */\n",
              "  background-color: var(--sklearn-color-background);\n",
              "}\n",
              "\n",
              "/* Toggleable label */\n",
              "#sk-container-id-1 label.sk-toggleable__label {\n",
              "  cursor: pointer;\n",
              "  display: flex;\n",
              "  width: 100%;\n",
              "  margin-bottom: 0;\n",
              "  padding: 0.5em;\n",
              "  box-sizing: border-box;\n",
              "  text-align: center;\n",
              "  align-items: start;\n",
              "  justify-content: space-between;\n",
              "  gap: 0.5em;\n",
              "}\n",
              "\n",
              "#sk-container-id-1 label.sk-toggleable__label .caption {\n",
              "  font-size: 0.6rem;\n",
              "  font-weight: lighter;\n",
              "  color: var(--sklearn-color-text-muted);\n",
              "}\n",
              "\n",
              "#sk-container-id-1 label.sk-toggleable__label-arrow:before {\n",
              "  /* Arrow on the left of the label */\n",
              "  content: \"▸\";\n",
              "  float: left;\n",
              "  margin-right: 0.25em;\n",
              "  color: var(--sklearn-color-icon);\n",
              "}\n",
              "\n",
              "#sk-container-id-1 label.sk-toggleable__label-arrow:hover:before {\n",
              "  color: var(--sklearn-color-text);\n",
              "}\n",
              "\n",
              "/* Toggleable content - dropdown */\n",
              "\n",
              "#sk-container-id-1 div.sk-toggleable__content {\n",
              "  max-height: 0;\n",
              "  max-width: 0;\n",
              "  overflow: hidden;\n",
              "  text-align: left;\n",
              "  /* unfitted */\n",
              "  background-color: var(--sklearn-color-unfitted-level-0);\n",
              "}\n",
              "\n",
              "#sk-container-id-1 div.sk-toggleable__content.fitted {\n",
              "  /* fitted */\n",
              "  background-color: var(--sklearn-color-fitted-level-0);\n",
              "}\n",
              "\n",
              "#sk-container-id-1 div.sk-toggleable__content pre {\n",
              "  margin: 0.2em;\n",
              "  border-radius: 0.25em;\n",
              "  color: var(--sklearn-color-text);\n",
              "  /* unfitted */\n",
              "  background-color: var(--sklearn-color-unfitted-level-0);\n",
              "}\n",
              "\n",
              "#sk-container-id-1 div.sk-toggleable__content.fitted pre {\n",
              "  /* unfitted */\n",
              "  background-color: var(--sklearn-color-fitted-level-0);\n",
              "}\n",
              "\n",
              "#sk-container-id-1 input.sk-toggleable__control:checked~div.sk-toggleable__content {\n",
              "  /* Expand drop-down */\n",
              "  max-height: 200px;\n",
              "  max-width: 100%;\n",
              "  overflow: auto;\n",
              "}\n",
              "\n",
              "#sk-container-id-1 input.sk-toggleable__control:checked~label.sk-toggleable__label-arrow:before {\n",
              "  content: \"▾\";\n",
              "}\n",
              "\n",
              "/* Pipeline/ColumnTransformer-specific style */\n",
              "\n",
              "#sk-container-id-1 div.sk-label input.sk-toggleable__control:checked~label.sk-toggleable__label {\n",
              "  color: var(--sklearn-color-text);\n",
              "  background-color: var(--sklearn-color-unfitted-level-2);\n",
              "}\n",
              "\n",
              "#sk-container-id-1 div.sk-label.fitted input.sk-toggleable__control:checked~label.sk-toggleable__label {\n",
              "  background-color: var(--sklearn-color-fitted-level-2);\n",
              "}\n",
              "\n",
              "/* Estimator-specific style */\n",
              "\n",
              "/* Colorize estimator box */\n",
              "#sk-container-id-1 div.sk-estimator input.sk-toggleable__control:checked~label.sk-toggleable__label {\n",
              "  /* unfitted */\n",
              "  background-color: var(--sklearn-color-unfitted-level-2);\n",
              "}\n",
              "\n",
              "#sk-container-id-1 div.sk-estimator.fitted input.sk-toggleable__control:checked~label.sk-toggleable__label {\n",
              "  /* fitted */\n",
              "  background-color: var(--sklearn-color-fitted-level-2);\n",
              "}\n",
              "\n",
              "#sk-container-id-1 div.sk-label label.sk-toggleable__label,\n",
              "#sk-container-id-1 div.sk-label label {\n",
              "  /* The background is the default theme color */\n",
              "  color: var(--sklearn-color-text-on-default-background);\n",
              "}\n",
              "\n",
              "/* On hover, darken the color of the background */\n",
              "#sk-container-id-1 div.sk-label:hover label.sk-toggleable__label {\n",
              "  color: var(--sklearn-color-text);\n",
              "  background-color: var(--sklearn-color-unfitted-level-2);\n",
              "}\n",
              "\n",
              "/* Label box, darken color on hover, fitted */\n",
              "#sk-container-id-1 div.sk-label.fitted:hover label.sk-toggleable__label.fitted {\n",
              "  color: var(--sklearn-color-text);\n",
              "  background-color: var(--sklearn-color-fitted-level-2);\n",
              "}\n",
              "\n",
              "/* Estimator label */\n",
              "\n",
              "#sk-container-id-1 div.sk-label label {\n",
              "  font-family: monospace;\n",
              "  font-weight: bold;\n",
              "  display: inline-block;\n",
              "  line-height: 1.2em;\n",
              "}\n",
              "\n",
              "#sk-container-id-1 div.sk-label-container {\n",
              "  text-align: center;\n",
              "}\n",
              "\n",
              "/* Estimator-specific */\n",
              "#sk-container-id-1 div.sk-estimator {\n",
              "  font-family: monospace;\n",
              "  border: 1px dotted var(--sklearn-color-border-box);\n",
              "  border-radius: 0.25em;\n",
              "  box-sizing: border-box;\n",
              "  margin-bottom: 0.5em;\n",
              "  /* unfitted */\n",
              "  background-color: var(--sklearn-color-unfitted-level-0);\n",
              "}\n",
              "\n",
              "#sk-container-id-1 div.sk-estimator.fitted {\n",
              "  /* fitted */\n",
              "  background-color: var(--sklearn-color-fitted-level-0);\n",
              "}\n",
              "\n",
              "/* on hover */\n",
              "#sk-container-id-1 div.sk-estimator:hover {\n",
              "  /* unfitted */\n",
              "  background-color: var(--sklearn-color-unfitted-level-2);\n",
              "}\n",
              "\n",
              "#sk-container-id-1 div.sk-estimator.fitted:hover {\n",
              "  /* fitted */\n",
              "  background-color: var(--sklearn-color-fitted-level-2);\n",
              "}\n",
              "\n",
              "/* Specification for estimator info (e.g. \"i\" and \"?\") */\n",
              "\n",
              "/* Common style for \"i\" and \"?\" */\n",
              "\n",
              ".sk-estimator-doc-link,\n",
              "a:link.sk-estimator-doc-link,\n",
              "a:visited.sk-estimator-doc-link {\n",
              "  float: right;\n",
              "  font-size: smaller;\n",
              "  line-height: 1em;\n",
              "  font-family: monospace;\n",
              "  background-color: var(--sklearn-color-background);\n",
              "  border-radius: 1em;\n",
              "  height: 1em;\n",
              "  width: 1em;\n",
              "  text-decoration: none !important;\n",
              "  margin-left: 0.5em;\n",
              "  text-align: center;\n",
              "  /* unfitted */\n",
              "  border: var(--sklearn-color-unfitted-level-1) 1pt solid;\n",
              "  color: var(--sklearn-color-unfitted-level-1);\n",
              "}\n",
              "\n",
              ".sk-estimator-doc-link.fitted,\n",
              "a:link.sk-estimator-doc-link.fitted,\n",
              "a:visited.sk-estimator-doc-link.fitted {\n",
              "  /* fitted */\n",
              "  border: var(--sklearn-color-fitted-level-1) 1pt solid;\n",
              "  color: var(--sklearn-color-fitted-level-1);\n",
              "}\n",
              "\n",
              "/* On hover */\n",
              "div.sk-estimator:hover .sk-estimator-doc-link:hover,\n",
              ".sk-estimator-doc-link:hover,\n",
              "div.sk-label-container:hover .sk-estimator-doc-link:hover,\n",
              ".sk-estimator-doc-link:hover {\n",
              "  /* unfitted */\n",
              "  background-color: var(--sklearn-color-unfitted-level-3);\n",
              "  color: var(--sklearn-color-background);\n",
              "  text-decoration: none;\n",
              "}\n",
              "\n",
              "div.sk-estimator.fitted:hover .sk-estimator-doc-link.fitted:hover,\n",
              ".sk-estimator-doc-link.fitted:hover,\n",
              "div.sk-label-container:hover .sk-estimator-doc-link.fitted:hover,\n",
              ".sk-estimator-doc-link.fitted:hover {\n",
              "  /* fitted */\n",
              "  background-color: var(--sklearn-color-fitted-level-3);\n",
              "  color: var(--sklearn-color-background);\n",
              "  text-decoration: none;\n",
              "}\n",
              "\n",
              "/* Span, style for the box shown on hovering the info icon */\n",
              ".sk-estimator-doc-link span {\n",
              "  display: none;\n",
              "  z-index: 9999;\n",
              "  position: relative;\n",
              "  font-weight: normal;\n",
              "  right: .2ex;\n",
              "  padding: .5ex;\n",
              "  margin: .5ex;\n",
              "  width: min-content;\n",
              "  min-width: 20ex;\n",
              "  max-width: 50ex;\n",
              "  color: var(--sklearn-color-text);\n",
              "  box-shadow: 2pt 2pt 4pt #999;\n",
              "  /* unfitted */\n",
              "  background: var(--sklearn-color-unfitted-level-0);\n",
              "  border: .5pt solid var(--sklearn-color-unfitted-level-3);\n",
              "}\n",
              "\n",
              ".sk-estimator-doc-link.fitted span {\n",
              "  /* fitted */\n",
              "  background: var(--sklearn-color-fitted-level-0);\n",
              "  border: var(--sklearn-color-fitted-level-3);\n",
              "}\n",
              "\n",
              ".sk-estimator-doc-link:hover span {\n",
              "  display: block;\n",
              "}\n",
              "\n",
              "/* \"?\"-specific style due to the `<a>` HTML tag */\n",
              "\n",
              "#sk-container-id-1 a.estimator_doc_link {\n",
              "  float: right;\n",
              "  font-size: 1rem;\n",
              "  line-height: 1em;\n",
              "  font-family: monospace;\n",
              "  background-color: var(--sklearn-color-background);\n",
              "  border-radius: 1rem;\n",
              "  height: 1rem;\n",
              "  width: 1rem;\n",
              "  text-decoration: none;\n",
              "  /* unfitted */\n",
              "  color: var(--sklearn-color-unfitted-level-1);\n",
              "  border: var(--sklearn-color-unfitted-level-1) 1pt solid;\n",
              "}\n",
              "\n",
              "#sk-container-id-1 a.estimator_doc_link.fitted {\n",
              "  /* fitted */\n",
              "  border: var(--sklearn-color-fitted-level-1) 1pt solid;\n",
              "  color: var(--sklearn-color-fitted-level-1);\n",
              "}\n",
              "\n",
              "/* On hover */\n",
              "#sk-container-id-1 a.estimator_doc_link:hover {\n",
              "  /* unfitted */\n",
              "  background-color: var(--sklearn-color-unfitted-level-3);\n",
              "  color: var(--sklearn-color-background);\n",
              "  text-decoration: none;\n",
              "}\n",
              "\n",
              "#sk-container-id-1 a.estimator_doc_link.fitted:hover {\n",
              "  /* fitted */\n",
              "  background-color: var(--sklearn-color-fitted-level-3);\n",
              "}\n",
              "</style><div id=\"sk-container-id-1\" class=\"sk-top-container\"><div class=\"sk-text-repr-fallback\"><pre>RandomForestRegressor(random_state=42)</pre><b>In a Jupyter environment, please rerun this cell to show the HTML representation or trust the notebook. <br />On GitHub, the HTML representation is unable to render, please try loading this page with nbviewer.org.</b></div><div class=\"sk-container\" hidden><div class=\"sk-item\"><div class=\"sk-estimator fitted sk-toggleable\"><input class=\"sk-toggleable__control sk-hidden--visually\" id=\"sk-estimator-id-1\" type=\"checkbox\" checked><label for=\"sk-estimator-id-1\" class=\"sk-toggleable__label fitted sk-toggleable__label-arrow\"><div><div>RandomForestRegressor</div></div><div><a class=\"sk-estimator-doc-link fitted\" rel=\"noreferrer\" target=\"_blank\" href=\"https://scikit-learn.org/1.6/modules/generated/sklearn.ensemble.RandomForestRegressor.html\">?<span>Documentation for RandomForestRegressor</span></a><span class=\"sk-estimator-doc-link fitted\">i<span>Fitted</span></span></div></label><div class=\"sk-toggleable__content fitted\"><pre>RandomForestRegressor(random_state=42)</pre></div> </div></div></div></div>"
            ],
            "text/plain": [
              "RandomForestRegressor(random_state=42)"
            ]
          },
          "execution_count": 11,
          "metadata": {},
          "output_type": "execute_result"
        }
      ],
      "source": [
        "regressor = RandomForestRegressor(n_estimators=100, random_state=42) #trains multiple decision trees and aggregates their outputs.\n",
        "regressor.fit(X_train, y_train)"
      ]
    },
    {
      "cell_type": "markdown",
      "id": "6214644f-5e75-4054-8f11-45f01a5571a5",
      "metadata": {
        "id": "6214644f-5e75-4054-8f11-45f01a5571a5"
      },
      "source": [
        "# Make predictions on the test set"
      ]
    },
    {
      "cell_type": "code",
      "execution_count": 12,
      "id": "ba4d0e2c-7ce5-475a-91b9-df68589081bc",
      "metadata": {
        "id": "ba4d0e2c-7ce5-475a-91b9-df68589081bc"
      },
      "outputs": [],
      "source": [
        "y_pred = regressor.predict(X_test)"
      ]
    },
    {
      "cell_type": "markdown",
      "id": "f60c4f6b-0324-482b-83c3-0a7959aae3fc",
      "metadata": {
        "id": "f60c4f6b-0324-482b-83c3-0a7959aae3fc"
      },
      "source": [
        "# Evaluation Metrics on Training Test Set"
      ]
    },
    {
      "cell_type": "code",
      "execution_count": 13,
      "id": "aed2e4c6-571a-4579-b4db-2ca8b046f76f",
      "metadata": {
        "id": "aed2e4c6-571a-4579-b4db-2ca8b046f76f"
      },
      "outputs": [],
      "source": [
        "mse = mean_squared_error(y_test, y_pred)\n",
        "rmse = np.sqrt(mse)\n",
        "mae = mean_absolute_error(y_test, y_pred)\n",
        "r2 = r2_score(y_test, y_pred)"
      ]
    },
    {
      "cell_type": "markdown",
      "id": "u0EcDS02BJQX",
      "metadata": {
        "id": "u0EcDS02BJQX"
      },
      "source": [
        "Mean Squared Error (MSE): Measures average squared prediction error.\n",
        "Root Mean Squared Error (RMSE): Standard deviation of residuals.\n",
        "Mean Absolute Error (MAE): Measures average absolute error in predictions.\n",
        "R² Score: Determines how well the model fits the data."
      ]
    },
    {
      "cell_type": "code",
      "execution_count": 14,
      "id": "21b28185-c1ca-4645-a2ca-9b37d93be014",
      "metadata": {
        "colab": {
          "base_uri": "https://localhost:8080/"
        },
        "id": "21b28185-c1ca-4645-a2ca-9b37d93be014",
        "outputId": "eb4e6a1a-446f-47b0-fb52-717795f3dce4"
      },
      "outputs": [
        {
          "name": "stdout",
          "output_type": "stream",
          "text": [
            "Evaluation Metrics on Training Test Set:\n",
            "Mean Squared Error (MSE): 0.0033080170972237255\n",
            "Root Mean Squared Error (RMSE): 0.05751536401018188\n",
            "Mean Absolute Error (MAE): 0.0368080216249412\n",
            "R2 Score: 0.9956718491793347\n"
          ]
        }
      ],
      "source": [
        "print(\"Evaluation Metrics on Training Test Set:\")\n",
        "print(\"Mean Squared Error (MSE):\", mse)\n",
        "print(\"Root Mean Squared Error (RMSE):\", rmse)\n",
        "print(\"Mean Absolute Error (MAE):\", mae)\n",
        "print(\"R2 Score:\", r2)\n"
      ]
    },
    {
      "cell_type": "markdown",
      "id": "cdd39a74-9fc3-495a-9091-b403d7903a14",
      "metadata": {
        "id": "cdd39a74-9fc3-495a-9091-b403d7903a14"
      },
      "source": [
        "# Visualizations for Training Test Set"
      ]
    },
    {
      "cell_type": "markdown",
      "id": "f14246d5-764d-4aec-956e-c44da4b414de",
      "metadata": {
        "id": "f14246d5-764d-4aec-956e-c44da4b414de"
      },
      "source": [
        "# Scatter Plot: Actual vs Predicted Overall Ratings"
      ]
    },
    {
      "cell_type": "code",
      "execution_count": 15,
      "id": "b2d06c4d-d88a-4454-97fc-b79a594c0456",
      "metadata": {
        "colab": {
          "base_uri": "https://localhost:8080/",
          "height": 564
        },
        "id": "b2d06c4d-d88a-4454-97fc-b79a594c0456",
        "outputId": "e1957a29-214c-4cdc-f2c5-03b92e337923"
      },
      "outputs": [
        {
          "data": {
            "image/png": "[encoded data removed]",
            "text/plain": [
              "<Figure size 800x600 with 1 Axes>"
            ]
          },
          "metadata": {},
          "output_type": "display_data"
        }
      ],
      "source": [
        "plt.figure(figsize=(8, 6))\n",
        "plt.scatter(y_test, y_pred, color='blue', alpha=0.7)\n",
        "plt.plot([y_test.min(), y_test.max()], [y_test.min(), y_test.max()], 'r--', lw=2)\n",
        "plt.xlabel(\"Actual Overall Rating\")\n",
        "plt.ylabel(\"Predicted Overall Rating\")\n",
        "plt.title(\"Actual vs Predicted Overall Rating (Training Test Set)\")\n",
        "plt.show()"
      ]
    },
    {
      "cell_type": "markdown",
      "id": "150e3c09-f9ce-4c0e-a02b-f2d503ac4676",
      "metadata": {
        "id": "150e3c09-f9ce-4c0e-a02b-f2d503ac4676"
      },
      "source": [
        "# Residuals Distribution Plot"
      ]
    },
    {
      "cell_type": "code",
      "execution_count": 16,
      "id": "95a4cf5e-30d6-4a17-ac2c-677e838eb2be",
      "metadata": {
        "colab": {
          "base_uri": "https://localhost:8080/",
          "height": 564
        },
        "id": "95a4cf5e-30d6-4a17-ac2c-677e838eb2be",
        "outputId": "f04bf0a3-2432-4cef-a889-b47c93aac7f0"
      },
      "outputs": [
        {
          "data": {
            "image/png": "[encoded data removed]",
            "text/plain": [
              "<Figure size 800x600 with 1 Axes>"
            ]
          },
          "metadata": {},
          "output_type": "display_data"
        }
      ],
      "source": [
        "residuals = y_test - y_pred\n",
        "plt.figure(figsize=(8, 6))\n",
        "sns.histplot(residuals, kde=True, color='green')\n",
        "plt.xlabel(\"Residuals\")\n",
        "plt.title(\"Distribution of Residuals (Training Test Set)\")\n",
        "plt.show()"
      ]
    },
    {
      "cell_type": "markdown",
      "id": "f7a926a1-164d-41c7-af4b-659760176b37",
      "metadata": {
        "id": "f7a926a1-164d-41c7-af4b-659760176b37"
      },
      "source": [
        "# Save the Trained Model"
      ]
    },
    {
      "cell_type": "code",
      "execution_count": 17,
      "id": "90574a9e-8f1a-4351-9cec-24f04e9d4c29",
      "metadata": {
        "colab": {
          "base_uri": "https://localhost:8080/"
        },
        "id": "90574a9e-8f1a-4351-9cec-24f04e9d4c29",
        "outputId": "12172013-f5ec-4efb-a272-553a1d6fbabf"
      },
      "outputs": [
        {
          "name": "stdout",
          "output_type": "stream",
          "text": [
            "Model saved as driver_suggestion_model.pkl\n"
          ]
        }
      ],
      "source": [
        "MODEL_FILENAME = \"driver_suggestion_model.pkl\"\n",
        "joblib.dump(regressor, MODEL_FILENAME) #Serializes the trained model for deployment.\n",
        "print(\"Model saved as\", MODEL_FILENAME)"
      ]
    },
    {
      "cell_type": "markdown",
      "id": "9e236b64-2722-4fa6-bc50-fc6ae4aaea83",
      "metadata": {
        "id": "9e236b64-2722-4fa6-bc50-fc6ae4aaea83"
      },
      "source": [
        "# Reload the Model and Test with New Dummy Data"
      ]
    },
    {
      "cell_type": "markdown",
      "id": "5e84aaf3-c135-4271-b5e2-aae33ca79485",
      "metadata": {
        "id": "5e84aaf3-c135-4271-b5e2-aae33ca79485"
      },
      "source": [
        "# Reload the saved model"
      ]
    },
    {
      "cell_type": "code",
      "execution_count": 18,
      "id": "5d2c71d2-bbfc-4b6f-bf68-3695faf025ae",
      "metadata": {
        "colab": {
          "base_uri": "https://localhost:8080/"
        },
        "id": "5d2c71d2-bbfc-4b6f-bf68-3695faf025ae",
        "outputId": "c1e05578-17c2-41a0-ceb6-7d3aa969e4a8"
      },
      "outputs": [
        {
          "name": "stdout",
          "output_type": "stream",
          "text": [
            "Model reloaded successfully.\n"
          ]
        }
      ],
      "source": [
        "loaded_model = joblib.load(MODEL_FILENAME)\n",
        "print(\"Model reloaded successfully.\")"
      ]
    },
    {
      "cell_type": "markdown",
      "id": "27c86da0-58b1-428b-bfbb-16e1728f4814",
      "metadata": {
        "id": "27c86da0-58b1-428b-bfbb-16e1728f4814"
      },
      "source": [
        "# Create new dummy test data (different from training data)"
      ]
    },
    {
      "cell_type": "code",
      "execution_count": 19,
      "id": "d7bf65f0-3155-4b98-8b4e-031ea307748d",
      "metadata": {
        "colab": {
          "base_uri": "https://localhost:8080/"
        },
        "id": "d7bf65f0-3155-4b98-8b4e-031ea307748d",
        "outputId": "1d4d92fe-6cdb-40bd-fb22-76b5fdd30f10"
      },
      "outputs": [
        {
          "name": "stderr",
          "output_type": "stream",
          "text": [
            "<ipython-input-19-0595b10f02a5>:14: FutureWarning: A value is trying to be set on a copy of a DataFrame or Series through chained assignment using an inplace method.\n",
            "The behavior will change in pandas 3.0. This inplace method will never work because the intermediate object on which we are setting values always behaves as a copy.\n",
            "\n",
            "For example, when doing 'df[col].method(value, inplace=True)', try using 'df.method({col: value}, inplace=True)' or df[col] = df[col].method(value) instead, to perform the operation inplace on the original object.\n",
            "\n",
            "\n",
            "  df_new[\"customer_review\"].fillna(\"No review provided\", inplace=True)\n"
          ]
        }
      ],
      "source": [
        "dummy_data = {\n",
        "    \"driver_id\": [201, 202, 203, 203, 204, 205],\n",
        "    \"average_rating\": [3.2, 4.7, 2.8, 4.0, 4.1, 3.9],\n",
        "    \"customer_review\": [\n",
        "        \"The ride was average, not too good not too bad.\",\n",
        "        \"Exceptional ride with a very friendly driver!\",\n",
        "        \"Poor experience, the service was bad.\",\n",
        "        \"Great ride, very smooth and timely.\",\n",
        "        \"Decent ride but could improve in punctuality.\",\n",
        "        \"Amazing service, truly satisfied with the ride.\"\n",
        "    ]\n",
        "}\n",
        "df_new = pd.DataFrame(dummy_data)\n",
        "df_new[\"customer_review\"].fillna(\"No review provided\", inplace=True)"
      ]
    },
    {
      "cell_type": "markdown",
      "id": "b2edfb0c-8236-4798-bd65-d0fcf7369271",
      "metadata": {
        "id": "b2edfb0c-8236-4798-bd65-d0fcf7369271"
      },
      "source": [
        "# Compute sentiment scores for new data"
      ]
    },
    {
      "cell_type": "code",
      "execution_count": 20,
      "id": "7cb5cab1-8297-4088-a417-6d50e56dd27e",
      "metadata": {
        "id": "7cb5cab1-8297-4088-a417-6d50e56dd27e"
      },
      "outputs": [],
      "source": [
        "# Compute sentiment and overall ratings for new data\n",
        "df_new[\"review_sentiment\"] = df_new[\"customer_review\"].apply(analyze_sentiment)\n",
        "df_new[\"sentiment_rating\"] = (df_new[\"review_sentiment\"] + 1) * 2.5\n",
        "df_new[\"overall_rating\"] = (0.7 * df_new[\"average_rating\"]) + (0.3 * df_new[\"sentiment_rating\"])"
      ]
    },
    {
      "cell_type": "markdown",
      "id": "c7778afa-46d4-48ae-86d0-5bd849353632",
      "metadata": {
        "id": "c7778afa-46d4-48ae-86d0-5bd849353632"
      },
      "source": [
        "# Use the reloaded model to make predictions on the new dummy data"
      ]
    },
    {
      "cell_type": "code",
      "execution_count": 21,
      "id": "a71d4f79-5aa2-4206-bd2d-f5526bc5d2c0",
      "metadata": {
        "id": "a71d4f79-5aa2-4206-bd2d-f5526bc5d2c0"
      },
      "outputs": [],
      "source": [
        "X_new = df_new[[\"average_rating\", \"sentiment_rating\"]]\n",
        "y_new_pred = loaded_model.predict(X_new)"
      ]
    },
    {
      "cell_type": "markdown",
      "id": "zwB41Ta-wqhN",
      "metadata": {
        "id": "zwB41Ta-wqhN"
      },
      "source": [
        "# Aggregate new dummy data by driver_id"
      ]
    },
    {
      "cell_type": "code",
      "execution_count": 22,
      "id": "aGz_1QWmwpy6",
      "metadata": {
        "id": "aGz_1QWmwpy6"
      },
      "outputs": [],
      "source": [
        "agg_df_new = df_new.groupby(\"driver_id\").agg({\n",
        "    \"average_rating\": \"mean\",\n",
        "    \"sentiment_rating\": \"mean\"\n",
        "}).reset_index()\n",
        "agg_df_new[\"overall_rating\"] = (0.7 * agg_df_new[\"average_rating\"]) + (0.3 * agg_df_new[\"sentiment_rating\"])"
      ]
    },
    {
      "cell_type": "markdown",
      "id": "2f9aacd5-85dd-46fc-8c6b-f6871a1419cd",
      "metadata": {
        "id": "2f9aacd5-85dd-46fc-8c6b-f6871a1419cd"
      },
      "source": [
        "# Add predictions to the DataFrame and display results"
      ]
    },
    {
      "cell_type": "code",
      "execution_count": 23,
      "id": "ff869209-5394-4de0-b0cd-1405d562aade",
      "metadata": {
        "colab": {
          "base_uri": "https://localhost:8080/"
        },
        "id": "ff869209-5394-4de0-b0cd-1405d562aade",
        "outputId": "99986e0c-8b92-4564-a3d8-05e7cfcbd9e1"
      },
      "outputs": [
        {
          "name": "stdout",
          "output_type": "stream",
          "text": [
            "\n",
            "New Dummy Data Aggregated Predictions:\n",
            "   driver_id  average_rating  sentiment_rating  overall_rating  \\\n",
            "0        201             3.2          2.473684        2.982105   \n",
            "1        202             4.7          2.565531        4.059659   \n",
            "2        203             3.4          2.450458        3.115137   \n",
            "3        204             4.1          2.561196        3.638359   \n",
            "4        205             3.9          2.725722        3.547716   \n",
            "\n",
            "   predicted_overall_rating  \n",
            "0                  2.956608  \n",
            "1                  4.051239  \n",
            "2                  3.148590  \n",
            "3                  3.634134  \n",
            "4                  3.539395  \n"
          ]
        }
      ],
      "source": [
        "# Predict using the reloaded model\n",
        "X_new = agg_df_new[[\"average_rating\", \"sentiment_rating\"]]\n",
        "y_new_pred = loaded_model.predict(X_new)\n",
        "agg_df_new[\"predicted_overall_rating\"] = y_new_pred\n",
        "\n",
        "print(\"\\nNew Dummy Data Aggregated Predictions:\")\n",
        "print(agg_df_new[[\"driver_id\", \"average_rating\", \"sentiment_rating\", \"overall_rating\", \"predicted_overall_rating\"]])"
      ]
    },
    {
      "cell_type": "markdown",
      "id": "4a73a86b-7b23-4ae5-a435-26d79b747e43",
      "metadata": {
        "id": "4a73a86b-7b23-4ae5-a435-26d79b747e43"
      },
      "source": [
        "# Optional: Visualize the new predictions compared to the computed overall_rating"
      ]
    },
    {
      "cell_type": "code",
      "execution_count": 24,
      "id": "ec8ad500-492e-437f-b1cc-0fb8bfae3df9",
      "metadata": {
        "colab": {
          "base_uri": "https://localhost:8080/",
          "height": 564
        },
        "id": "ec8ad500-492e-437f-b1cc-0fb8bfae3df9",
        "outputId": "7a806eef-762d-4d41-c239-d5dbb5ddd356"
      },
      "outputs": [
        {
          "data": {
            "image/png": "[encoded data removed]",
            "text/plain": [
              "<Figure size 800x600 with 1 Axes>"
            ]
          },
          "metadata": {},
          "output_type": "display_data"
        }
      ],
      "source": [
        "# Visualization: Actual vs Predicted Overall Ratings for New Dummy Data\n",
        "plt.figure(figsize=(8, 6))\n",
        "plt.scatter(agg_df_new[\"overall_rating\"], agg_df_new[\"predicted_overall_rating\"], color='purple', alpha=0.7)\n",
        "plt.plot([agg_df_new[\"overall_rating\"].min(), agg_df_new[\"overall_rating\"].max()],\n",
        "         [agg_df_new[\"overall_rating\"].min(), agg_df_new[\"overall_rating\"].max()], 'r--', lw=2)\n",
        "plt.xlabel(\"Calculated Overall Rating\")\n",
        "plt.ylabel(\"Predicted Overall Rating\")\n",
        "plt.title(\"New Dummy Data: Actual vs Predicted Overall Rating (Aggregated)\")\n",
        "plt.show()\n"
      ]
    },
    {
      "cell_type": "code",
      "execution_count": null,
      "id": "e4d0914e-269f-4a1a-998a-dad788cb3bf0",
      "metadata": {
        "id": "e4d0914e-269f-4a1a-998a-dad788cb3bf0"
      },
      "outputs": [],
      "source": []
    },
    {
      "cell_type": "code",
      "execution_count": null,
      "id": "f55dea7d-8d04-4d53-91f9-2740b32af337",
      "metadata": {
        "id": "f55dea7d-8d04-4d53-91f9-2740b32af337"
      },
      "outputs": [],
      "source": []
    },
    {
      "cell_type": "code",
      "execution_count": null,
      "id": "04f3d31f-d015-4390-8c66-c5dd9390a855",
      "metadata": {
        "id": "04f3d31f-d015-4390-8c66-c5dd9390a855"
      },
      "outputs": [],
      "source": []
    }
  ],
  "metadata": {
    "colab": {
      "provenance": []
    },
    "kernelspec": {
      "display_name": "Python 3 (ipykernel)",
      "language": "python",
      "name": "python3"
    },
    "language_info": {
      "codemirror_mode": {
        "name": "ipython",
        "version": 3
      },
      "file_extension": ".py",
      "mimetype": "text/x-python",
      "name": "python",
      "nbconvert_exporter": "python",
      "pygments_lexer": "ipython3",
      "version": "3.12.6"
    },
    "widgets": {
      "application/vnd.jupyter.widget-state+json": {
        "023fd66f735d415caa57622fb960f6b9": {
          "model_module": "@jupyter-widgets/controls",
          "model_module_version": "1.5.0",
          "model_name": "HTMLModel",
          "state": {
            "_dom_classes": [],
            "_model_module": "@jupyter-widgets/controls",
            "_model_module_version": "1.5.0",
            "_model_name": "HTMLModel",
            "_view_count": null,
            "_view_module": "@jupyter-widgets/controls",
            "_view_module_version": "1.5.0",
            "_view_name": "HTMLView",
            "description": "",
            "description_tooltip": null,
            "layout": "IPY_MODEL_08784b4ae1d341f49e1acc2feaa2afb8",
            "placeholder": "​",
            "style": "IPY_MODEL_d871eb0f45674dc08e690e3515c5c195",
            "value": " 456k/456k [00:00&lt;00:00, 3.12MB/s]"
          }
        },
        "02f1a4e1c0b341a59c2f485c71d2583a": {
          "model_module": "@jupyter-widgets/base",
          "model_module_version": "1.2.0",
          "model_name": "LayoutModel",
          "state": {
            "_model_module": "@jupyter-widgets/base",
            "_model_module_version": "1.2.0",
            "_model_name": "LayoutModel",
            "_view_count": null,
            "_view_module": "@jupyter-widgets/base",
            "_view_module_version": "1.2.0",
            "_view_name": "LayoutView",
            "align_content": null,
            "align_items": null,
            "align_self": null,
            "border": null,
            "bottom": null,
            "display": null,
            "flex": null,
            "flex_flow": null,
            "grid_area": null,
            "grid_auto_columns": null,
            "grid_auto_flow": null,
            "grid_auto_rows": null,
            "grid_column": null,
            "grid_gap": null,
            "grid_row": null,
            "grid_template_areas": null,
            "grid_template_columns": null,
            "grid_template_rows": null,
            "height": null,
            "justify_content": null,
            "justify_items": null,
            "left": null,
            "margin": null,
            "max_height": null,
            "max_width": null,
            "min_height": null,
            "min_width": null,
            "object_fit": null,
            "object_position": null,
            "order": null,
            "overflow": null,
            "overflow_x": null,
            "overflow_y": null,
            "padding": null,
            "right": null,
            "top": null,
            "visibility": null,
            "width": null
          }
        },
        "03eaa4effafd4c108757b6aa3bb2a484": {
          "model_module": "@jupyter-widgets/base",
          "model_module_version": "1.2.0",
          "model_name": "LayoutModel",
          "state": {
            "_model_module": "@jupyter-widgets/base",
            "_model_module_version": "1.2.0",
            "_model_name": "LayoutModel",
            "_view_count": null,
            "_view_module": "@jupyter-widgets/base",
            "_view_module_version": "1.2.0",
            "_view_name": "LayoutView",
            "align_content": null,
            "align_items": null,
            "align_self": null,
            "border": null,
            "bottom": null,
            "display": null,
            "flex": null,
            "flex_flow": null,
            "grid_area": null,
            "grid_auto_columns": null,
            "grid_auto_flow": null,
            "grid_auto_rows": null,
            "grid_column": null,
            "grid_gap": null,
            "grid_row": null,
            "grid_template_areas": null,
            "grid_template_columns": null,
            "grid_template_rows": null,
            "height": null,
            "justify_content": null,
            "justify_items": null,
            "left": null,
            "margin": null,
            "max_height": null,
            "max_width": null,
            "min_height": null,
            "min_width": null,
            "object_fit": null,
            "object_position": null,
            "order": null,
            "overflow": null,
            "overflow_x": null,
            "overflow_y": null,
            "padding": null,
            "right": null,
            "top": null,
            "visibility": null,
            "width": null
          }
        },
        "08784b4ae1d341f49e1acc2feaa2afb8": {
          "model_module": "@jupyter-widgets/base",
          "model_module_version": "1.2.0",
          "model_name": "LayoutModel",
          "state": {
            "_model_module": "@jupyter-widgets/base",
            "_model_module_version": "1.2.0",
            "_model_name": "LayoutModel",
            "_view_count": null,
            "_view_module": "@jupyter-widgets/base",
            "_view_module_version": "1.2.0",
            "_view_name": "LayoutView",
            "align_content": null,
            "align_items": null,
            "align_self": null,
            "border": null,
            "bottom": null,
            "display": null,
            "flex": null,
            "flex_flow": null,
            "grid_area": null,
            "grid_auto_columns": null,
            "grid_auto_flow": null,
            "grid_auto_rows": null,
            "grid_column": null,
            "grid_gap": null,
            "grid_row": null,
            "grid_template_areas": null,
            "grid_template_columns": null,
            "grid_template_rows": null,
            "height": null,
            "justify_content": null,
            "justify_items": null,
            "left": null,
            "margin": null,
            "max_height": null,
            "max_width": null,
            "min_height": null,
            "min_width": null,
            "object_fit": null,
            "object_position": null,
            "order": null,
            "overflow": null,
            "overflow_x": null,
            "overflow_y": null,
            "padding": null,
            "right": null,
            "top": null,
            "visibility": null,
            "width": null
          }
        },
        "0a13f144848a48b8a7fd760e4305b48d": {
          "model_module": "@jupyter-widgets/base",
          "model_module_version": "1.2.0",
          "model_name": "LayoutModel",
          "state": {
            "_model_module": "@jupyter-widgets/base",
            "_model_module_version": "1.2.0",
            "_model_name": "LayoutModel",
            "_view_count": null,
            "_view_module": "@jupyter-widgets/base",
            "_view_module_version": "1.2.0",
            "_view_name": "LayoutView",
            "align_content": null,
            "align_items": null,
            "align_self": null,
            "border": null,
            "bottom": null,
            "display": null,
            "flex": null,
            "flex_flow": null,
            "grid_area": null,
            "grid_auto_columns": null,
            "grid_auto_flow": null,
            "grid_auto_rows": null,
            "grid_column": null,
            "grid_gap": null,
            "grid_row": null,
            "grid_template_areas": null,
            "grid_template_columns": null,
            "grid_template_rows": null,
            "height": null,
            "justify_content": null,
            "justify_items": null,
            "left": null,
            "margin": null,
            "max_height": null,
            "max_width": null,
            "min_height": null,
            "min_width": null,
            "object_fit": null,
            "object_position": null,
            "order": null,
            "overflow": null,
            "overflow_x": null,
            "overflow_y": null,
            "padding": null,
            "right": null,
            "top": null,
            "visibility": null,
            "width": null
          }
        },
        "0c269791cbc54c2ab235f0c74c0a4146": {
          "model_module": "@jupyter-widgets/controls",
          "model_module_version": "1.5.0",
          "model_name": "HTMLModel",
          "state": {
            "_dom_classes": [],
            "_model_module": "@jupyter-widgets/controls",
            "_model_module_version": "1.5.0",
            "_model_name": "HTMLModel",
            "_view_count": null,
            "_view_module": "@jupyter-widgets/controls",
            "_view_module_version": "1.5.0",
            "_view_name": "HTMLView",
            "description": "",
            "description_tooltip": null,
            "layout": "IPY_MODEL_173ef99c7a1244958dc2560d84cbb046",
            "placeholder": "​",
            "style": "IPY_MODEL_3a52496516cd4b3694324afba7ff9799",
            "value": "config.json: 100%"
          }
        },
        "10dfecbbd1ec4d3eb0c6edad9c48ed64": {
          "model_module": "@jupyter-widgets/controls",
          "model_module_version": "1.5.0",
          "model_name": "DescriptionStyleModel",
          "state": {
            "_model_module": "@jupyter-widgets/controls",
            "_model_module_version": "1.5.0",
            "_model_name": "DescriptionStyleModel",
            "_view_count": null,
            "_view_module": "@jupyter-widgets/base",
            "_view_module_version": "1.2.0",
            "_view_name": "StyleView",
            "description_width": ""
          }
        },
        "1476f51ba54d41f6b117f43370c295e3": {
          "model_module": "@jupyter-widgets/controls",
          "model_module_version": "1.5.0",
          "model_name": "FloatProgressModel",
          "state": {
            "_dom_classes": [],
            "_model_module": "@jupyter-widgets/controls",
            "_model_module_version": "1.5.0",
            "_model_name": "FloatProgressModel",
            "_view_count": null,
            "_view_module": "@jupyter-widgets/controls",
            "_view_module_version": "1.5.0",
            "_view_name": "ProgressView",
            "bar_style": "success",
            "description": "",
            "description_tooltip": null,
            "layout": "IPY_MODEL_03eaa4effafd4c108757b6aa3bb2a484",
            "max": 1355863,
            "min": 0,
            "orientation": "horizontal",
            "style": "IPY_MODEL_e5af947f34d04aee8d88d3e195c02885",
            "value": 1355863
          }
        },
        "173ef99c7a1244958dc2560d84cbb046": {
          "model_module": "@jupyter-widgets/base",
          "model_module_version": "1.2.0",
          "model_name": "LayoutModel",
          "state": {
            "_model_module": "@jupyter-widgets/base",
            "_model_module_version": "1.2.0",
            "_model_name": "LayoutModel",
            "_view_count": null,
            "_view_module": "@jupyter-widgets/base",
            "_view_module_version": "1.2.0",
            "_view_name": "LayoutView",
            "align_content": null,
            "align_items": null,
            "align_self": null,
            "border": null,
            "bottom": null,
            "display": null,
            "flex": null,
            "flex_flow": null,
            "grid_area": null,
            "grid_auto_columns": null,
            "grid_auto_flow": null,
            "grid_auto_rows": null,
            "grid_column": null,
            "grid_gap": null,
            "grid_row": null,
            "grid_template_areas": null,
            "grid_template_columns": null,
            "grid_template_rows": null,
            "height": null,
            "justify_content": null,
            "justify_items": null,
            "left": null,
            "margin": null,
            "max_height": null,
            "max_width": null,
            "min_height": null,
            "min_width": null,
            "object_fit": null,
            "object_position": null,
            "order": null,
            "overflow": null,
            "overflow_x": null,
            "overflow_y": null,
            "padding": null,
            "right": null,
            "top": null,
            "visibility": null,
            "width": null
          }
        },
        "1e0623418bde41749937d9a457b29380": {
          "model_module": "@jupyter-widgets/base",
          "model_module_version": "1.2.0",
          "model_name": "LayoutModel",
          "state": {
            "_model_module": "@jupyter-widgets/base",
            "_model_module_version": "1.2.0",
            "_model_name": "LayoutModel",
            "_view_count": null,
            "_view_module": "@jupyter-widgets/base",
            "_view_module_version": "1.2.0",
            "_view_name": "LayoutView",
            "align_content": null,
            "align_items": null,
            "align_self": null,
            "border": null,
            "bottom": null,
            "display": null,
            "flex": null,
            "flex_flow": null,
            "grid_area": null,
            "grid_auto_columns": null,
            "grid_auto_flow": null,
            "grid_auto_rows": null,
            "grid_column": null,
            "grid_gap": null,
            "grid_row": null,
            "grid_template_areas": null,
            "grid_template_columns": null,
            "grid_template_rows": null,
            "height": null,
            "justify_content": null,
            "justify_items": null,
            "left": null,
            "margin": null,
            "max_height": null,
            "max_width": null,
            "min_height": null,
            "min_width": null,
            "object_fit": null,
            "object_position": null,
            "order": null,
            "overflow": null,
            "overflow_x": null,
            "overflow_y": null,
            "padding": null,
            "right": null,
            "top": null,
            "visibility": null,
            "width": null
          }
        },
        "1feba8735df44b3299fd69cda6bd8a33": {
          "model_module": "@jupyter-widgets/base",
          "model_module_version": "1.2.0",
          "model_name": "LayoutModel",
          "state": {
            "_model_module": "@jupyter-widgets/base",
            "_model_module_version": "1.2.0",
            "_model_name": "LayoutModel",
            "_view_count": null,
            "_view_module": "@jupyter-widgets/base",
            "_view_module_version": "1.2.0",
            "_view_name": "LayoutView",
            "align_content": null,
            "align_items": null,
            "align_self": null,
            "border": null,
            "bottom": null,
            "display": null,
            "flex": null,
            "flex_flow": null,
            "grid_area": null,
            "grid_auto_columns": null,
            "grid_auto_flow": null,
            "grid_auto_rows": null,
            "grid_column": null,
            "grid_gap": null,
            "grid_row": null,
            "grid_template_areas": null,
            "grid_template_columns": null,
            "grid_template_rows": null,
            "height": null,
            "justify_content": null,
            "justify_items": null,
            "left": null,
            "margin": null,
            "max_height": null,
            "max_width": null,
            "min_height": null,
            "min_width": null,
            "object_fit": null,
            "object_position": null,
            "order": null,
            "overflow": null,
            "overflow_x": null,
            "overflow_y": null,
            "padding": null,
            "right": null,
            "top": null,
            "visibility": null,
            "width": null
          }
        },
        "235f761af2fe4108b1ec641826062bc6": {
          "model_module": "@jupyter-widgets/base",
          "model_module_version": "1.2.0",
          "model_name": "LayoutModel",
          "state": {
            "_model_module": "@jupyter-widgets/base",
            "_model_module_version": "1.2.0",
            "_model_name": "LayoutModel",
            "_view_count": null,
            "_view_module": "@jupyter-widgets/base",
            "_view_module_version": "1.2.0",
            "_view_name": "LayoutView",
            "align_content": null,
            "align_items": null,
            "align_self": null,
            "border": null,
            "bottom": null,
            "display": null,
            "flex": null,
            "flex_flow": null,
            "grid_area": null,
            "grid_auto_columns": null,
            "grid_auto_flow": null,
            "grid_auto_rows": null,
            "grid_column": null,
            "grid_gap": null,
            "grid_row": null,
            "grid_template_areas": null,
            "grid_template_columns": null,
            "grid_template_rows": null,
            "height": null,
            "justify_content": null,
            "justify_items": null,
            "left": null,
            "margin": null,
            "max_height": null,
            "max_width": null,
            "min_height": null,
            "min_width": null,
            "object_fit": null,
            "object_position": null,
            "order": null,
            "overflow": null,
            "overflow_x": null,
            "overflow_y": null,
            "padding": null,
            "right": null,
            "top": null,
            "visibility": null,
            "width": null
          }
        },
        "26105062ff504ce8a427b8a56bed8017": {
          "model_module": "@jupyter-widgets/base",
          "model_module_version": "1.2.0",
          "model_name": "LayoutModel",
          "state": {
            "_model_module": "@jupyter-widgets/base",
            "_model_module_version": "1.2.0",
            "_model_name": "LayoutModel",
            "_view_count": null,
            "_view_module": "@jupyter-widgets/base",
            "_view_module_version": "1.2.0",
            "_view_name": "LayoutView",
            "align_content": null,
            "align_items": null,
            "align_self": null,
            "border": null,
            "bottom": null,
            "display": null,
            "flex": null,
            "flex_flow": null,
            "grid_area": null,
            "grid_auto_columns": null,
            "grid_auto_flow": null,
            "grid_auto_rows": null,
            "grid_column": null,
            "grid_gap": null,
            "grid_row": null,
            "grid_template_areas": null,
            "grid_template_columns": null,
            "grid_template_rows": null,
            "height": null,
            "justify_content": null,
            "justify_items": null,
            "left": null,
            "margin": null,
            "max_height": null,
            "max_width": null,
            "min_height": null,
            "min_width": null,
            "object_fit": null,
            "object_position": null,
            "order": null,
            "overflow": null,
            "overflow_x": null,
            "overflow_y": null,
            "padding": null,
            "right": null,
            "top": null,
            "visibility": null,
            "width": null
          }
        },
        "26d1fd993ef5432cba994d631b447df2": {
          "model_module": "@jupyter-widgets/controls",
          "model_module_version": "1.5.0",
          "model_name": "ProgressStyleModel",
          "state": {
            "_model_module": "@jupyter-widgets/controls",
            "_model_module_version": "1.5.0",
            "_model_name": "ProgressStyleModel",
            "_view_count": null,
            "_view_module": "@jupyter-widgets/base",
            "_view_module_version": "1.2.0",
            "_view_name": "StyleView",
            "bar_color": null,
            "description_width": ""
          }
        },
        "2f9019f7885b420c8c6122c506a25f3a": {
          "model_module": "@jupyter-widgets/base",
          "model_module_version": "1.2.0",
          "model_name": "LayoutModel",
          "state": {
            "_model_module": "@jupyter-widgets/base",
            "_model_module_version": "1.2.0",
            "_model_name": "LayoutModel",
            "_view_count": null,
            "_view_module": "@jupyter-widgets/base",
            "_view_module_version": "1.2.0",
            "_view_name": "LayoutView",
            "align_content": null,
            "align_items": null,
            "align_self": null,
            "border": null,
            "bottom": null,
            "display": null,
            "flex": null,
            "flex_flow": null,
            "grid_area": null,
            "grid_auto_columns": null,
            "grid_auto_flow": null,
            "grid_auto_rows": null,
            "grid_column": null,
            "grid_gap": null,
            "grid_row": null,
            "grid_template_areas": null,
            "grid_template_columns": null,
            "grid_template_rows": null,
            "height": null,
            "justify_content": null,
            "justify_items": null,
            "left": null,
            "margin": null,
            "max_height": null,
            "max_width": null,
            "min_height": null,
            "min_width": null,
            "object_fit": null,
            "object_position": null,
            "order": null,
            "overflow": null,
            "overflow_x": null,
            "overflow_y": null,
            "padding": null,
            "right": null,
            "top": null,
            "visibility": null,
            "width": null
          }
        },
        "3a52496516cd4b3694324afba7ff9799": {
          "model_module": "@jupyter-widgets/controls",
          "model_module_version": "1.5.0",
          "model_name": "DescriptionStyleModel",
          "state": {
            "_model_module": "@jupyter-widgets/controls",
            "_model_module_version": "1.5.0",
            "_model_name": "DescriptionStyleModel",
            "_view_count": null,
            "_view_module": "@jupyter-widgets/base",
            "_view_module_version": "1.2.0",
            "_view_name": "StyleView",
            "description_width": ""
          }
        },
        "4342a554f7594a58bd160b3fb1e6b2b1": {
          "model_module": "@jupyter-widgets/base",
          "model_module_version": "1.2.0",
          "model_name": "LayoutModel",
          "state": {
            "_model_module": "@jupyter-widgets/base",
            "_model_module_version": "1.2.0",
            "_model_name": "LayoutModel",
            "_view_count": null,
            "_view_module": "@jupyter-widgets/base",
            "_view_module_version": "1.2.0",
            "_view_name": "LayoutView",
            "align_content": null,
            "align_items": null,
            "align_self": null,
            "border": null,
            "bottom": null,
            "display": null,
            "flex": null,
            "flex_flow": null,
            "grid_area": null,
            "grid_auto_columns": null,
            "grid_auto_flow": null,
            "grid_auto_rows": null,
            "grid_column": null,
            "grid_gap": null,
            "grid_row": null,
            "grid_template_areas": null,
            "grid_template_columns": null,
            "grid_template_rows": null,
            "height": null,
            "justify_content": null,
            "justify_items": null,
            "left": null,
            "margin": null,
            "max_height": null,
            "max_width": null,
            "min_height": null,
            "min_width": null,
            "object_fit": null,
            "object_position": null,
            "order": null,
            "overflow": null,
            "overflow_x": null,
            "overflow_y": null,
            "padding": null,
            "right": null,
            "top": null,
            "visibility": null,
            "width": null
          }
        },
        "4b7e418ebcca48929d4f34ac4d92d2e5": {
          "model_module": "@jupyter-widgets/controls",
          "model_module_version": "1.5.0",
          "model_name": "DescriptionStyleModel",
          "state": {
            "_model_module": "@jupyter-widgets/controls",
            "_model_module_version": "1.5.0",
            "_model_name": "DescriptionStyleModel",
            "_view_count": null,
            "_view_module": "@jupyter-widgets/base",
            "_view_module_version": "1.2.0",
            "_view_name": "StyleView",
            "description_width": ""
          }
        },
        "4d460be0694b42dbb634c7d0cf44bb00": {
          "model_module": "@jupyter-widgets/controls",
          "model_module_version": "1.5.0",
          "model_name": "DescriptionStyleModel",
          "state": {
            "_model_module": "@jupyter-widgets/controls",
            "_model_module_version": "1.5.0",
            "_model_name": "DescriptionStyleModel",
            "_view_count": null,
            "_view_module": "@jupyter-widgets/base",
            "_view_module_version": "1.2.0",
            "_view_name": "StyleView",
            "description_width": ""
          }
        },
        "515717086ffa431c80dd77fefe7baa54": {
          "model_module": "@jupyter-widgets/controls",
          "model_module_version": "1.5.0",
          "model_name": "HBoxModel",
          "state": {
            "_dom_classes": [],
            "_model_module": "@jupyter-widgets/controls",
            "_model_module_version": "1.5.0",
            "_model_name": "HBoxModel",
            "_view_count": null,
            "_view_module": "@jupyter-widgets/controls",
            "_view_module_version": "1.5.0",
            "_view_name": "HBoxView",
            "box_style": "",
            "children": [
              "IPY_MODEL_0c269791cbc54c2ab235f0c74c0a4146",
              "IPY_MODEL_dce80e072e9947968b52b732b1c1f96a",
              "IPY_MODEL_b6c7780af3424bbc83f0e6dd6d619a30"
            ],
            "layout": "IPY_MODEL_ef47535dbb9349d3aa786a3b203af059"
          }
        },
        "52ee5e1a828d4faeb3c0a7872f678421": {
          "model_module": "@jupyter-widgets/base",
          "model_module_version": "1.2.0",
          "model_name": "LayoutModel",
          "state": {
            "_model_module": "@jupyter-widgets/base",
            "_model_module_version": "1.2.0",
            "_model_name": "LayoutModel",
            "_view_count": null,
            "_view_module": "@jupyter-widgets/base",
            "_view_module_version": "1.2.0",
            "_view_name": "LayoutView",
            "align_content": null,
            "align_items": null,
            "align_self": null,
            "border": null,
            "bottom": null,
            "display": null,
            "flex": null,
            "flex_flow": null,
            "grid_area": null,
            "grid_auto_columns": null,
            "grid_auto_flow": null,
            "grid_auto_rows": null,
            "grid_column": null,
            "grid_gap": null,
            "grid_row": null,
            "grid_template_areas": null,
            "grid_template_columns": null,
            "grid_template_rows": null,
            "height": null,
            "justify_content": null,
            "justify_items": null,
            "left": null,
            "margin": null,
            "max_height": null,
            "max_width": null,
            "min_height": null,
            "min_width": null,
            "object_fit": null,
            "object_position": null,
            "order": null,
            "overflow": null,
            "overflow_x": null,
            "overflow_y": null,
            "padding": null,
            "right": null,
            "top": null,
            "visibility": null,
            "width": null
          }
        },
        "552355f652ae448a97d0ce18daf8a8c5": {
          "model_module": "@jupyter-widgets/controls",
          "model_module_version": "1.5.0",
          "model_name": "FloatProgressModel",
          "state": {
            "_dom_classes": [],
            "_model_module": "@jupyter-widgets/controls",
            "_model_module_version": "1.5.0",
            "_model_name": "FloatProgressModel",
            "_view_count": null,
            "_view_module": "@jupyter-widgets/controls",
            "_view_module_version": "1.5.0",
            "_view_name": "ProgressView",
            "bar_style": "success",
            "description": "",
            "description_tooltip": null,
            "layout": "IPY_MODEL_795163a1230748fa93749af4b6927d36",
            "max": 1629437147,
            "min": 0,
            "orientation": "horizontal",
            "style": "IPY_MODEL_9569f35de984412bb18c547f936a994c",
            "value": 1629437147
          }
        },
        "5561786157ac4b58a966cd4fdd4a0b35": {
          "model_module": "@jupyter-widgets/controls",
          "model_module_version": "1.5.0",
          "model_name": "FloatProgressModel",
          "state": {
            "_dom_classes": [],
            "_model_module": "@jupyter-widgets/controls",
            "_model_module_version": "1.5.0",
            "_model_name": "FloatProgressModel",
            "_view_count": null,
            "_view_module": "@jupyter-widgets/controls",
            "_view_module_version": "1.5.0",
            "_view_name": "ProgressView",
            "bar_style": "success",
            "description": "",
            "description_tooltip": null,
            "layout": "IPY_MODEL_1feba8735df44b3299fd69cda6bd8a33",
            "max": 456318,
            "min": 0,
            "orientation": "horizontal",
            "style": "IPY_MODEL_26d1fd993ef5432cba994d631b447df2",
            "value": 456318
          }
        },
        "599d43060a7045c09b34e136cbca8d2a": {
          "model_module": "@jupyter-widgets/controls",
          "model_module_version": "1.5.0",
          "model_name": "ProgressStyleModel",
          "state": {
            "_model_module": "@jupyter-widgets/controls",
            "_model_module_version": "1.5.0",
            "_model_name": "ProgressStyleModel",
            "_view_count": null,
            "_view_module": "@jupyter-widgets/base",
            "_view_module_version": "1.2.0",
            "_view_name": "StyleView",
            "bar_color": null,
            "description_width": ""
          }
        },
        "5d43abb8a0e0493e9c7226f654e4416f": {
          "model_module": "@jupyter-widgets/base",
          "model_module_version": "1.2.0",
          "model_name": "LayoutModel",
          "state": {
            "_model_module": "@jupyter-widgets/base",
            "_model_module_version": "1.2.0",
            "_model_name": "LayoutModel",
            "_view_count": null,
            "_view_module": "@jupyter-widgets/base",
            "_view_module_version": "1.2.0",
            "_view_name": "LayoutView",
            "align_content": null,
            "align_items": null,
            "align_self": null,
            "border": null,
            "bottom": null,
            "display": null,
            "flex": null,
            "flex_flow": null,
            "grid_area": null,
            "grid_auto_columns": null,
            "grid_auto_flow": null,
            "grid_auto_rows": null,
            "grid_column": null,
            "grid_gap": null,
            "grid_row": null,
            "grid_template_areas": null,
            "grid_template_columns": null,
            "grid_template_rows": null,
            "height": null,
            "justify_content": null,
            "justify_items": null,
            "left": null,
            "margin": null,
            "max_height": null,
            "max_width": null,
            "min_height": null,
            "min_width": null,
            "object_fit": null,
            "object_position": null,
            "order": null,
            "overflow": null,
            "overflow_x": null,
            "overflow_y": null,
            "padding": null,
            "right": null,
            "top": null,
            "visibility": null,
            "width": null
          }
        },
        "6095107663b64b4f85fd8df8c7e9c659": {
          "model_module": "@jupyter-widgets/base",
          "model_module_version": "1.2.0",
          "model_name": "LayoutModel",
          "state": {
            "_model_module": "@jupyter-widgets/base",
            "_model_module_version": "1.2.0",
            "_model_name": "LayoutModel",
            "_view_count": null,
            "_view_module": "@jupyter-widgets/base",
            "_view_module_version": "1.2.0",
            "_view_name": "LayoutView",
            "align_content": null,
            "align_items": null,
            "align_self": null,
            "border": null,
            "bottom": null,
            "display": null,
            "flex": null,
            "flex_flow": null,
            "grid_area": null,
            "grid_auto_columns": null,
            "grid_auto_flow": null,
            "grid_auto_rows": null,
            "grid_column": null,
            "grid_gap": null,
            "grid_row": null,
            "grid_template_areas": null,
            "grid_template_columns": null,
            "grid_template_rows": null,
            "height": null,
            "justify_content": null,
            "justify_items": null,
            "left": null,
            "margin": null,
            "max_height": null,
            "max_width": null,
            "min_height": null,
            "min_width": null,
            "object_fit": null,
            "object_position": null,
            "order": null,
            "overflow": null,
            "overflow_x": null,
            "overflow_y": null,
            "padding": null,
            "right": null,
            "top": null,
            "visibility": null,
            "width": null
          }
        },
        "60efa498eaa043cdba65ee18031090e8": {
          "model_module": "@jupyter-widgets/base",
          "model_module_version": "1.2.0",
          "model_name": "LayoutModel",
          "state": {
            "_model_module": "@jupyter-widgets/base",
            "_model_module_version": "1.2.0",
            "_model_name": "LayoutModel",
            "_view_count": null,
            "_view_module": "@jupyter-widgets/base",
            "_view_module_version": "1.2.0",
            "_view_name": "LayoutView",
            "align_content": null,
            "align_items": null,
            "align_self": null,
            "border": null,
            "bottom": null,
            "display": null,
            "flex": null,
            "flex_flow": null,
            "grid_area": null,
            "grid_auto_columns": null,
            "grid_auto_flow": null,
            "grid_auto_rows": null,
            "grid_column": null,
            "grid_gap": null,
            "grid_row": null,
            "grid_template_areas": null,
            "grid_template_columns": null,
            "grid_template_rows": null,
            "height": null,
            "justify_content": null,
            "justify_items": null,
            "left": null,
            "margin": null,
            "max_height": null,
            "max_width": null,
            "min_height": null,
            "min_width": null,
            "object_fit": null,
            "object_position": null,
            "order": null,
            "overflow": null,
            "overflow_x": null,
            "overflow_y": null,
            "padding": null,
            "right": null,
            "top": null,
            "visibility": null,
            "width": null
          }
        },
        "670f7b472387403fb7e0b93d80d308d1": {
          "model_module": "@jupyter-widgets/controls",
          "model_module_version": "1.5.0",
          "model_name": "DescriptionStyleModel",
          "state": {
            "_model_module": "@jupyter-widgets/controls",
            "_model_module_version": "1.5.0",
            "_model_name": "DescriptionStyleModel",
            "_view_count": null,
            "_view_module": "@jupyter-widgets/base",
            "_view_module_version": "1.2.0",
            "_view_name": "StyleView",
            "description_width": ""
          }
        },
        "6c6d37326864400ebc79713f13d51d42": {
          "model_module": "@jupyter-widgets/controls",
          "model_module_version": "1.5.0",
          "model_name": "HTMLModel",
          "state": {
            "_dom_classes": [],
            "_model_module": "@jupyter-widgets/controls",
            "_model_module_version": "1.5.0",
            "_model_name": "HTMLModel",
            "_view_count": null,
            "_view_module": "@jupyter-widgets/controls",
            "_view_module_version": "1.5.0",
            "_view_name": "HTMLView",
            "description": "",
            "description_tooltip": null,
            "layout": "IPY_MODEL_5d43abb8a0e0493e9c7226f654e4416f",
            "placeholder": "​",
            "style": "IPY_MODEL_10dfecbbd1ec4d3eb0c6edad9c48ed64",
            "value": "merges.txt: 100%"
          }
        },
        "6dde798097a6465981650acdeee2ef56": {
          "model_module": "@jupyter-widgets/base",
          "model_module_version": "1.2.0",
          "model_name": "LayoutModel",
          "state": {
            "_model_module": "@jupyter-widgets/base",
            "_model_module_version": "1.2.0",
            "_model_name": "LayoutModel",
            "_view_count": null,
            "_view_module": "@jupyter-widgets/base",
            "_view_module_version": "1.2.0",
            "_view_name": "LayoutView",
            "align_content": null,
            "align_items": null,
            "align_self": null,
            "border": null,
            "bottom": null,
            "display": null,
            "flex": null,
            "flex_flow": null,
            "grid_area": null,
            "grid_auto_columns": null,
            "grid_auto_flow": null,
            "grid_auto_rows": null,
            "grid_column": null,
            "grid_gap": null,
            "grid_row": null,
            "grid_template_areas": null,
            "grid_template_columns": null,
            "grid_template_rows": null,
            "height": null,
            "justify_content": null,
            "justify_items": null,
            "left": null,
            "margin": null,
            "max_height": null,
            "max_width": null,
            "min_height": null,
            "min_width": null,
            "object_fit": null,
            "object_position": null,
            "order": null,
            "overflow": null,
            "overflow_x": null,
            "overflow_y": null,
            "padding": null,
            "right": null,
            "top": null,
            "visibility": null,
            "width": null
          }
        },
        "71bc8aaa3ba340de86da1e94549dc299": {
          "model_module": "@jupyter-widgets/controls",
          "model_module_version": "1.5.0",
          "model_name": "DescriptionStyleModel",
          "state": {
            "_model_module": "@jupyter-widgets/controls",
            "_model_module_version": "1.5.0",
            "_model_name": "DescriptionStyleModel",
            "_view_count": null,
            "_view_module": "@jupyter-widgets/base",
            "_view_module_version": "1.2.0",
            "_view_name": "StyleView",
            "description_width": ""
          }
        },
        "795163a1230748fa93749af4b6927d36": {
          "model_module": "@jupyter-widgets/base",
          "model_module_version": "1.2.0",
          "model_name": "LayoutModel",
          "state": {
            "_model_module": "@jupyter-widgets/base",
            "_model_module_version": "1.2.0",
            "_model_name": "LayoutModel",
            "_view_count": null,
            "_view_module": "@jupyter-widgets/base",
            "_view_module_version": "1.2.0",
            "_view_name": "LayoutView",
            "align_content": null,
            "align_items": null,
            "align_self": null,
            "border": null,
            "bottom": null,
            "display": null,
            "flex": null,
            "flex_flow": null,
            "grid_area": null,
            "grid_auto_columns": null,
            "grid_auto_flow": null,
            "grid_auto_rows": null,
            "grid_column": null,
            "grid_gap": null,
            "grid_row": null,
            "grid_template_areas": null,
            "grid_template_columns": null,
            "grid_template_rows": null,
            "height": null,
            "justify_content": null,
            "justify_items": null,
            "left": null,
            "margin": null,
            "max_height": null,
            "max_width": null,
            "min_height": null,
            "min_width": null,
            "object_fit": null,
            "object_position": null,
            "order": null,
            "overflow": null,
            "overflow_x": null,
            "overflow_y": null,
            "padding": null,
            "right": null,
            "top": null,
            "visibility": null,
            "width": null
          }
        },
        "82ce121657c84bda84cbe28d745f44a2": {
          "model_module": "@jupyter-widgets/controls",
          "model_module_version": "1.5.0",
          "model_name": "HBoxModel",
          "state": {
            "_dom_classes": [],
            "_model_module": "@jupyter-widgets/controls",
            "_model_module_version": "1.5.0",
            "_model_name": "HBoxModel",
            "_view_count": null,
            "_view_module": "@jupyter-widgets/controls",
            "_view_module_version": "1.5.0",
            "_view_name": "HBoxView",
            "box_style": "",
            "children": [
              "IPY_MODEL_9e99c5733aaa4aaca340c83d1ea0d4cc",
              "IPY_MODEL_552355f652ae448a97d0ce18daf8a8c5",
              "IPY_MODEL_d4f9b62df4974c118d556fa641798551"
            ],
            "layout": "IPY_MODEL_02f1a4e1c0b341a59c2f485c71d2583a"
          }
        },
        "834ce5145c9646808840887ea799f7b6": {
          "model_module": "@jupyter-widgets/controls",
          "model_module_version": "1.5.0",
          "model_name": "DescriptionStyleModel",
          "state": {
            "_model_module": "@jupyter-widgets/controls",
            "_model_module_version": "1.5.0",
            "_model_name": "DescriptionStyleModel",
            "_view_count": null,
            "_view_module": "@jupyter-widgets/base",
            "_view_module_version": "1.2.0",
            "_view_name": "StyleView",
            "description_width": ""
          }
        },
        "840e7db6703b4128b0f6ca0d6faf1170": {
          "model_module": "@jupyter-widgets/controls",
          "model_module_version": "1.5.0",
          "model_name": "HTMLModel",
          "state": {
            "_dom_classes": [],
            "_model_module": "@jupyter-widgets/controls",
            "_model_module_version": "1.5.0",
            "_model_name": "HTMLModel",
            "_view_count": null,
            "_view_module": "@jupyter-widgets/controls",
            "_view_module_version": "1.5.0",
            "_view_name": "HTMLView",
            "description": "",
            "description_tooltip": null,
            "layout": "IPY_MODEL_60efa498eaa043cdba65ee18031090e8",
            "placeholder": "​",
            "style": "IPY_MODEL_fe1a920d24b646bf8da467c1334f9d88",
            "value": "tokenizer.json: 100%"
          }
        },
        "869544d098ff41e8924a15c92b545743": {
          "model_module": "@jupyter-widgets/controls",
          "model_module_version": "1.5.0",
          "model_name": "HTMLModel",
          "state": {
            "_dom_classes": [],
            "_model_module": "@jupyter-widgets/controls",
            "_model_module_version": "1.5.0",
            "_model_name": "HTMLModel",
            "_view_count": null,
            "_view_module": "@jupyter-widgets/controls",
            "_view_module_version": "1.5.0",
            "_view_name": "HTMLView",
            "description": "",
            "description_tooltip": null,
            "layout": "IPY_MODEL_2f9019f7885b420c8c6122c506a25f3a",
            "placeholder": "​",
            "style": "IPY_MODEL_71bc8aaa3ba340de86da1e94549dc299",
            "value": " 899k/899k [00:00&lt;00:00, 4.12MB/s]"
          }
        },
        "89f86d70f0f54236860766666268b662": {
          "model_module": "@jupyter-widgets/controls",
          "model_module_version": "1.5.0",
          "model_name": "DescriptionStyleModel",
          "state": {
            "_model_module": "@jupyter-widgets/controls",
            "_model_module_version": "1.5.0",
            "_model_name": "DescriptionStyleModel",
            "_view_count": null,
            "_view_module": "@jupyter-widgets/base",
            "_view_module_version": "1.2.0",
            "_view_name": "StyleView",
            "description_width": ""
          }
        },
        "8ab2bb8fe08344e69a49396a6273be07": {
          "model_module": "@jupyter-widgets/base",
          "model_module_version": "1.2.0",
          "model_name": "LayoutModel",
          "state": {
            "_model_module": "@jupyter-widgets/base",
            "_model_module_version": "1.2.0",
            "_model_name": "LayoutModel",
            "_view_count": null,
            "_view_module": "@jupyter-widgets/base",
            "_view_module_version": "1.2.0",
            "_view_name": "LayoutView",
            "align_content": null,
            "align_items": null,
            "align_self": null,
            "border": null,
            "bottom": null,
            "display": null,
            "flex": null,
            "flex_flow": null,
            "grid_area": null,
            "grid_auto_columns": null,
            "grid_auto_flow": null,
            "grid_auto_rows": null,
            "grid_column": null,
            "grid_gap": null,
            "grid_row": null,
            "grid_template_areas": null,
            "grid_template_columns": null,
            "grid_template_rows": null,
            "height": null,
            "justify_content": null,
            "justify_items": null,
            "left": null,
            "margin": null,
            "max_height": null,
            "max_width": null,
            "min_height": null,
            "min_width": null,
            "object_fit": null,
            "object_position": null,
            "order": null,
            "overflow": null,
            "overflow_x": null,
            "overflow_y": null,
            "padding": null,
            "right": null,
            "top": null,
            "visibility": null,
            "width": null
          }
        },
        "9492f0718e1e43738566af8f00e922da": {
          "model_module": "@jupyter-widgets/controls",
          "model_module_version": "1.5.0",
          "model_name": "ProgressStyleModel",
          "state": {
            "_model_module": "@jupyter-widgets/controls",
            "_model_module_version": "1.5.0",
            "_model_name": "ProgressStyleModel",
            "_view_count": null,
            "_view_module": "@jupyter-widgets/base",
            "_view_module_version": "1.2.0",
            "_view_name": "StyleView",
            "bar_color": null,
            "description_width": ""
          }
        },
        "9569f35de984412bb18c547f936a994c": {
          "model_module": "@jupyter-widgets/controls",
          "model_module_version": "1.5.0",
          "model_name": "ProgressStyleModel",
          "state": {
            "_model_module": "@jupyter-widgets/controls",
            "_model_module_version": "1.5.0",
            "_model_name": "ProgressStyleModel",
            "_view_count": null,
            "_view_module": "@jupyter-widgets/base",
            "_view_module_version": "1.2.0",
            "_view_name": "StyleView",
            "bar_color": null,
            "description_width": ""
          }
        },
        "9657da018f7a47dd995b47901b517e02": {
          "model_module": "@jupyter-widgets/controls",
          "model_module_version": "1.5.0",
          "model_name": "HTMLModel",
          "state": {
            "_dom_classes": [],
            "_model_module": "@jupyter-widgets/controls",
            "_model_module_version": "1.5.0",
            "_model_name": "HTMLModel",
            "_view_count": null,
            "_view_module": "@jupyter-widgets/controls",
            "_view_module_version": "1.5.0",
            "_view_name": "HTMLView",
            "description": "",
            "description_tooltip": null,
            "layout": "IPY_MODEL_ae74d0e3fdf94646ba09097476715406",
            "placeholder": "​",
            "style": "IPY_MODEL_d2984028ecf3453c8f4575003fa0729a",
            "value": " 26.0/26.0 [00:00&lt;00:00, 2.20kB/s]"
          }
        },
        "9e99c5733aaa4aaca340c83d1ea0d4cc": {
          "model_module": "@jupyter-widgets/controls",
          "model_module_version": "1.5.0",
          "model_name": "HTMLModel",
          "state": {
            "_dom_classes": [],
            "_model_module": "@jupyter-widgets/controls",
            "_model_module_version": "1.5.0",
            "_model_name": "HTMLModel",
            "_view_count": null,
            "_view_module": "@jupyter-widgets/controls",
            "_view_module_version": "1.5.0",
            "_view_name": "HTMLView",
            "description": "",
            "description_tooltip": null,
            "layout": "IPY_MODEL_6dde798097a6465981650acdeee2ef56",
            "placeholder": "​",
            "style": "IPY_MODEL_670f7b472387403fb7e0b93d80d308d1",
            "value": "model.safetensors: 100%"
          }
        },
        "ae74d0e3fdf94646ba09097476715406": {
          "model_module": "@jupyter-widgets/base",
          "model_module_version": "1.2.0",
          "model_name": "LayoutModel",
          "state": {
            "_model_module": "@jupyter-widgets/base",
            "_model_module_version": "1.2.0",
            "_model_name": "LayoutModel",
            "_view_count": null,
            "_view_module": "@jupyter-widgets/base",
            "_view_module_version": "1.2.0",
            "_view_name": "LayoutView",
            "align_content": null,
            "align_items": null,
            "align_self": null,
            "border": null,
            "bottom": null,
            "display": null,
            "flex": null,
            "flex_flow": null,
            "grid_area": null,
            "grid_auto_columns": null,
            "grid_auto_flow": null,
            "grid_auto_rows": null,
            "grid_column": null,
            "grid_gap": null,
            "grid_row": null,
            "grid_template_areas": null,
            "grid_template_columns": null,
            "grid_template_rows": null,
            "height": null,
            "justify_content": null,
            "justify_items": null,
            "left": null,
            "margin": null,
            "max_height": null,
            "max_width": null,
            "min_height": null,
            "min_width": null,
            "object_fit": null,
            "object_position": null,
            "order": null,
            "overflow": null,
            "overflow_x": null,
            "overflow_y": null,
            "padding": null,
            "right": null,
            "top": null,
            "visibility": null,
            "width": null
          }
        },
        "aede93b236ca4e8e8505bce4e2d9f0d9": {
          "model_module": "@jupyter-widgets/controls",
          "model_module_version": "1.5.0",
          "model_name": "FloatProgressModel",
          "state": {
            "_dom_classes": [],
            "_model_module": "@jupyter-widgets/controls",
            "_model_module_version": "1.5.0",
            "_model_name": "FloatProgressModel",
            "_view_count": null,
            "_view_module": "@jupyter-widgets/controls",
            "_view_module_version": "1.5.0",
            "_view_name": "ProgressView",
            "bar_style": "success",
            "description": "",
            "description_tooltip": null,
            "layout": "IPY_MODEL_ffc993e533274ea0a7f5cd96dba9adf1",
            "max": 898822,
            "min": 0,
            "orientation": "horizontal",
            "style": "IPY_MODEL_599d43060a7045c09b34e136cbca8d2a",
            "value": 898822
          }
        },
        "b1a2d92dbe90427bb5d80a33fb03b310": {
          "model_module": "@jupyter-widgets/base",
          "model_module_version": "1.2.0",
          "model_name": "LayoutModel",
          "state": {
            "_model_module": "@jupyter-widgets/base",
            "_model_module_version": "1.2.0",
            "_model_name": "LayoutModel",
            "_view_count": null,
            "_view_module": "@jupyter-widgets/base",
            "_view_module_version": "1.2.0",
            "_view_name": "LayoutView",
            "align_content": null,
            "align_items": null,
            "align_self": null,
            "border": null,
            "bottom": null,
            "display": null,
            "flex": null,
            "flex_flow": null,
            "grid_area": null,
            "grid_auto_columns": null,
            "grid_auto_flow": null,
            "grid_auto_rows": null,
            "grid_column": null,
            "grid_gap": null,
            "grid_row": null,
            "grid_template_areas": null,
            "grid_template_columns": null,
            "grid_template_rows": null,
            "height": null,
            "justify_content": null,
            "justify_items": null,
            "left": null,
            "margin": null,
            "max_height": null,
            "max_width": null,
            "min_height": null,
            "min_width": null,
            "object_fit": null,
            "object_position": null,
            "order": null,
            "overflow": null,
            "overflow_x": null,
            "overflow_y": null,
            "padding": null,
            "right": null,
            "top": null,
            "visibility": null,
            "width": null
          }
        },
        "b26a61bf51bc4b079db36c7bf33e1762": {
          "model_module": "@jupyter-widgets/base",
          "model_module_version": "1.2.0",
          "model_name": "LayoutModel",
          "state": {
            "_model_module": "@jupyter-widgets/base",
            "_model_module_version": "1.2.0",
            "_model_name": "LayoutModel",
            "_view_count": null,
            "_view_module": "@jupyter-widgets/base",
            "_view_module_version": "1.2.0",
            "_view_name": "LayoutView",
            "align_content": null,
            "align_items": null,
            "align_self": null,
            "border": null,
            "bottom": null,
            "display": null,
            "flex": null,
            "flex_flow": null,
            "grid_area": null,
            "grid_auto_columns": null,
            "grid_auto_flow": null,
            "grid_auto_rows": null,
            "grid_column": null,
            "grid_gap": null,
            "grid_row": null,
            "grid_template_areas": null,
            "grid_template_columns": null,
            "grid_template_rows": null,
            "height": null,
            "justify_content": null,
            "justify_items": null,
            "left": null,
            "margin": null,
            "max_height": null,
            "max_width": null,
            "min_height": null,
            "min_width": null,
            "object_fit": null,
            "object_position": null,
            "order": null,
            "overflow": null,
            "overflow_x": null,
            "overflow_y": null,
            "padding": null,
            "right": null,
            "top": null,
            "visibility": null,
            "width": null
          }
        },
        "b486bc05517a4b6f907d8dc0d6be2f5d": {
          "model_module": "@jupyter-widgets/base",
          "model_module_version": "1.2.0",
          "model_name": "LayoutModel",
          "state": {
            "_model_module": "@jupyter-widgets/base",
            "_model_module_version": "1.2.0",
            "_model_name": "LayoutModel",
            "_view_count": null,
            "_view_module": "@jupyter-widgets/base",
            "_view_module_version": "1.2.0",
            "_view_name": "LayoutView",
            "align_content": null,
            "align_items": null,
            "align_self": null,
            "border": null,
            "bottom": null,
            "display": null,
            "flex": null,
            "flex_flow": null,
            "grid_area": null,
            "grid_auto_columns": null,
            "grid_auto_flow": null,
            "grid_auto_rows": null,
            "grid_column": null,
            "grid_gap": null,
            "grid_row": null,
            "grid_template_areas": null,
            "grid_template_columns": null,
            "grid_template_rows": null,
            "height": null,
            "justify_content": null,
            "justify_items": null,
            "left": null,
            "margin": null,
            "max_height": null,
            "max_width": null,
            "min_height": null,
            "min_width": null,
            "object_fit": null,
            "object_position": null,
            "order": null,
            "overflow": null,
            "overflow_x": null,
            "overflow_y": null,
            "padding": null,
            "right": null,
            "top": null,
            "visibility": null,
            "width": null
          }
        },
        "b4d66a7bb4c744778c8a4d884d2d2bf8": {
          "model_module": "@jupyter-widgets/controls",
          "model_module_version": "1.5.0",
          "model_name": "HBoxModel",
          "state": {
            "_dom_classes": [],
            "_model_module": "@jupyter-widgets/controls",
            "_model_module_version": "1.5.0",
            "_model_name": "HBoxModel",
            "_view_count": null,
            "_view_module": "@jupyter-widgets/controls",
            "_view_module_version": "1.5.0",
            "_view_name": "HBoxView",
            "box_style": "",
            "children": [
              "IPY_MODEL_c84dae9208b44bba9773e56775cb0b24",
              "IPY_MODEL_f330efec980a478aa9f5776228333b74",
              "IPY_MODEL_9657da018f7a47dd995b47901b517e02"
            ],
            "layout": "IPY_MODEL_6095107663b64b4f85fd8df8c7e9c659"
          }
        },
        "b6c7780af3424bbc83f0e6dd6d619a30": {
          "model_module": "@jupyter-widgets/controls",
          "model_module_version": "1.5.0",
          "model_name": "HTMLModel",
          "state": {
            "_dom_classes": [],
            "_model_module": "@jupyter-widgets/controls",
            "_model_module_version": "1.5.0",
            "_model_name": "HTMLModel",
            "_view_count": null,
            "_view_module": "@jupyter-widgets/controls",
            "_view_module_version": "1.5.0",
            "_view_name": "HTMLView",
            "description": "",
            "description_tooltip": null,
            "layout": "IPY_MODEL_52ee5e1a828d4faeb3c0a7872f678421",
            "placeholder": "​",
            "style": "IPY_MODEL_89f86d70f0f54236860766666268b662",
            "value": " 1.15k/1.15k [00:00&lt;00:00, 110kB/s]"
          }
        },
        "b9953e2e58fa4759812691d4307f2812": {
          "model_module": "@jupyter-widgets/controls",
          "model_module_version": "1.5.0",
          "model_name": "HBoxModel",
          "state": {
            "_dom_classes": [],
            "_model_module": "@jupyter-widgets/controls",
            "_model_module_version": "1.5.0",
            "_model_name": "HBoxModel",
            "_view_count": null,
            "_view_module": "@jupyter-widgets/controls",
            "_view_module_version": "1.5.0",
            "_view_name": "HBoxView",
            "box_style": "",
            "children": [
              "IPY_MODEL_840e7db6703b4128b0f6ca0d6faf1170",
              "IPY_MODEL_1476f51ba54d41f6b117f43370c295e3",
              "IPY_MODEL_da24e7289a3d489bbd25a1bccd146f1e"
            ],
            "layout": "IPY_MODEL_b486bc05517a4b6f907d8dc0d6be2f5d"
          }
        },
        "bc1dd41aeaa74da295874bc8acacfd6d": {
          "model_module": "@jupyter-widgets/controls",
          "model_module_version": "1.5.0",
          "model_name": "HBoxModel",
          "state": {
            "_dom_classes": [],
            "_model_module": "@jupyter-widgets/controls",
            "_model_module_version": "1.5.0",
            "_model_name": "HBoxModel",
            "_view_count": null,
            "_view_module": "@jupyter-widgets/controls",
            "_view_module_version": "1.5.0",
            "_view_name": "HBoxView",
            "box_style": "",
            "children": [
              "IPY_MODEL_e2d913b164ea46af85d24b76c2c78ab9",
              "IPY_MODEL_aede93b236ca4e8e8505bce4e2d9f0d9",
              "IPY_MODEL_869544d098ff41e8924a15c92b545743"
            ],
            "layout": "IPY_MODEL_235f761af2fe4108b1ec641826062bc6"
          }
        },
        "c84dae9208b44bba9773e56775cb0b24": {
          "model_module": "@jupyter-widgets/controls",
          "model_module_version": "1.5.0",
          "model_name": "HTMLModel",
          "state": {
            "_dom_classes": [],
            "_model_module": "@jupyter-widgets/controls",
            "_model_module_version": "1.5.0",
            "_model_name": "HTMLModel",
            "_view_count": null,
            "_view_module": "@jupyter-widgets/controls",
            "_view_module_version": "1.5.0",
            "_view_name": "HTMLView",
            "description": "",
            "description_tooltip": null,
            "layout": "IPY_MODEL_b26a61bf51bc4b079db36c7bf33e1762",
            "placeholder": "​",
            "style": "IPY_MODEL_ec2f17704e7a469a9c2129a58d705177",
            "value": "tokenizer_config.json: 100%"
          }
        },
        "d2984028ecf3453c8f4575003fa0729a": {
          "model_module": "@jupyter-widgets/controls",
          "model_module_version": "1.5.0",
          "model_name": "DescriptionStyleModel",
          "state": {
            "_model_module": "@jupyter-widgets/controls",
            "_model_module_version": "1.5.0",
            "_model_name": "DescriptionStyleModel",
            "_view_count": null,
            "_view_module": "@jupyter-widgets/base",
            "_view_module_version": "1.2.0",
            "_view_name": "StyleView",
            "description_width": ""
          }
        },
        "d43d18868ffe4393828c399ddccea43b": {
          "model_module": "@jupyter-widgets/controls",
          "model_module_version": "1.5.0",
          "model_name": "HBoxModel",
          "state": {
            "_dom_classes": [],
            "_model_module": "@jupyter-widgets/controls",
            "_model_module_version": "1.5.0",
            "_model_name": "HBoxModel",
            "_view_count": null,
            "_view_module": "@jupyter-widgets/controls",
            "_view_module_version": "1.5.0",
            "_view_name": "HBoxView",
            "box_style": "",
            "children": [
              "IPY_MODEL_6c6d37326864400ebc79713f13d51d42",
              "IPY_MODEL_5561786157ac4b58a966cd4fdd4a0b35",
              "IPY_MODEL_023fd66f735d415caa57622fb960f6b9"
            ],
            "layout": "IPY_MODEL_1e0623418bde41749937d9a457b29380"
          }
        },
        "d4f9b62df4974c118d556fa641798551": {
          "model_module": "@jupyter-widgets/controls",
          "model_module_version": "1.5.0",
          "model_name": "HTMLModel",
          "state": {
            "_dom_classes": [],
            "_model_module": "@jupyter-widgets/controls",
            "_model_module_version": "1.5.0",
            "_model_name": "HTMLModel",
            "_view_count": null,
            "_view_module": "@jupyter-widgets/controls",
            "_view_module_version": "1.5.0",
            "_view_name": "HTMLView",
            "description": "",
            "description_tooltip": null,
            "layout": "IPY_MODEL_b1a2d92dbe90427bb5d80a33fb03b310",
            "placeholder": "​",
            "style": "IPY_MODEL_834ce5145c9646808840887ea799f7b6",
            "value": " 1.63G/1.63G [00:14&lt;00:00, 237MB/s]"
          }
        },
        "d871eb0f45674dc08e690e3515c5c195": {
          "model_module": "@jupyter-widgets/controls",
          "model_module_version": "1.5.0",
          "model_name": "DescriptionStyleModel",
          "state": {
            "_model_module": "@jupyter-widgets/controls",
            "_model_module_version": "1.5.0",
            "_model_name": "DescriptionStyleModel",
            "_view_count": null,
            "_view_module": "@jupyter-widgets/base",
            "_view_module_version": "1.2.0",
            "_view_name": "StyleView",
            "description_width": ""
          }
        },
        "da24e7289a3d489bbd25a1bccd146f1e": {
          "model_module": "@jupyter-widgets/controls",
          "model_module_version": "1.5.0",
          "model_name": "HTMLModel",
          "state": {
            "_dom_classes": [],
            "_model_module": "@jupyter-widgets/controls",
            "_model_module_version": "1.5.0",
            "_model_name": "HTMLModel",
            "_view_count": null,
            "_view_module": "@jupyter-widgets/controls",
            "_view_module_version": "1.5.0",
            "_view_name": "HTMLView",
            "description": "",
            "description_tooltip": null,
            "layout": "IPY_MODEL_0a13f144848a48b8a7fd760e4305b48d",
            "placeholder": "​",
            "style": "IPY_MODEL_4d460be0694b42dbb634c7d0cf44bb00",
            "value": " 1.36M/1.36M [00:00&lt;00:00, 6.48MB/s]"
          }
        },
        "dce80e072e9947968b52b732b1c1f96a": {
          "model_module": "@jupyter-widgets/controls",
          "model_module_version": "1.5.0",
          "model_name": "FloatProgressModel",
          "state": {
            "_dom_classes": [],
            "_model_module": "@jupyter-widgets/controls",
            "_model_module_version": "1.5.0",
            "_model_name": "FloatProgressModel",
            "_view_count": null,
            "_view_module": "@jupyter-widgets/controls",
            "_view_module_version": "1.5.0",
            "_view_name": "ProgressView",
            "bar_style": "success",
            "description": "",
            "description_tooltip": null,
            "layout": "IPY_MODEL_8ab2bb8fe08344e69a49396a6273be07",
            "max": 1154,
            "min": 0,
            "orientation": "horizontal",
            "style": "IPY_MODEL_9492f0718e1e43738566af8f00e922da",
            "value": 1154
          }
        },
        "e2d913b164ea46af85d24b76c2c78ab9": {
          "model_module": "@jupyter-widgets/controls",
          "model_module_version": "1.5.0",
          "model_name": "HTMLModel",
          "state": {
            "_dom_classes": [],
            "_model_module": "@jupyter-widgets/controls",
            "_model_module_version": "1.5.0",
            "_model_name": "HTMLModel",
            "_view_count": null,
            "_view_module": "@jupyter-widgets/controls",
            "_view_module_version": "1.5.0",
            "_view_name": "HTMLView",
            "description": "",
            "description_tooltip": null,
            "layout": "IPY_MODEL_4342a554f7594a58bd160b3fb1e6b2b1",
            "placeholder": "​",
            "style": "IPY_MODEL_4b7e418ebcca48929d4f34ac4d92d2e5",
            "value": "vocab.json: 100%"
          }
        },
        "e5af947f34d04aee8d88d3e195c02885": {
          "model_module": "@jupyter-widgets/controls",
          "model_module_version": "1.5.0",
          "model_name": "ProgressStyleModel",
          "state": {
            "_model_module": "@jupyter-widgets/controls",
            "_model_module_version": "1.5.0",
            "_model_name": "ProgressStyleModel",
            "_view_count": null,
            "_view_module": "@jupyter-widgets/base",
            "_view_module_version": "1.2.0",
            "_view_name": "StyleView",
            "bar_color": null,
            "description_width": ""
          }
        },
        "e79593850ab1441ea1860bb5b879d756": {
          "model_module": "@jupyter-widgets/controls",
          "model_module_version": "1.5.0",
          "model_name": "ProgressStyleModel",
          "state": {
            "_model_module": "@jupyter-widgets/controls",
            "_model_module_version": "1.5.0",
            "_model_name": "ProgressStyleModel",
            "_view_count": null,
            "_view_module": "@jupyter-widgets/base",
            "_view_module_version": "1.2.0",
            "_view_name": "StyleView",
            "bar_color": null,
            "description_width": ""
          }
        },
        "ec2f17704e7a469a9c2129a58d705177": {
          "model_module": "@jupyter-widgets/controls",
          "model_module_version": "1.5.0",
          "model_name": "DescriptionStyleModel",
          "state": {
            "_model_module": "@jupyter-widgets/controls",
            "_model_module_version": "1.5.0",
            "_model_name": "DescriptionStyleModel",
            "_view_count": null,
            "_view_module": "@jupyter-widgets/base",
            "_view_module_version": "1.2.0",
            "_view_name": "StyleView",
            "description_width": ""
          }
        },
        "ef47535dbb9349d3aa786a3b203af059": {
          "model_module": "@jupyter-widgets/base",
          "model_module_version": "1.2.0",
          "model_name": "LayoutModel",
          "state": {
            "_model_module": "@jupyter-widgets/base",
            "_model_module_version": "1.2.0",
            "_model_name": "LayoutModel",
            "_view_count": null,
            "_view_module": "@jupyter-widgets/base",
            "_view_module_version": "1.2.0",
            "_view_name": "LayoutView",
            "align_content": null,
            "align_items": null,
            "align_self": null,
            "border": null,
            "bottom": null,
            "display": null,
            "flex": null,
            "flex_flow": null,
            "grid_area": null,
            "grid_auto_columns": null,
            "grid_auto_flow": null,
            "grid_auto_rows": null,
            "grid_column": null,
            "grid_gap": null,
            "grid_row": null,
            "grid_template_areas": null,
            "grid_template_columns": null,
            "grid_template_rows": null,
            "height": null,
            "justify_content": null,
            "justify_items": null,
            "left": null,
            "margin": null,
            "max_height": null,
            "max_width": null,
            "min_height": null,
            "min_width": null,
            "object_fit": null,
            "object_position": null,
            "order": null,
            "overflow": null,
            "overflow_x": null,
            "overflow_y": null,
            "padding": null,
            "right": null,
            "top": null,
            "visibility": null,
            "width": null
          }
        },
        "f330efec980a478aa9f5776228333b74": {
          "model_module": "@jupyter-widgets/controls",
          "model_module_version": "1.5.0",
          "model_name": "FloatProgressModel",
          "state": {
            "_dom_classes": [],
            "_model_module": "@jupyter-widgets/controls",
            "_model_module_version": "1.5.0",
            "_model_name": "FloatProgressModel",
            "_view_count": null,
            "_view_module": "@jupyter-widgets/controls",
            "_view_module_version": "1.5.0",
            "_view_name": "ProgressView",
            "bar_style": "success",
            "description": "",
            "description_tooltip": null,
            "layout": "IPY_MODEL_26105062ff504ce8a427b8a56bed8017",
            "max": 26,
            "min": 0,
            "orientation": "horizontal",
            "style": "IPY_MODEL_e79593850ab1441ea1860bb5b879d756",
            "value": 26
          }
        },
        "fe1a920d24b646bf8da467c1334f9d88": {
          "model_module": "@jupyter-widgets/controls",
          "model_module_version": "1.5.0",
          "model_name": "DescriptionStyleModel",
          "state": {
            "_model_module": "@jupyter-widgets/controls",
            "_model_module_version": "1.5.0",
            "_model_name": "DescriptionStyleModel",
            "_view_count": null,
            "_view_module": "@jupyter-widgets/base",
            "_view_module_version": "1.2.0",
            "_view_name": "StyleView",
            "description_width": ""
          }
        },
        "ffc993e533274ea0a7f5cd96dba9adf1": {
          "model_module": "@jupyter-widgets/base",
          "model_module_version": "1.2.0",
          "model_name": "LayoutModel",
          "state": {
            "_model_module": "@jupyter-widgets/base",
            "_model_module_version": "1.2.0",
            "_model_name": "LayoutModel",
            "_view_count": null,
            "_view_module": "@jupyter-widgets/base",
            "_view_module_version": "1.2.0",
            "_view_name": "LayoutView",
            "align_content": null,
            "align_items": null,
            "align_self": null,
            "border": null,
            "bottom": null,
            "display": null,
            "flex": null,
            "flex_flow": null,
            "grid_area": null,
            "grid_auto_columns": null,
            "grid_auto_flow": null,
            "grid_auto_rows": null,
            "grid_column": null,
            "grid_gap": null,
            "grid_row": null,
            "grid_template_areas": null,
            "grid_template_columns": null,
            "grid_template_rows": null,
            "height": null,
            "justify_content": null,
            "justify_items": null,
            "left": null,
            "margin": null,
            "max_height": null,
            "max_width": null,
            "min_height": null,
            "min_width": null,
            "object_fit": null,
            "object_position": null,
            "order": null,
            "overflow": null,
            "overflow_x": null,
            "overflow_y": null,
            "padding": null,
            "right": null,
            "top": null,
            "visibility": null,
            "width": null
          }
        }
      }
    }
  },
  "nbformat": 4,
  "nbformat_minor": 5
}
